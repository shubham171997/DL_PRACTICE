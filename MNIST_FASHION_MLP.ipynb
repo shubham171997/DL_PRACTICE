{
 "cells": [
  {
   "cell_type": "code",
   "execution_count": 1,
   "metadata": {
    "id": "HECX38dZ-IPw"
   },
   "outputs": [],
   "source": [
    "import tensorflow as tf"
   ]
  },
  {
   "cell_type": "code",
   "execution_count": 2,
   "metadata": {
    "id": "jgVIHzi9-IQY"
   },
   "outputs": [],
   "source": [
    "import numpy as np\n",
    "import pandas as pd"
   ]
  },
  {
   "cell_type": "code",
   "execution_count": 3,
   "metadata": {
    "id": "s61nbYcF-IQd"
   },
   "outputs": [],
   "source": [
    "import matplotlib.pyplot as plt\n",
    "import seaborn as sns"
   ]
  },
  {
   "cell_type": "code",
   "execution_count": 4,
   "metadata": {
    "id": "F2k2i0rC-IQf"
   },
   "outputs": [],
   "source": [
    "import warnings\n",
    "warnings.filterwarnings(\"ignore\")"
   ]
  },
  {
   "cell_type": "code",
   "execution_count": 5,
   "metadata": {},
   "outputs": [],
   "source": [
    "from sklearn.metrics import classification_report"
   ]
  },
  {
   "cell_type": "code",
   "execution_count": 6,
   "metadata": {
    "colab": {
     "base_uri": "https://localhost:8080/"
    },
    "id": "5CZLzFer-IQh",
    "outputId": "2b9118dd-8950-4944-d9dd-432a85245535"
   },
   "outputs": [],
   "source": [
    "fs=tf.keras.datasets.fashion_mnist\n",
    "(X_train,Y_train),(X_test,Y_test)=fs.load_data()"
   ]
  },
  {
   "cell_type": "code",
   "execution_count": 7,
   "metadata": {
    "colab": {
     "base_uri": "https://localhost:8080/"
    },
    "id": "A9rfCOls-IQj",
    "outputId": "d0931207-1853-4906-b30c-41963c26845d"
   },
   "outputs": [
    {
     "name": "stdout",
     "output_type": "stream",
     "text": [
      "(60000, 28, 28)\n",
      "(10000, 28, 28)\n"
     ]
    }
   ],
   "source": [
    "print(X_train.shape)\n",
    "print(X_test.shape)"
   ]
  },
  {
   "cell_type": "code",
   "execution_count": 8,
   "metadata": {
    "id": "Yoc-y-F9-IQq"
   },
   "outputs": [],
   "source": [
    "X_train=X_train.astype('float32')\n",
    "X_test=X_test.astype('float32') "
   ]
  },
  {
   "cell_type": "code",
   "execution_count": 9,
   "metadata": {
    "colab": {
     "base_uri": "https://localhost:8080/"
    },
    "id": "dzQU1skR-IQt",
    "outputId": "585e6312-63f7-41bf-d571-221f8f6f0a2d"
   },
   "outputs": [
    {
     "data": {
      "text/plain": [
       "(28, 28)"
      ]
     },
     "execution_count": 9,
     "metadata": {},
     "output_type": "execute_result"
    }
   ],
   "source": [
    "X_train[0].shape"
   ]
  },
  {
   "cell_type": "code",
   "execution_count": 10,
   "metadata": {
    "id": "XG1_0lJF-IQz"
   },
   "outputs": [],
   "source": [
    "re=784\n",
    "X_train=X_train.reshape(60000,re) \n",
    "X_test =X_test.reshape(10000,re) "
   ]
  },
  {
   "cell_type": "code",
   "execution_count": 11,
   "metadata": {
    "id": "H3EHhqIS-IQ1"
   },
   "outputs": [],
   "source": [
    "X_train=X_train/255\n",
    "X_test=X_test/255"
   ]
  },
  {
   "cell_type": "code",
   "execution_count": 12,
   "metadata": {
    "id": "3Wn3_y1D-IQ3"
   },
   "outputs": [],
   "source": [
    "Y_train=tf.keras.utils.to_categorical(Y_train, 10) "
   ]
  },
  {
   "cell_type": "code",
   "execution_count": 13,
   "metadata": {},
   "outputs": [],
   "source": [
    "#SGD"
   ]
  },
  {
   "cell_type": "code",
   "execution_count": 14,
   "metadata": {
    "colab": {
     "base_uri": "https://localhost:8080/"
    },
    "id": "ctVJV-71-IQ5",
    "outputId": "11991927-247a-46b6-c7a9-814c7f35fb55"
   },
   "outputs": [
    {
     "name": "stdout",
     "output_type": "stream",
     "text": [
      "Model: \"sequential\"\n",
      "_________________________________________________________________\n",
      "Layer (type)                 Output Shape              Param #   \n",
      "=================================================================\n",
      "dense (Dense)                (None, 20)                15700     \n",
      "_________________________________________________________________\n",
      "dense_1 (Dense)              (None, 40)                840       \n",
      "_________________________________________________________________\n",
      "dense_2 (Dense)              (None, 10)                410       \n",
      "=================================================================\n",
      "Total params: 16,950\n",
      "Trainable params: 16,950\n",
      "Non-trainable params: 0\n",
      "_________________________________________________________________\n"
     ]
    }
   ],
   "source": [
    "model1=tf.keras.Sequential([\n",
    "      tf.keras.layers.Dense(20,input_shape=(784,),activation=\"relu\"),\n",
    "      tf.keras.layers.Dense(40,activation=\"relu\"),\n",
    "      tf.keras.layers.Dense(10,activation=\"softmax\")\n",
    "])\n",
    "model1.summary()"
   ]
  },
  {
   "cell_type": "code",
   "execution_count": 15,
   "metadata": {
    "colab": {
     "base_uri": "https://localhost:8080/"
    },
    "id": "FS9IX4aH-IQ7",
    "outputId": "5338027e-24ec-4f55-9e28-ef35456045ee"
   },
   "outputs": [
    {
     "name": "stdout",
     "output_type": "stream",
     "text": [
      "Epoch 1/50\n",
      "1500/1500 [==============================] - 10s 7ms/step - loss: 0.8693 - accuracy: 0.7025 - val_loss: 0.6383 - val_accuracy: 0.7652\n",
      "Epoch 2/50\n",
      "1500/1500 [==============================] - 9s 6ms/step - loss: 0.5623 - accuracy: 0.8050 - val_loss: 0.5320 - val_accuracy: 0.8137\n",
      "Epoch 3/50\n",
      "1500/1500 [==============================] - 10s 6ms/step - loss: 0.5033 - accuracy: 0.8250 - val_loss: 0.4987 - val_accuracy: 0.8262\n",
      "Epoch 4/50\n",
      "1500/1500 [==============================] - 9s 6ms/step - loss: 0.4744 - accuracy: 0.8353 - val_loss: 0.4813 - val_accuracy: 0.8309\n",
      "Epoch 5/50\n",
      "1500/1500 [==============================] - 10s 6ms/step - loss: 0.4546 - accuracy: 0.8418 - val_loss: 0.4480 - val_accuracy: 0.8432\n",
      "Epoch 6/50\n",
      "1500/1500 [==============================] - 10s 6ms/step - loss: 0.4399 - accuracy: 0.8443 - val_loss: 0.4418 - val_accuracy: 0.8471\n",
      "Epoch 7/50\n",
      "1500/1500 [==============================] - 9s 6ms/step - loss: 0.4266 - accuracy: 0.8500 - val_loss: 0.4300 - val_accuracy: 0.8489\n",
      "Epoch 8/50\n",
      "1500/1500 [==============================] - 6s 4ms/step - loss: 0.4157 - accuracy: 0.8540 - val_loss: 0.4145 - val_accuracy: 0.8565\n",
      "Epoch 9/50\n",
      "1500/1500 [==============================] - 6s 4ms/step - loss: 0.4062 - accuracy: 0.8575 - val_loss: 0.4325 - val_accuracy: 0.8484\n",
      "Epoch 10/50\n",
      "1500/1500 [==============================] - 9s 6ms/step - loss: 0.3981 - accuracy: 0.8583 - val_loss: 0.4161 - val_accuracy: 0.8558\n",
      "Epoch 11/50\n",
      "1500/1500 [==============================] - 9s 6ms/step - loss: 0.3912 - accuracy: 0.8616 - val_loss: 0.4051 - val_accuracy: 0.8578\n",
      "Epoch 12/50\n",
      "1500/1500 [==============================] - 10s 7ms/step - loss: 0.3846 - accuracy: 0.8639 - val_loss: 0.4053 - val_accuracy: 0.8567\n",
      "Epoch 13/50\n",
      "1500/1500 [==============================] - 8s 5ms/step - loss: 0.3792 - accuracy: 0.8659 - val_loss: 0.4031 - val_accuracy: 0.8579\n",
      "Epoch 14/50\n",
      "1500/1500 [==============================] - 10s 6ms/step - loss: 0.3741 - accuracy: 0.8678 - val_loss: 0.3992 - val_accuracy: 0.8568\n",
      "Epoch 15/50\n",
      "1500/1500 [==============================] - 10s 6ms/step - loss: 0.3701 - accuracy: 0.8686 - val_loss: 0.3846 - val_accuracy: 0.8633\n",
      "Epoch 16/50\n",
      "1500/1500 [==============================] - 7s 5ms/step - loss: 0.3646 - accuracy: 0.8714 - val_loss: 0.3888 - val_accuracy: 0.8625\n",
      "Epoch 17/50\n",
      "1500/1500 [==============================] - 8s 6ms/step - loss: 0.3604 - accuracy: 0.8719 - val_loss: 0.3844 - val_accuracy: 0.8652\n",
      "Epoch 18/50\n",
      "1500/1500 [==============================] - 9s 6ms/step - loss: 0.3583 - accuracy: 0.8715 - val_loss: 0.4065 - val_accuracy: 0.8580\n",
      "Epoch 19/50\n",
      "1500/1500 [==============================] - 9s 6ms/step - loss: 0.3536 - accuracy: 0.8746 - val_loss: 0.3989 - val_accuracy: 0.8593\n",
      "Epoch 20/50\n",
      "1500/1500 [==============================] - 9s 6ms/step - loss: 0.3511 - accuracy: 0.8743 - val_loss: 0.3955 - val_accuracy: 0.8588\n",
      "Epoch 21/50\n",
      "1500/1500 [==============================] - 9s 6ms/step - loss: 0.3479 - accuracy: 0.8762 - val_loss: 0.3710 - val_accuracy: 0.8694\n",
      "Epoch 22/50\n",
      "1500/1500 [==============================] - 9s 6ms/step - loss: 0.3441 - accuracy: 0.8783 - val_loss: 0.3974 - val_accuracy: 0.8590\n",
      "Epoch 23/50\n",
      "1500/1500 [==============================] - 9s 6ms/step - loss: 0.3415 - accuracy: 0.8779 - val_loss: 0.3768 - val_accuracy: 0.8677\n",
      "Epoch 24/50\n",
      "1500/1500 [==============================] - 9s 6ms/step - loss: 0.3390 - accuracy: 0.8785 - val_loss: 0.3679 - val_accuracy: 0.8714\n",
      "Epoch 25/50\n",
      "1500/1500 [==============================] - 9s 6ms/step - loss: 0.3353 - accuracy: 0.8797 - val_loss: 0.3880 - val_accuracy: 0.8631\n",
      "Epoch 26/50\n",
      "1500/1500 [==============================] - 9s 6ms/step - loss: 0.3328 - accuracy: 0.8809 - val_loss: 0.3666 - val_accuracy: 0.8708\n",
      "Epoch 27/50\n",
      "1500/1500 [==============================] - 9s 6ms/step - loss: 0.3300 - accuracy: 0.8819 - val_loss: 0.3811 - val_accuracy: 0.8661\n",
      "Epoch 28/50\n",
      "1500/1500 [==============================] - 9s 6ms/step - loss: 0.3275 - accuracy: 0.8818 - val_loss: 0.3742 - val_accuracy: 0.8701\n",
      "Epoch 29/50\n",
      "1500/1500 [==============================] - 9s 6ms/step - loss: 0.3257 - accuracy: 0.8826 - val_loss: 0.3680 - val_accuracy: 0.8702\n",
      "Epoch 30/50\n",
      "1500/1500 [==============================] - 9s 6ms/step - loss: 0.3231 - accuracy: 0.8848 - val_loss: 0.3688 - val_accuracy: 0.8687\n",
      "Epoch 31/50\n",
      "1500/1500 [==============================] - 9s 6ms/step - loss: 0.3204 - accuracy: 0.8841 - val_loss: 0.3737 - val_accuracy: 0.8667\n",
      "Epoch 32/50\n",
      "1500/1500 [==============================] - 9s 6ms/step - loss: 0.3186 - accuracy: 0.8852 - val_loss: 0.3873 - val_accuracy: 0.8642\n",
      "Epoch 33/50\n",
      "1500/1500 [==============================] - 9s 6ms/step - loss: 0.3158 - accuracy: 0.8857 - val_loss: 0.3670 - val_accuracy: 0.8678\n",
      "Epoch 34/50\n",
      "1500/1500 [==============================] - 9s 6ms/step - loss: 0.3149 - accuracy: 0.8864 - val_loss: 0.3603 - val_accuracy: 0.8736\n",
      "Epoch 35/50\n",
      "1500/1500 [==============================] - 9s 6ms/step - loss: 0.3114 - accuracy: 0.8881 - val_loss: 0.3597 - val_accuracy: 0.8721\n",
      "Epoch 36/50\n",
      "1500/1500 [==============================] - 9s 6ms/step - loss: 0.3102 - accuracy: 0.8884 - val_loss: 0.3683 - val_accuracy: 0.8689\n",
      "Epoch 37/50\n",
      "1500/1500 [==============================] - 9s 6ms/step - loss: 0.3089 - accuracy: 0.8874 - val_loss: 0.3635 - val_accuracy: 0.8696\n",
      "Epoch 38/50\n",
      "1500/1500 [==============================] - 9s 6ms/step - loss: 0.3075 - accuracy: 0.8890 - val_loss: 0.3614 - val_accuracy: 0.8715\n",
      "Epoch 39/50\n",
      "1500/1500 [==============================] - 9s 6ms/step - loss: 0.3042 - accuracy: 0.8899 - val_loss: 0.3677 - val_accuracy: 0.8695\n",
      "Epoch 40/50\n",
      "1500/1500 [==============================] - 9s 6ms/step - loss: 0.3033 - accuracy: 0.8902 - val_loss: 0.3640 - val_accuracy: 0.8722\n",
      "Epoch 41/50\n",
      "1500/1500 [==============================] - 9s 6ms/step - loss: 0.3006 - accuracy: 0.8912 - val_loss: 0.3783 - val_accuracy: 0.8689\n",
      "Epoch 42/50\n",
      "1500/1500 [==============================] - 9s 6ms/step - loss: 0.2986 - accuracy: 0.8900 - val_loss: 0.3633 - val_accuracy: 0.8733\n",
      "Epoch 43/50\n",
      "1500/1500 [==============================] - 9s 6ms/step - loss: 0.2978 - accuracy: 0.8920 - val_loss: 0.3606 - val_accuracy: 0.8737\n",
      "Epoch 44/50\n",
      "1500/1500 [==============================] - 9s 6ms/step - loss: 0.2960 - accuracy: 0.8937 - val_loss: 0.3599 - val_accuracy: 0.8737\n",
      "Epoch 45/50\n",
      "1500/1500 [==============================] - 9s 6ms/step - loss: 0.2938 - accuracy: 0.8937 - val_loss: 0.3723 - val_accuracy: 0.8688\n",
      "Epoch 46/50\n",
      "1500/1500 [==============================] - 9s 6ms/step - loss: 0.2924 - accuracy: 0.8935 - val_loss: 0.3722 - val_accuracy: 0.8676\n",
      "Epoch 47/50\n",
      "1500/1500 [==============================] - 9s 6ms/step - loss: 0.2912 - accuracy: 0.8946 - val_loss: 0.3653 - val_accuracy: 0.8693\n",
      "Epoch 48/50\n",
      "1500/1500 [==============================] - 9s 6ms/step - loss: 0.2900 - accuracy: 0.8944 - val_loss: 0.3634 - val_accuracy: 0.8727\n",
      "Epoch 49/50\n",
      "1500/1500 [==============================] - 9s 6ms/step - loss: 0.2885 - accuracy: 0.8958 - val_loss: 0.3591 - val_accuracy: 0.8748\n",
      "Epoch 50/50\n",
      "1500/1500 [==============================] - 9s 6ms/step - loss: 0.2865 - accuracy: 0.8963 - val_loss: 0.3691 - val_accuracy: 0.8729\n"
     ]
    }
   ],
   "source": [
    "model1.compile(optimizer=\"sgd\",loss='categorical_crossentropy',metrics=['accuracy'])\n",
    "trained_model1=model1.fit(X_train,Y_train,epochs=50,validation_split=0.2)"
   ]
  },
  {
   "cell_type": "code",
   "execution_count": 17,
   "metadata": {
    "colab": {
     "base_uri": "https://localhost:8080/",
     "height": 295
    },
    "id": "VIiNUBrq-IRA",
    "outputId": "c4ae626c-ebdc-4284-8e3d-a345a6768e9e"
   },
   "outputs": [
    {
     "data": {
      "image/png": "[encoded data removed]",
      "text/plain": [
       "<Figure size 432x288 with 1 Axes>"
      ]
     },
     "metadata": {
      "needs_background": "light"
     },
     "output_type": "display_data"
    }
   ],
   "source": [
    "plt.plot(trained_model1.history['accuracy'])\n",
    "plt.plot(trained_model1.history['val_accuracy'])\n",
    "plt.title('model accuracy')\n",
    "plt.ylabel('accuracy')\n",
    "plt.xlabel('epoch')\n",
    "plt.legend(['train','test'],loc='upper left')\n",
    "plt.show()"
   ]
  },
  {
   "cell_type": "code",
   "execution_count": 18,
   "metadata": {
    "colab": {
     "base_uri": "https://localhost:8080/",
     "height": 295
    },
    "id": "_KRJQwR3-IRC",
    "outputId": "5da29405-40e1-4c8e-8f41-bf85e9765bc7"
   },
   "outputs": [
    {
     "data": {
      "image/png": "[encoded data removed]",
      "text/plain": [
       "<Figure size 432x288 with 1 Axes>"
      ]
     },
     "metadata": {
      "needs_background": "light"
     },
     "output_type": "display_data"
    }
   ],
   "source": [
    "plt.plot(trained_model1.history['loss'])\n",
    "plt.plot(trained_model1.history['val_loss'])\n",
    "plt.title('model loss')\n",
    "plt.ylabel('loss')\n",
    "plt.xlabel('epoch')\n",
    "plt.legend(['train','test'], loc='upper left')\n",
    "plt.show()"
   ]
  },
  {
   "cell_type": "code",
   "execution_count": 19,
   "metadata": {},
   "outputs": [
    {
     "name": "stdout",
     "output_type": "stream",
     "text": [
      "              precision    recall  f1-score   support\n",
      "\n",
      "           0       0.83      0.84      0.83      1000\n",
      "           1       0.98      0.97      0.97      1000\n",
      "           2       0.74      0.80      0.77      1000\n",
      "           3       0.87      0.85      0.86      1000\n",
      "           4       0.72      0.85      0.78      1000\n",
      "           5       0.95      0.95      0.95      1000\n",
      "           6       0.75      0.56      0.64      1000\n",
      "           7       0.94      0.93      0.94      1000\n",
      "           8       0.96      0.95      0.96      1000\n",
      "           9       0.95      0.95      0.95      1000\n",
      "\n",
      "    accuracy                           0.87     10000\n",
      "   macro avg       0.87      0.87      0.86     10000\n",
      "weighted avg       0.87      0.87      0.86     10000\n",
      "\n"
     ]
    }
   ],
   "source": [
    "Y_pred1=model1.predict(X_test)\n",
    "Y_pred1=Y_pred1.argmax(axis=1)\n",
    "print(classification_report(Y_test,Y_pred1))"
   ]
  },
  {
   "cell_type": "code",
   "execution_count": 20,
   "metadata": {
    "id": "dZvOO00U-IRE"
   },
   "outputs": [],
   "source": [
    "#mini batch"
   ]
  },
  {
   "cell_type": "code",
   "execution_count": 21,
   "metadata": {
    "colab": {
     "base_uri": "https://localhost:8080/"
    },
    "id": "Z16jIdon-IRG",
    "outputId": "ad8e6e7c-5ac1-4a04-ff55-975bb551a3d3"
   },
   "outputs": [
    {
     "name": "stdout",
     "output_type": "stream",
     "text": [
      "Model: \"sequential_1\"\n",
      "_________________________________________________________________\n",
      "Layer (type)                 Output Shape              Param #   \n",
      "=================================================================\n",
      "dense_3 (Dense)              (None, 20)                15700     \n",
      "_________________________________________________________________\n",
      "dense_4 (Dense)              (None, 40)                840       \n",
      "_________________________________________________________________\n",
      "dense_5 (Dense)              (None, 10)                410       \n",
      "=================================================================\n",
      "Total params: 16,950\n",
      "Trainable params: 16,950\n",
      "Non-trainable params: 0\n",
      "_________________________________________________________________\n"
     ]
    }
   ],
   "source": [
    "model2=tf.keras.Sequential([\n",
    "      tf.keras.layers.Dense(20,input_shape=(784,),activation=\"relu\"),\n",
    "      tf.keras.layers.Dense(40,activation=\"relu\"),\n",
    "      tf.keras.layers.Dense(10,activation=\"softmax\")\n",
    "])\n",
    "model2.summary()"
   ]
  },
  {
   "cell_type": "code",
   "execution_count": 22,
   "metadata": {
    "colab": {
     "base_uri": "https://localhost:8080/"
    },
    "id": "i-9qkPjt-IRI",
    "outputId": "9b9fac65-6006-4bed-f2d0-b392ee254dd8"
   },
   "outputs": [
    {
     "name": "stdout",
     "output_type": "stream",
     "text": [
      "Epoch 1/50\n",
      "750/750 [==============================] - 6s 9ms/step - loss: 1.1314 - accuracy: 0.6213 - val_loss: 0.7302 - val_accuracy: 0.7474\n",
      "Epoch 2/50\n",
      "750/750 [==============================] - 5s 7ms/step - loss: 0.6428 - accuracy: 0.7785 - val_loss: 0.5779 - val_accuracy: 0.7991\n",
      "Epoch 3/50\n",
      "750/750 [==============================] - 5s 7ms/step - loss: 0.5513 - accuracy: 0.8106 - val_loss: 0.5299 - val_accuracy: 0.8150\n",
      "Epoch 4/50\n",
      "750/750 [==============================] - 5s 7ms/step - loss: 0.5107 - accuracy: 0.8220 - val_loss: 0.4974 - val_accuracy: 0.8244\n",
      "Epoch 5/50\n",
      "750/750 [==============================] - 5s 7ms/step - loss: 0.4863 - accuracy: 0.8295 - val_loss: 0.4962 - val_accuracy: 0.8192\n",
      "Epoch 6/50\n",
      "750/750 [==============================] - 5s 7ms/step - loss: 0.4686 - accuracy: 0.8358 - val_loss: 0.4724 - val_accuracy: 0.8363\n",
      "Epoch 7/50\n",
      "750/750 [==============================] - 5s 7ms/step - loss: 0.4550 - accuracy: 0.8415 - val_loss: 0.4606 - val_accuracy: 0.8383\n",
      "Epoch 8/50\n",
      "750/750 [==============================] - 5s 7ms/step - loss: 0.4445 - accuracy: 0.8435 - val_loss: 0.4480 - val_accuracy: 0.8429\n",
      "Epoch 9/50\n",
      "750/750 [==============================] - 5s 7ms/step - loss: 0.4340 - accuracy: 0.8478 - val_loss: 0.4470 - val_accuracy: 0.8442\n",
      "Epoch 10/50\n",
      "750/750 [==============================] - 5s 7ms/step - loss: 0.4244 - accuracy: 0.8502 - val_loss: 0.4356 - val_accuracy: 0.8503\n",
      "Epoch 11/50\n",
      "750/750 [==============================] - 5s 7ms/step - loss: 0.4190 - accuracy: 0.8531 - val_loss: 0.4244 - val_accuracy: 0.8517\n",
      "Epoch 12/50\n",
      "750/750 [==============================] - 5s 7ms/step - loss: 0.4115 - accuracy: 0.8560 - val_loss: 0.4226 - val_accuracy: 0.8512\n",
      "Epoch 13/50\n",
      "750/750 [==============================] - 5s 7ms/step - loss: 0.4056 - accuracy: 0.8575 - val_loss: 0.4309 - val_accuracy: 0.8476\n",
      "Epoch 14/50\n",
      "750/750 [==============================] - 5s 7ms/step - loss: 0.4003 - accuracy: 0.8593 - val_loss: 0.4166 - val_accuracy: 0.8525\n",
      "Epoch 15/50\n",
      "750/750 [==============================] - 5s 7ms/step - loss: 0.3955 - accuracy: 0.8608 - val_loss: 0.4205 - val_accuracy: 0.8523\n",
      "Epoch 16/50\n",
      "750/750 [==============================] - 5s 7ms/step - loss: 0.3897 - accuracy: 0.8629 - val_loss: 0.4059 - val_accuracy: 0.8577\n",
      "Epoch 17/50\n",
      "750/750 [==============================] - 5s 7ms/step - loss: 0.3867 - accuracy: 0.8635 - val_loss: 0.4061 - val_accuracy: 0.8580\n",
      "Epoch 18/50\n",
      "750/750 [==============================] - 5s 7ms/step - loss: 0.3819 - accuracy: 0.8651 - val_loss: 0.4056 - val_accuracy: 0.8581\n",
      "Epoch 19/50\n",
      "750/750 [==============================] - 5s 7ms/step - loss: 0.3783 - accuracy: 0.8675 - val_loss: 0.4012 - val_accuracy: 0.8602\n",
      "Epoch 20/50\n",
      "750/750 [==============================] - 5s 7ms/step - loss: 0.3750 - accuracy: 0.8683 - val_loss: 0.3947 - val_accuracy: 0.8618\n",
      "Epoch 21/50\n",
      "750/750 [==============================] - 5s 7ms/step - loss: 0.3709 - accuracy: 0.8697 - val_loss: 0.3950 - val_accuracy: 0.8617\n",
      "Epoch 22/50\n",
      "750/750 [==============================] - 5s 7ms/step - loss: 0.3686 - accuracy: 0.8701 - val_loss: 0.4072 - val_accuracy: 0.8580\n",
      "Epoch 23/50\n",
      "750/750 [==============================] - 5s 7ms/step - loss: 0.3655 - accuracy: 0.8710 - val_loss: 0.3910 - val_accuracy: 0.8620\n",
      "Epoch 24/50\n",
      "750/750 [==============================] - 5s 6ms/step - loss: 0.3617 - accuracy: 0.8724 - val_loss: 0.3941 - val_accuracy: 0.8622\n",
      "Epoch 25/50\n",
      "750/750 [==============================] - 6s 8ms/step - loss: 0.3592 - accuracy: 0.8727 - val_loss: 0.3890 - val_accuracy: 0.8629\n",
      "Epoch 26/50\n",
      "750/750 [==============================] - 5s 7ms/step - loss: 0.3568 - accuracy: 0.8752 - val_loss: 0.3878 - val_accuracy: 0.8657\n",
      "Epoch 27/50\n",
      "750/750 [==============================] - 6s 8ms/step - loss: 0.3545 - accuracy: 0.8746 - val_loss: 0.3849 - val_accuracy: 0.8647\n",
      "Epoch 28/50\n",
      "750/750 [==============================] - 5s 7ms/step - loss: 0.3522 - accuracy: 0.8754 - val_loss: 0.3806 - val_accuracy: 0.8653\n",
      "Epoch 29/50\n",
      "750/750 [==============================] - 5s 7ms/step - loss: 0.3495 - accuracy: 0.8757 - val_loss: 0.3802 - val_accuracy: 0.8653\n",
      "Epoch 30/50\n",
      "750/750 [==============================] - 5s 7ms/step - loss: 0.3470 - accuracy: 0.8779 - val_loss: 0.3927 - val_accuracy: 0.8590\n",
      "Epoch 31/50\n",
      "750/750 [==============================] - 6s 7ms/step - loss: 0.3461 - accuracy: 0.8776 - val_loss: 0.3829 - val_accuracy: 0.8640\n",
      "Epoch 32/50\n",
      "750/750 [==============================] - 6s 7ms/step - loss: 0.3423 - accuracy: 0.8788 - val_loss: 0.3773 - val_accuracy: 0.8668\n",
      "Epoch 33/50\n",
      "750/750 [==============================] - 6s 7ms/step - loss: 0.3413 - accuracy: 0.8789 - val_loss: 0.3951 - val_accuracy: 0.8633\n",
      "Epoch 34/50\n",
      "750/750 [==============================] - 6s 8ms/step - loss: 0.3397 - accuracy: 0.8788 - val_loss: 0.3782 - val_accuracy: 0.8694\n",
      "Epoch 35/50\n",
      "750/750 [==============================] - 6s 7ms/step - loss: 0.3365 - accuracy: 0.8810 - val_loss: 0.3806 - val_accuracy: 0.8677\n",
      "Epoch 36/50\n",
      "750/750 [==============================] - 5s 7ms/step - loss: 0.3349 - accuracy: 0.8811 - val_loss: 0.3989 - val_accuracy: 0.8612\n",
      "Epoch 37/50\n",
      "750/750 [==============================] - 5s 7ms/step - loss: 0.3334 - accuracy: 0.8811 - val_loss: 0.3777 - val_accuracy: 0.8692\n",
      "Epoch 38/50\n",
      "750/750 [==============================] - 5s 7ms/step - loss: 0.3316 - accuracy: 0.8823 - val_loss: 0.3727 - val_accuracy: 0.8711\n",
      "Epoch 39/50\n",
      "750/750 [==============================] - 6s 8ms/step - loss: 0.3301 - accuracy: 0.8821 - val_loss: 0.3786 - val_accuracy: 0.8676\n",
      "Epoch 40/50\n",
      "750/750 [==============================] - 5s 7ms/step - loss: 0.3281 - accuracy: 0.8828 - val_loss: 0.3782 - val_accuracy: 0.8687\n",
      "Epoch 41/50\n",
      "750/750 [==============================] - 5s 7ms/step - loss: 0.3270 - accuracy: 0.8837 - val_loss: 0.3934 - val_accuracy: 0.8612\n",
      "Epoch 42/50\n",
      "750/750 [==============================] - 6s 8ms/step - loss: 0.3253 - accuracy: 0.8847 - val_loss: 0.3802 - val_accuracy: 0.8683\n",
      "Epoch 43/50\n",
      "750/750 [==============================] - 6s 8ms/step - loss: 0.3245 - accuracy: 0.8848 - val_loss: 0.3746 - val_accuracy: 0.8702\n",
      "Epoch 44/50\n",
      "750/750 [==============================] - 6s 8ms/step - loss: 0.3221 - accuracy: 0.8856 - val_loss: 0.3978 - val_accuracy: 0.8618\n",
      "Epoch 45/50\n",
      "750/750 [==============================] - 6s 8ms/step - loss: 0.3207 - accuracy: 0.8849 - val_loss: 0.3771 - val_accuracy: 0.8687\n",
      "Epoch 46/50\n",
      "750/750 [==============================] - 6s 8ms/step - loss: 0.3186 - accuracy: 0.8859 - val_loss: 0.3806 - val_accuracy: 0.8677\n",
      "Epoch 47/50\n",
      "750/750 [==============================] - 5s 7ms/step - loss: 0.3186 - accuracy: 0.8857 - val_loss: 0.3704 - val_accuracy: 0.8729\n",
      "Epoch 48/50\n",
      "750/750 [==============================] - 5s 7ms/step - loss: 0.3166 - accuracy: 0.8859 - val_loss: 0.3675 - val_accuracy: 0.8726\n",
      "Epoch 49/50\n",
      "750/750 [==============================] - 5s 7ms/step - loss: 0.3149 - accuracy: 0.8884 - val_loss: 0.3680 - val_accuracy: 0.8722\n",
      "Epoch 50/50\n",
      "750/750 [==============================] - 6s 7ms/step - loss: 0.3138 - accuracy: 0.8878 - val_loss: 0.3683 - val_accuracy: 0.8731\n"
     ]
    }
   ],
   "source": [
    "model2.compile(optimizer=\"sgd\",loss='categorical_crossentropy',metrics=['accuracy'])\n",
    "trained_model2=model2.fit(X_train,Y_train,batch_size=64,epochs=50,validation_split=0.2)"
   ]
  },
  {
   "cell_type": "code",
   "execution_count": 23,
   "metadata": {
    "colab": {
     "base_uri": "https://localhost:8080/",
     "height": 295
    },
    "id": "H7VSeHs--IRM",
    "outputId": "3b55fc42-ac40-493c-f8fa-91a8e36cd0e8"
   },
   "outputs": [
    {
     "data": {
      "image/png": "[encoded data removed]",
      "text/plain": [
       "<Figure size 432x288 with 1 Axes>"
      ]
     },
     "metadata": {
      "needs_background": "light"
     },
     "output_type": "display_data"
    }
   ],
   "source": [
    "plt.plot(trained_model2.history['accuracy'])\n",
    "plt.plot(trained_model2.history['val_accuracy'])\n",
    "plt.title('model accuracy')\n",
    "plt.ylabel('accuracy')\n",
    "plt.xlabel('epoch')\n",
    "plt.legend(['train','test'], loc='upper left')\n",
    "plt.show()"
   ]
  },
  {
   "cell_type": "code",
   "execution_count": 24,
   "metadata": {
    "colab": {
     "base_uri": "https://localhost:8080/",
     "height": 295
    },
    "id": "1b_Y4J95-IRP",
    "outputId": "e1c1a59b-f9ef-412e-81fd-0d9d66d75ac2"
   },
   "outputs": [
    {
     "data": {
      "image/png": "[encoded data removed]",
      "text/plain": [
       "<Figure size 432x288 with 1 Axes>"
      ]
     },
     "metadata": {
      "needs_background": "light"
     },
     "output_type": "display_data"
    }
   ],
   "source": [
    "plt.plot(trained_model2.history['loss'])\n",
    "plt.plot(trained_model2.history['val_loss'])\n",
    "plt.title('model loss')\n",
    "plt.ylabel('loss')\n",
    "plt.xlabel('epoch')\n",
    "plt.legend(['train','test'], loc='upper left')\n",
    "plt.show()"
   ]
  },
  {
   "cell_type": "code",
   "execution_count": 25,
   "metadata": {},
   "outputs": [
    {
     "name": "stdout",
     "output_type": "stream",
     "text": [
      "              precision    recall  f1-score   support\n",
      "\n",
      "           0       0.82      0.81      0.82      1000\n",
      "           1       0.98      0.96      0.97      1000\n",
      "           2       0.76      0.77      0.76      1000\n",
      "           3       0.84      0.89      0.86      1000\n",
      "           4       0.79      0.76      0.77      1000\n",
      "           5       0.96      0.94      0.95      1000\n",
      "           6       0.65      0.66      0.66      1000\n",
      "           7       0.92      0.94      0.93      1000\n",
      "           8       0.97      0.94      0.95      1000\n",
      "           9       0.95      0.95      0.95      1000\n",
      "\n",
      "    accuracy                           0.86     10000\n",
      "   macro avg       0.86      0.86      0.86     10000\n",
      "weighted avg       0.86      0.86      0.86     10000\n",
      "\n"
     ]
    }
   ],
   "source": [
    "Y_pred2=model2.predict(X_test)\n",
    "Y_pred2=Y_pred2.argmax(axis=1)\n",
    "print(classification_report(Y_test,Y_pred2))"
   ]
  },
  {
   "cell_type": "code",
   "execution_count": 26,
   "metadata": {
    "id": "pBb6hDyy-IRS"
   },
   "outputs": [],
   "source": [
    "#adam"
   ]
  },
  {
   "cell_type": "code",
   "execution_count": 27,
   "metadata": {
    "colab": {
     "base_uri": "https://localhost:8080/"
    },
    "id": "6LRl0v17-IRU",
    "outputId": "2b649113-b9fb-47a7-d92c-f775e5bf63f5"
   },
   "outputs": [
    {
     "name": "stdout",
     "output_type": "stream",
     "text": [
      "Model: \"sequential_2\"\n",
      "_________________________________________________________________\n",
      "Layer (type)                 Output Shape              Param #   \n",
      "=================================================================\n",
      "dense_6 (Dense)              (None, 20)                15700     \n",
      "_________________________________________________________________\n",
      "dense_7 (Dense)              (None, 40)                840       \n",
      "_________________________________________________________________\n",
      "dense_8 (Dense)              (None, 10)                410       \n",
      "=================================================================\n",
      "Total params: 16,950\n",
      "Trainable params: 16,950\n",
      "Non-trainable params: 0\n",
      "_________________________________________________________________\n"
     ]
    }
   ],
   "source": [
    "model3=tf.keras.Sequential([\n",
    "      tf.keras.layers.Dense(20,input_shape=(784,),activation=\"relu\"),\n",
    "      tf.keras.layers.Dense(40,activation=\"relu\"),\n",
    "      tf.keras.layers.Dense(10,activation=\"softmax\")\n",
    "])\n",
    "model3.summary()"
   ]
  },
  {
   "cell_type": "code",
   "execution_count": 28,
   "metadata": {
    "colab": {
     "base_uri": "https://localhost:8080/"
    },
    "id": "_o4ZdBhA-IRW",
    "outputId": "57afa06f-49f7-4553-f5df-a18883694036"
   },
   "outputs": [
    {
     "name": "stdout",
     "output_type": "stream",
     "text": [
      "Epoch 1/50\n",
      "750/750 [==============================] - 6s 7ms/step - loss: 0.6523 - accuracy: 0.7731 - val_loss: 0.4874 - val_accuracy: 0.8293\n",
      "Epoch 2/50\n",
      "750/750 [==============================] - 6s 8ms/step - loss: 0.4381 - accuracy: 0.8457 - val_loss: 0.4226 - val_accuracy: 0.8490\n",
      "Epoch 3/50\n",
      "750/750 [==============================] - 6s 8ms/step - loss: 0.4047 - accuracy: 0.8571 - val_loss: 0.4046 - val_accuracy: 0.8560\n",
      "Epoch 4/50\n",
      "750/750 [==============================] - 6s 8ms/step - loss: 0.3821 - accuracy: 0.8639 - val_loss: 0.3920 - val_accuracy: 0.8614\n",
      "Epoch 5/50\n",
      "750/750 [==============================] - 6s 8ms/step - loss: 0.3641 - accuracy: 0.8705 - val_loss: 0.3771 - val_accuracy: 0.8678\n",
      "Epoch 6/50\n",
      "750/750 [==============================] - 5s 7ms/step - loss: 0.3499 - accuracy: 0.8751 - val_loss: 0.3663 - val_accuracy: 0.8698\n",
      "Epoch 7/50\n",
      "750/750 [==============================] - 6s 8ms/step - loss: 0.3426 - accuracy: 0.8762 - val_loss: 0.3588 - val_accuracy: 0.8739\n",
      "Epoch 8/50\n",
      "750/750 [==============================] - 6s 8ms/step - loss: 0.3291 - accuracy: 0.8812 - val_loss: 0.3638 - val_accuracy: 0.8693\n",
      "Epoch 9/50\n",
      "750/750 [==============================] - 6s 8ms/step - loss: 0.3224 - accuracy: 0.8835 - val_loss: 0.3645 - val_accuracy: 0.8706\n",
      "Epoch 10/50\n",
      "750/750 [==============================] - 6s 8ms/step - loss: 0.3164 - accuracy: 0.8852 - val_loss: 0.3695 - val_accuracy: 0.8686\n",
      "Epoch 11/50\n",
      "750/750 [==============================] - 6s 8ms/step - loss: 0.3107 - accuracy: 0.8867 - val_loss: 0.3773 - val_accuracy: 0.8639\n",
      "Epoch 12/50\n",
      "750/750 [==============================] - 6s 8ms/step - loss: 0.3034 - accuracy: 0.8893 - val_loss: 0.3606 - val_accuracy: 0.8723\n",
      "Epoch 13/50\n",
      "750/750 [==============================] - 6s 8ms/step - loss: 0.2989 - accuracy: 0.8904 - val_loss: 0.3645 - val_accuracy: 0.8658\n",
      "Epoch 14/50\n",
      "750/750 [==============================] - 6s 8ms/step - loss: 0.2923 - accuracy: 0.8928 - val_loss: 0.3580 - val_accuracy: 0.8749\n",
      "Epoch 15/50\n",
      "750/750 [==============================] - 6s 8ms/step - loss: 0.2903 - accuracy: 0.8942 - val_loss: 0.3628 - val_accuracy: 0.8693\n",
      "Epoch 16/50\n",
      "750/750 [==============================] - 6s 8ms/step - loss: 0.2854 - accuracy: 0.8957 - val_loss: 0.3783 - val_accuracy: 0.8658\n",
      "Epoch 17/50\n",
      "750/750 [==============================] - 6s 8ms/step - loss: 0.2781 - accuracy: 0.8975 - val_loss: 0.3662 - val_accuracy: 0.8733\n",
      "Epoch 18/50\n",
      "750/750 [==============================] - 6s 8ms/step - loss: 0.2771 - accuracy: 0.8988 - val_loss: 0.3694 - val_accuracy: 0.8743\n",
      "Epoch 19/50\n",
      "750/750 [==============================] - 6s 8ms/step - loss: 0.2729 - accuracy: 0.8997 - val_loss: 0.3518 - val_accuracy: 0.8747\n",
      "Epoch 20/50\n",
      "750/750 [==============================] - 6s 8ms/step - loss: 0.2682 - accuracy: 0.9007 - val_loss: 0.3587 - val_accuracy: 0.8759\n",
      "Epoch 21/50\n",
      "750/750 [==============================] - 6s 8ms/step - loss: 0.2661 - accuracy: 0.9008 - val_loss: 0.3494 - val_accuracy: 0.8790\n",
      "Epoch 22/50\n",
      "750/750 [==============================] - 6s 8ms/step - loss: 0.2623 - accuracy: 0.9032 - val_loss: 0.3676 - val_accuracy: 0.8717\n",
      "Epoch 23/50\n",
      "750/750 [==============================] - 6s 8ms/step - loss: 0.2613 - accuracy: 0.9019 - val_loss: 0.3682 - val_accuracy: 0.8753\n",
      "Epoch 24/50\n",
      "750/750 [==============================] - 6s 8ms/step - loss: 0.2574 - accuracy: 0.9035 - val_loss: 0.3729 - val_accuracy: 0.8712\n",
      "Epoch 25/50\n",
      "750/750 [==============================] - 6s 8ms/step - loss: 0.2549 - accuracy: 0.9043 - val_loss: 0.3620 - val_accuracy: 0.8743\n",
      "Epoch 26/50\n",
      "750/750 [==============================] - 6s 8ms/step - loss: 0.2519 - accuracy: 0.9074 - val_loss: 0.3836 - val_accuracy: 0.8691\n",
      "Epoch 27/50\n",
      "750/750 [==============================] - 6s 8ms/step - loss: 0.2491 - accuracy: 0.9068 - val_loss: 0.3853 - val_accuracy: 0.8706\n",
      "Epoch 28/50\n",
      "750/750 [==============================] - 6s 8ms/step - loss: 0.2458 - accuracy: 0.9085 - val_loss: 0.3645 - val_accuracy: 0.8758\n",
      "Epoch 29/50\n",
      "750/750 [==============================] - 6s 8ms/step - loss: 0.2428 - accuracy: 0.9100 - val_loss: 0.3719 - val_accuracy: 0.8766\n",
      "Epoch 30/50\n",
      "750/750 [==============================] - 6s 8ms/step - loss: 0.2410 - accuracy: 0.9104 - val_loss: 0.3788 - val_accuracy: 0.8733\n",
      "Epoch 31/50\n",
      "750/750 [==============================] - 4s 6ms/step - loss: 0.2405 - accuracy: 0.9099 - val_loss: 0.3809 - val_accuracy: 0.8758\n",
      "Epoch 32/50\n",
      "750/750 [==============================] - 4s 5ms/step - loss: 0.2372 - accuracy: 0.9116 - val_loss: 0.3794 - val_accuracy: 0.8727\n",
      "Epoch 33/50\n",
      "750/750 [==============================] - 6s 8ms/step - loss: 0.2367 - accuracy: 0.9127 - val_loss: 0.3619 - val_accuracy: 0.8777\n",
      "Epoch 34/50\n",
      "750/750 [==============================] - 6s 8ms/step - loss: 0.2320 - accuracy: 0.9139 - val_loss: 0.3908 - val_accuracy: 0.8675\n",
      "Epoch 35/50\n",
      "750/750 [==============================] - 6s 8ms/step - loss: 0.2315 - accuracy: 0.9140 - val_loss: 0.3646 - val_accuracy: 0.8783\n",
      "Epoch 36/50\n",
      "750/750 [==============================] - 6s 9ms/step - loss: 0.2319 - accuracy: 0.9136 - val_loss: 0.3710 - val_accuracy: 0.8777\n",
      "Epoch 37/50\n",
      "750/750 [==============================] - 6s 9ms/step - loss: 0.2281 - accuracy: 0.9149 - val_loss: 0.3716 - val_accuracy: 0.8785\n",
      "Epoch 38/50\n",
      "750/750 [==============================] - 6s 9ms/step - loss: 0.2259 - accuracy: 0.9163 - val_loss: 0.3702 - val_accuracy: 0.8783\n",
      "Epoch 39/50\n",
      "750/750 [==============================] - 6s 9ms/step - loss: 0.2241 - accuracy: 0.9168 - val_loss: 0.3843 - val_accuracy: 0.8748\n",
      "Epoch 40/50\n",
      "750/750 [==============================] - 6s 9ms/step - loss: 0.2245 - accuracy: 0.9172 - val_loss: 0.3871 - val_accuracy: 0.8768\n",
      "Epoch 41/50\n",
      "750/750 [==============================] - 6s 9ms/step - loss: 0.2222 - accuracy: 0.9164 - val_loss: 0.3902 - val_accuracy: 0.8769\n",
      "Epoch 42/50\n",
      "750/750 [==============================] - 6s 8ms/step - loss: 0.2189 - accuracy: 0.9185 - val_loss: 0.3897 - val_accuracy: 0.8705\n",
      "Epoch 43/50\n",
      "750/750 [==============================] - 6s 8ms/step - loss: 0.2169 - accuracy: 0.9187 - val_loss: 0.3779 - val_accuracy: 0.8771\n",
      "Epoch 44/50\n",
      "750/750 [==============================] - 6s 8ms/step - loss: 0.2168 - accuracy: 0.9190 - val_loss: 0.3842 - val_accuracy: 0.8768\n",
      "Epoch 45/50\n",
      "750/750 [==============================] - 6s 8ms/step - loss: 0.2148 - accuracy: 0.9204 - val_loss: 0.3947 - val_accuracy: 0.8716\n",
      "Epoch 46/50\n",
      "750/750 [==============================] - 6s 8ms/step - loss: 0.2160 - accuracy: 0.9193 - val_loss: 0.3841 - val_accuracy: 0.8745\n",
      "Epoch 47/50\n",
      "750/750 [==============================] - 6s 8ms/step - loss: 0.2117 - accuracy: 0.9210 - val_loss: 0.3962 - val_accuracy: 0.8760\n",
      "Epoch 48/50\n",
      "750/750 [==============================] - 6s 8ms/step - loss: 0.2106 - accuracy: 0.9221 - val_loss: 0.3976 - val_accuracy: 0.8745\n",
      "Epoch 49/50\n",
      "750/750 [==============================] - 6s 8ms/step - loss: 0.2098 - accuracy: 0.9211 - val_loss: 0.4000 - val_accuracy: 0.8717\n",
      "Epoch 50/50\n",
      "750/750 [==============================] - 6s 8ms/step - loss: 0.2087 - accuracy: 0.9228 - val_loss: 0.3891 - val_accuracy: 0.8788\n"
     ]
    }
   ],
   "source": [
    "model3.compile(optimizer=\"adam\",loss='categorical_crossentropy',metrics=['accuracy'])\n",
    "trained_model3=model3.fit(X_train,Y_train,batch_size=64,epochs=50,validation_split=0.2)"
   ]
  },
  {
   "cell_type": "code",
   "execution_count": 29,
   "metadata": {
    "colab": {
     "base_uri": "https://localhost:8080/",
     "height": 295
    },
    "id": "UjYDjC3P-IRZ",
    "outputId": "4678c861-ce74-4816-d074-e4c07842a841"
   },
   "outputs": [
    {
     "data": {
      "image/png": "[encoded data removed]",
      "text/plain": [
       "<Figure size 432x288 with 1 Axes>"
      ]
     },
     "metadata": {
      "needs_background": "light"
     },
     "output_type": "display_data"
    }
   ],
   "source": [
    "plt.plot(trained_model3.history['accuracy'])\n",
    "plt.plot(trained_model3.history['val_accuracy'])\n",
    "plt.title('model accuracy')\n",
    "plt.ylabel('accuracy')\n",
    "plt.xlabel('epoch')\n",
    "plt.legend(['train','test'], loc='upper left')\n",
    "plt.show()"
   ]
  },
  {
   "cell_type": "code",
   "execution_count": 30,
   "metadata": {
    "colab": {
     "base_uri": "https://localhost:8080/",
     "height": 295
    },
    "id": "iJwVluHs-IRb",
    "outputId": "18a876c5-c60e-42a6-9dbb-7badf1e1b521"
   },
   "outputs": [
    {
     "data": {
      "image/png": "[encoded data removed]",
      "text/plain": [
       "<Figure size 432x288 with 1 Axes>"
      ]
     },
     "metadata": {
      "needs_background": "light"
     },
     "output_type": "display_data"
    }
   ],
   "source": [
    "plt.plot(trained_model3.history['loss'])\n",
    "plt.plot(trained_model3.history['val_loss'])\n",
    "plt.title('model loss')\n",
    "plt.ylabel('loss')\n",
    "plt.xlabel('epoch')\n",
    "plt.legend(['train', 'test'], loc='upper left')\n",
    "plt.show()"
   ]
  },
  {
   "cell_type": "code",
   "execution_count": 31,
   "metadata": {},
   "outputs": [
    {
     "name": "stdout",
     "output_type": "stream",
     "text": [
      "              precision    recall  f1-score   support\n",
      "\n",
      "           0       0.80      0.84      0.82      1000\n",
      "           1       0.97      0.97      0.97      1000\n",
      "           2       0.80      0.76      0.78      1000\n",
      "           3       0.86      0.89      0.87      1000\n",
      "           4       0.77      0.84      0.80      1000\n",
      "           5       0.97      0.95      0.96      1000\n",
      "           6       0.73      0.64      0.69      1000\n",
      "           7       0.93      0.93      0.93      1000\n",
      "           8       0.96      0.95      0.95      1000\n",
      "           9       0.93      0.95      0.94      1000\n",
      "\n",
      "    accuracy                           0.87     10000\n",
      "   macro avg       0.87      0.87      0.87     10000\n",
      "weighted avg       0.87      0.87      0.87     10000\n",
      "\n"
     ]
    }
   ],
   "source": [
    "Y_pred3=model3.predict(X_test)\n",
    "Y_pred3=Y_pred3.argmax(axis=1)\n",
    "print(classification_report(Y_test,Y_pred3))"
   ]
  },
  {
   "cell_type": "code",
   "execution_count": 32,
   "metadata": {},
   "outputs": [],
   "source": [
    "#multiple neuron"
   ]
  },
  {
   "cell_type": "code",
   "execution_count": 33,
   "metadata": {
    "colab": {
     "base_uri": "https://localhost:8080/"
    },
    "id": "MLa533_N-IRd",
    "outputId": "633ab62d-b563-4791-8765-c5b18fce0cf9"
   },
   "outputs": [
    {
     "name": "stdout",
     "output_type": "stream",
     "text": [
      "Model: \"sequential_3\"\n",
      "_________________________________________________________________\n",
      "Layer (type)                 Output Shape              Param #   \n",
      "=================================================================\n",
      "dense_9 (Dense)              (None, 50)                39250     \n",
      "_________________________________________________________________\n",
      "dense_10 (Dense)             (None, 100)               5100      \n",
      "_________________________________________________________________\n",
      "dense_11 (Dense)             (None, 10)                1010      \n",
      "=================================================================\n",
      "Total params: 45,360\n",
      "Trainable params: 45,360\n",
      "Non-trainable params: 0\n",
      "_________________________________________________________________\n"
     ]
    }
   ],
   "source": [
    "model4=tf.keras.Sequential([\n",
    "      tf.keras.layers.Dense(50,input_shape=(784,),activation=\"relu\"),\n",
    "      tf.keras.layers.Dense(100,activation=\"relu\"),\n",
    "      tf.keras.layers.Dense(10,activation=\"softmax\")\n",
    "])\n",
    "model4.summary()"
   ]
  },
  {
   "cell_type": "code",
   "execution_count": 34,
   "metadata": {
    "colab": {
     "base_uri": "https://localhost:8080/"
    },
    "id": "L9pJiDTj-IRf",
    "outputId": "c80e2aa3-bfde-4e85-872b-795059a38302"
   },
   "outputs": [
    {
     "name": "stdout",
     "output_type": "stream",
     "text": [
      "Epoch 1/50\n",
      "750/750 [==============================] - 7s 9ms/step - loss: 0.5641 - accuracy: 0.8043 - val_loss: 0.4610 - val_accuracy: 0.8356\n",
      "Epoch 2/50\n",
      "750/750 [==============================] - 7s 9ms/step - loss: 0.4071 - accuracy: 0.8527 - val_loss: 0.3937 - val_accuracy: 0.8573\n",
      "Epoch 3/50\n",
      "750/750 [==============================] - 6s 8ms/step - loss: 0.3630 - accuracy: 0.8676 - val_loss: 0.3641 - val_accuracy: 0.8696\n",
      "Epoch 4/50\n",
      "750/750 [==============================] - 5s 7ms/step - loss: 0.3396 - accuracy: 0.8771 - val_loss: 0.3542 - val_accuracy: 0.8742\n",
      "Epoch 5/50\n",
      "750/750 [==============================] - 7s 9ms/step - loss: 0.3222 - accuracy: 0.8816 - val_loss: 0.3527 - val_accuracy: 0.8742\n",
      "Epoch 6/50\n",
      "750/750 [==============================] - 7s 9ms/step - loss: 0.3050 - accuracy: 0.8865 - val_loss: 0.3525 - val_accuracy: 0.8733\n",
      "Epoch 7/50\n",
      "750/750 [==============================] - 7s 9ms/step - loss: 0.2959 - accuracy: 0.8893 - val_loss: 0.4186 - val_accuracy: 0.8470\n",
      "Epoch 8/50\n",
      "750/750 [==============================] - 5s 7ms/step - loss: 0.2837 - accuracy: 0.8946 - val_loss: 0.3624 - val_accuracy: 0.8673\n",
      "Epoch 9/50\n",
      "750/750 [==============================] - 6s 8ms/step - loss: 0.2717 - accuracy: 0.8983 - val_loss: 0.3324 - val_accuracy: 0.8816\n",
      "Epoch 10/50\n",
      "750/750 [==============================] - 7s 9ms/step - loss: 0.2656 - accuracy: 0.9012 - val_loss: 0.3227 - val_accuracy: 0.8850\n",
      "Epoch 11/50\n",
      "750/750 [==============================] - 6s 8ms/step - loss: 0.2574 - accuracy: 0.9045 - val_loss: 0.3520 - val_accuracy: 0.8720\n",
      "Epoch 12/50\n",
      "750/750 [==============================] - 6s 8ms/step - loss: 0.2502 - accuracy: 0.9053 - val_loss: 0.3211 - val_accuracy: 0.8867\n",
      "Epoch 13/50\n",
      "750/750 [==============================] - 7s 9ms/step - loss: 0.2433 - accuracy: 0.9086 - val_loss: 0.3343 - val_accuracy: 0.8851\n",
      "Epoch 14/50\n",
      "750/750 [==============================] - 7s 9ms/step - loss: 0.2357 - accuracy: 0.9116 - val_loss: 0.3426 - val_accuracy: 0.8827\n",
      "Epoch 15/50\n",
      "750/750 [==============================] - 6s 8ms/step - loss: 0.2329 - accuracy: 0.9122 - val_loss: 0.3346 - val_accuracy: 0.8868\n",
      "Epoch 16/50\n",
      "750/750 [==============================] - 7s 9ms/step - loss: 0.2263 - accuracy: 0.9149 - val_loss: 0.3236 - val_accuracy: 0.8842\n",
      "Epoch 17/50\n",
      "750/750 [==============================] - 7s 9ms/step - loss: 0.2187 - accuracy: 0.9174 - val_loss: 0.3507 - val_accuracy: 0.8829\n",
      "Epoch 18/50\n",
      "750/750 [==============================] - 7s 9ms/step - loss: 0.2174 - accuracy: 0.9189 - val_loss: 0.3262 - val_accuracy: 0.8879\n",
      "Epoch 19/50\n",
      "750/750 [==============================] - 7s 9ms/step - loss: 0.2115 - accuracy: 0.9204 - val_loss: 0.3567 - val_accuracy: 0.8774\n",
      "Epoch 20/50\n",
      "750/750 [==============================] - 7s 9ms/step - loss: 0.2060 - accuracy: 0.9223 - val_loss: 0.3358 - val_accuracy: 0.8813\n",
      "Epoch 21/50\n",
      "750/750 [==============================] - 6s 8ms/step - loss: 0.2034 - accuracy: 0.9229 - val_loss: 0.3342 - val_accuracy: 0.8888\n",
      "Epoch 22/50\n",
      "750/750 [==============================] - 7s 9ms/step - loss: 0.1968 - accuracy: 0.9264 - val_loss: 0.3359 - val_accuracy: 0.8898\n",
      "Epoch 23/50\n",
      "750/750 [==============================] - 7s 9ms/step - loss: 0.1912 - accuracy: 0.9266 - val_loss: 0.3491 - val_accuracy: 0.8848\n",
      "Epoch 24/50\n",
      "750/750 [==============================] - 6s 8ms/step - loss: 0.1880 - accuracy: 0.9289 - val_loss: 0.3495 - val_accuracy: 0.8873\n",
      "Epoch 25/50\n",
      "750/750 [==============================] - 5s 7ms/step - loss: 0.1853 - accuracy: 0.9310 - val_loss: 0.3394 - val_accuracy: 0.8912\n",
      "Epoch 26/50\n",
      "750/750 [==============================] - 3s 5ms/step - loss: 0.1807 - accuracy: 0.9318 - val_loss: 0.3602 - val_accuracy: 0.8878\n",
      "Epoch 27/50\n",
      "750/750 [==============================] - 4s 5ms/step - loss: 0.1792 - accuracy: 0.9325 - val_loss: 0.3893 - val_accuracy: 0.8826\n",
      "Epoch 28/50\n",
      "750/750 [==============================] - 4s 5ms/step - loss: 0.1739 - accuracy: 0.9351 - val_loss: 0.3635 - val_accuracy: 0.8864\n",
      "Epoch 29/50\n",
      "750/750 [==============================] - 4s 5ms/step - loss: 0.1723 - accuracy: 0.9348 - val_loss: 0.4121 - val_accuracy: 0.8759\n",
      "Epoch 30/50\n",
      "750/750 [==============================] - 4s 5ms/step - loss: 0.1683 - accuracy: 0.9367 - val_loss: 0.3715 - val_accuracy: 0.8906\n",
      "Epoch 31/50\n",
      "750/750 [==============================] - 4s 5ms/step - loss: 0.1660 - accuracy: 0.9367 - val_loss: 0.3767 - val_accuracy: 0.8868\n",
      "Epoch 32/50\n",
      "750/750 [==============================] - 4s 5ms/step - loss: 0.1623 - accuracy: 0.9393 - val_loss: 0.3828 - val_accuracy: 0.8874\n",
      "Epoch 33/50\n",
      "750/750 [==============================] - 4s 5ms/step - loss: 0.1577 - accuracy: 0.9404 - val_loss: 0.3951 - val_accuracy: 0.8880\n",
      "Epoch 34/50\n",
      "750/750 [==============================] - 4s 5ms/step - loss: 0.1576 - accuracy: 0.9404 - val_loss: 0.3786 - val_accuracy: 0.8873\n",
      "Epoch 35/50\n",
      "750/750 [==============================] - 4s 5ms/step - loss: 0.1536 - accuracy: 0.9419 - val_loss: 0.3870 - val_accuracy: 0.8883\n",
      "Epoch 36/50\n",
      "750/750 [==============================] - 4s 5ms/step - loss: 0.1508 - accuracy: 0.9444 - val_loss: 0.4800 - val_accuracy: 0.8744\n",
      "Epoch 37/50\n",
      "750/750 [==============================] - 4s 6ms/step - loss: 0.1490 - accuracy: 0.9440 - val_loss: 0.4064 - val_accuracy: 0.8863\n",
      "Epoch 38/50\n",
      "750/750 [==============================] - 4s 6ms/step - loss: 0.1454 - accuracy: 0.9457 - val_loss: 0.3971 - val_accuracy: 0.8896\n",
      "Epoch 39/50\n",
      "750/750 [==============================] - 4s 6ms/step - loss: 0.1439 - accuracy: 0.9455 - val_loss: 0.3883 - val_accuracy: 0.8931\n",
      "Epoch 40/50\n",
      "750/750 [==============================] - 4s 6ms/step - loss: 0.1393 - accuracy: 0.9468 - val_loss: 0.4208 - val_accuracy: 0.8841\n",
      "Epoch 41/50\n",
      "750/750 [==============================] - 4s 5ms/step - loss: 0.1409 - accuracy: 0.9482 - val_loss: 0.4160 - val_accuracy: 0.8904\n",
      "Epoch 42/50\n",
      "750/750 [==============================] - 4s 6ms/step - loss: 0.1343 - accuracy: 0.9499 - val_loss: 0.4651 - val_accuracy: 0.8845\n",
      "Epoch 43/50\n",
      "750/750 [==============================] - 4s 6ms/step - loss: 0.1336 - accuracy: 0.9500 - val_loss: 0.4154 - val_accuracy: 0.8913\n",
      "Epoch 44/50\n",
      "750/750 [==============================] - 4s 6ms/step - loss: 0.1339 - accuracy: 0.9492 - val_loss: 0.4359 - val_accuracy: 0.8847\n",
      "Epoch 45/50\n",
      "750/750 [==============================] - 4s 6ms/step - loss: 0.1317 - accuracy: 0.9505 - val_loss: 0.4414 - val_accuracy: 0.8873\n",
      "Epoch 46/50\n",
      "750/750 [==============================] - 4s 6ms/step - loss: 0.1268 - accuracy: 0.9525 - val_loss: 0.4260 - val_accuracy: 0.8870\n",
      "Epoch 47/50\n",
      "750/750 [==============================] - 4s 6ms/step - loss: 0.1269 - accuracy: 0.9523 - val_loss: 0.4337 - val_accuracy: 0.8866\n",
      "Epoch 48/50\n",
      "750/750 [==============================] - 4s 6ms/step - loss: 0.1222 - accuracy: 0.9544 - val_loss: 0.4504 - val_accuracy: 0.8896\n",
      "Epoch 49/50\n",
      "750/750 [==============================] - 4s 5ms/step - loss: 0.1220 - accuracy: 0.9541 - val_loss: 0.4543 - val_accuracy: 0.8865\n",
      "Epoch 50/50\n",
      "750/750 [==============================] - 4s 6ms/step - loss: 0.1202 - accuracy: 0.9541 - val_loss: 0.4369 - val_accuracy: 0.8900\n"
     ]
    }
   ],
   "source": [
    "model4.compile(optimizer=\"adam\",loss='categorical_crossentropy',metrics=['accuracy'])\n",
    "trained_model4=model4.fit(X_train,Y_train,batch_size=64,epochs=50,validation_split=0.2)"
   ]
  },
  {
   "cell_type": "code",
   "execution_count": 35,
   "metadata": {
    "colab": {
     "base_uri": "https://localhost:8080/",
     "height": 295
    },
    "id": "_uIvHbwd-IRj",
    "outputId": "d38b6737-fac2-40d2-9e95-9f5aca10ad0c"
   },
   "outputs": [
    {
     "data": {
      "image/png": "[encoded data removed]",
      "text/plain": [
       "<Figure size 432x288 with 1 Axes>"
      ]
     },
     "metadata": {
      "needs_background": "light"
     },
     "output_type": "display_data"
    }
   ],
   "source": [
    "plt.plot(trained_model4.history['accuracy'])\n",
    "plt.plot(trained_model4.history['val_accuracy'])\n",
    "plt.title('model accuracy')\n",
    "plt.ylabel('accuracy')\n",
    "plt.xlabel('epoch')\n",
    "plt.legend(['train','test'], loc='upper left')\n",
    "plt.show()"
   ]
  },
  {
   "cell_type": "code",
   "execution_count": 36,
   "metadata": {
    "colab": {
     "base_uri": "https://localhost:8080/",
     "height": 295
    },
    "id": "uA5PdvLB-IRm",
    "outputId": "f2bc395e-d0b2-4031-9ec7-c9fed3126946"
   },
   "outputs": [
    {
     "data": {
      "image/png": "[encoded data removed]",
      "text/plain": [
       "<Figure size 432x288 with 1 Axes>"
      ]
     },
     "metadata": {
      "needs_background": "light"
     },
     "output_type": "display_data"
    }
   ],
   "source": [
    "plt.plot(trained_model4.history['loss'])\n",
    "plt.plot(trained_model4.history['val_loss'])\n",
    "plt.title('model loss')\n",
    "plt.ylabel('loss')\n",
    "plt.xlabel('epoch')\n",
    "plt.legend(['train', 'test'], loc='upper left')\n",
    "plt.show()"
   ]
  },
  {
   "cell_type": "code",
   "execution_count": 37,
   "metadata": {},
   "outputs": [
    {
     "name": "stdout",
     "output_type": "stream",
     "text": [
      "              precision    recall  f1-score   support\n",
      "\n",
      "           0       0.81      0.85      0.83      1000\n",
      "           1       0.98      0.97      0.98      1000\n",
      "           2       0.80      0.80      0.80      1000\n",
      "           3       0.90      0.88      0.89      1000\n",
      "           4       0.76      0.85      0.80      1000\n",
      "           5       0.97      0.96      0.96      1000\n",
      "           6       0.76      0.63      0.69      1000\n",
      "           7       0.93      0.95      0.94      1000\n",
      "           8       0.96      0.97      0.97      1000\n",
      "           9       0.95      0.94      0.95      1000\n",
      "\n",
      "    accuracy                           0.88     10000\n",
      "   macro avg       0.88      0.88      0.88     10000\n",
      "weighted avg       0.88      0.88      0.88     10000\n",
      "\n"
     ]
    }
   ],
   "source": [
    "Y_pred4=model4.predict(X_test)\n",
    "Y_pred4=Y_pred4.argmax(axis=1)\n",
    "print(classification_report(Y_test,Y_pred4))"
   ]
  },
  {
   "cell_type": "code",
   "execution_count": 38,
   "metadata": {
    "id": "fH7nLEyu-IRo"
   },
   "outputs": [],
   "source": [
    "#RMS PROP"
   ]
  },
  {
   "cell_type": "code",
   "execution_count": 39,
   "metadata": {
    "colab": {
     "base_uri": "https://localhost:8080/"
    },
    "id": "MOspQeJO-IRp",
    "outputId": "1a90d9af-53e4-4d2a-e669-4b99dd0ea1d2"
   },
   "outputs": [
    {
     "name": "stdout",
     "output_type": "stream",
     "text": [
      "Model: \"sequential_4\"\n",
      "_________________________________________________________________\n",
      "Layer (type)                 Output Shape              Param #   \n",
      "=================================================================\n",
      "dense_12 (Dense)             (None, 20)                15700     \n",
      "_________________________________________________________________\n",
      "dense_13 (Dense)             (None, 40)                840       \n",
      "_________________________________________________________________\n",
      "dense_14 (Dense)             (None, 10)                410       \n",
      "=================================================================\n",
      "Total params: 16,950\n",
      "Trainable params: 16,950\n",
      "Non-trainable params: 0\n",
      "_________________________________________________________________\n"
     ]
    }
   ],
   "source": [
    "model5=tf.keras.Sequential([\n",
    "       tf.keras.layers.Dense(20,input_shape=(784,),activation=\"relu\"),\n",
    "       tf.keras.layers.Dense(40,activation=\"relu\"),\n",
    "       tf.keras.layers.Dense(10,activation=\"softmax\")\n",
    "])\n",
    "model5.summary()"
   ]
  },
  {
   "cell_type": "code",
   "execution_count": 40,
   "metadata": {
    "colab": {
     "base_uri": "https://localhost:8080/"
    },
    "id": "9stkBs0n-IRr",
    "outputId": "33d19e88-452a-49da-c242-adbc6967414d"
   },
   "outputs": [
    {
     "name": "stdout",
     "output_type": "stream",
     "text": [
      "Epoch 1/50\n",
      "1500/1500 [==============================] - 6s 4ms/step - loss: 0.5957 - accuracy: 0.7934 - val_loss: 0.4502 - val_accuracy: 0.8416\n",
      "Epoch 2/50\n",
      "1500/1500 [==============================] - 6s 4ms/step - loss: 0.4272 - accuracy: 0.8457 - val_loss: 0.4168 - val_accuracy: 0.8492\n",
      "Epoch 3/50\n",
      "1500/1500 [==============================] - 6s 4ms/step - loss: 0.3890 - accuracy: 0.8593 - val_loss: 0.4046 - val_accuracy: 0.8565\n",
      "Epoch 4/50\n",
      "1500/1500 [==============================] - 6s 4ms/step - loss: 0.3664 - accuracy: 0.8667 - val_loss: 0.3865 - val_accuracy: 0.8623\n",
      "Epoch 5/50\n",
      "1500/1500 [==============================] - 6s 4ms/step - loss: 0.3535 - accuracy: 0.8720 - val_loss: 0.3912 - val_accuracy: 0.8650\n",
      "Epoch 6/50\n",
      "1500/1500 [==============================] - 6s 4ms/step - loss: 0.3423 - accuracy: 0.8758 - val_loss: 0.3879 - val_accuracy: 0.8628\n",
      "Epoch 7/50\n",
      "1500/1500 [==============================] - 6s 4ms/step - loss: 0.3356 - accuracy: 0.8787 - val_loss: 0.3814 - val_accuracy: 0.8664\n",
      "Epoch 8/50\n",
      "1500/1500 [==============================] - 6s 4ms/step - loss: 0.3287 - accuracy: 0.8806 - val_loss: 0.3983 - val_accuracy: 0.8639\n",
      "Epoch 9/50\n",
      "1500/1500 [==============================] - 6s 4ms/step - loss: 0.3236 - accuracy: 0.8831 - val_loss: 0.3853 - val_accuracy: 0.8688\n",
      "Epoch 10/50\n",
      "1500/1500 [==============================] - 6s 4ms/step - loss: 0.3202 - accuracy: 0.8838 - val_loss: 0.3799 - val_accuracy: 0.8726\n",
      "Epoch 11/50\n",
      "1500/1500 [==============================] - 6s 4ms/step - loss: 0.3152 - accuracy: 0.8847 - val_loss: 0.4005 - val_accuracy: 0.8644\n",
      "Epoch 12/50\n",
      "1500/1500 [==============================] - 6s 4ms/step - loss: 0.3139 - accuracy: 0.8857 - val_loss: 0.3906 - val_accuracy: 0.8671\n",
      "Epoch 13/50\n",
      "1500/1500 [==============================] - 5s 4ms/step - loss: 0.3110 - accuracy: 0.8885 - val_loss: 0.4045 - val_accuracy: 0.8667\n",
      "Epoch 14/50\n",
      "1500/1500 [==============================] - 5s 4ms/step - loss: 0.3077 - accuracy: 0.8884 - val_loss: 0.4051 - val_accuracy: 0.8648\n",
      "Epoch 15/50\n",
      "1500/1500 [==============================] - 5s 4ms/step - loss: 0.3056 - accuracy: 0.8904 - val_loss: 0.4143 - val_accuracy: 0.8685\n",
      "Epoch 16/50\n",
      "1500/1500 [==============================] - 5s 4ms/step - loss: 0.3059 - accuracy: 0.8908 - val_loss: 0.3933 - val_accuracy: 0.8726\n",
      "Epoch 17/50\n",
      "1500/1500 [==============================] - 5s 4ms/step - loss: 0.3026 - accuracy: 0.8901 - val_loss: 0.4016 - val_accuracy: 0.8700\n",
      "Epoch 18/50\n",
      "1500/1500 [==============================] - 5s 4ms/step - loss: 0.3048 - accuracy: 0.8901 - val_loss: 0.4105 - val_accuracy: 0.8739\n",
      "Epoch 19/50\n",
      "1500/1500 [==============================] - 5s 4ms/step - loss: 0.3046 - accuracy: 0.8908 - val_loss: 0.4162 - val_accuracy: 0.8680\n",
      "Epoch 20/50\n",
      "1500/1500 [==============================] - 5s 4ms/step - loss: 0.2999 - accuracy: 0.8915 - val_loss: 0.4501 - val_accuracy: 0.8622\n",
      "Epoch 21/50\n",
      "1500/1500 [==============================] - 6s 4ms/step - loss: 0.3027 - accuracy: 0.8910 - val_loss: 0.4609 - val_accuracy: 0.8643\n",
      "Epoch 22/50\n",
      "1500/1500 [==============================] - 6s 4ms/step - loss: 0.2989 - accuracy: 0.8921 - val_loss: 0.4370 - val_accuracy: 0.8716\n",
      "Epoch 23/50\n",
      "1500/1500 [==============================] - 5s 4ms/step - loss: 0.3027 - accuracy: 0.8914 - val_loss: 0.4684 - val_accuracy: 0.8559\n",
      "Epoch 24/50\n",
      "1500/1500 [==============================] - 5s 4ms/step - loss: 0.3034 - accuracy: 0.8928 - val_loss: 0.4450 - val_accuracy: 0.8648\n",
      "Epoch 25/50\n",
      "1500/1500 [==============================] - 5s 4ms/step - loss: 0.3027 - accuracy: 0.8921 - val_loss: 0.4475 - val_accuracy: 0.8641\n",
      "Epoch 26/50\n",
      "1500/1500 [==============================] - 5s 4ms/step - loss: 0.3044 - accuracy: 0.8926 - val_loss: 0.4330 - val_accuracy: 0.8670\n",
      "Epoch 27/50\n",
      "1500/1500 [==============================] - 5s 4ms/step - loss: 0.3029 - accuracy: 0.8917 - val_loss: 0.4732 - val_accuracy: 0.8658\n",
      "Epoch 28/50\n",
      "1500/1500 [==============================] - 5s 4ms/step - loss: 0.3069 - accuracy: 0.8905 - val_loss: 0.4749 - val_accuracy: 0.8663\n",
      "Epoch 29/50\n",
      "1500/1500 [==============================] - 5s 4ms/step - loss: 0.3045 - accuracy: 0.8937 - val_loss: 0.4520 - val_accuracy: 0.8646\n",
      "Epoch 30/50\n",
      "1500/1500 [==============================] - 5s 4ms/step - loss: 0.3040 - accuracy: 0.8928 - val_loss: 0.4666 - val_accuracy: 0.8589\n",
      "Epoch 31/50\n",
      "1500/1500 [==============================] - 5s 4ms/step - loss: 0.3039 - accuracy: 0.8920 - val_loss: 0.5080 - val_accuracy: 0.8641\n",
      "Epoch 32/50\n",
      "1500/1500 [==============================] - 6s 4ms/step - loss: 0.3081 - accuracy: 0.8919 - val_loss: 0.5627 - val_accuracy: 0.8485\n",
      "Epoch 33/50\n",
      "1500/1500 [==============================] - 6s 4ms/step - loss: 0.3107 - accuracy: 0.8934 - val_loss: 0.4992 - val_accuracy: 0.8609\n",
      "Epoch 34/50\n",
      "1500/1500 [==============================] - 11s 7ms/step - loss: 0.3079 - accuracy: 0.8926 - val_loss: 0.5073 - val_accuracy: 0.8567\n",
      "Epoch 35/50\n",
      "1500/1500 [==============================] - 7s 5ms/step - loss: 0.3089 - accuracy: 0.8921 - val_loss: 0.4909 - val_accuracy: 0.8649\n",
      "Epoch 36/50\n",
      "1500/1500 [==============================] - 6s 4ms/step - loss: 0.3109 - accuracy: 0.8923 - val_loss: 0.5356 - val_accuracy: 0.8627\n",
      "Epoch 37/50\n",
      "1500/1500 [==============================] - 6s 4ms/step - loss: 0.3073 - accuracy: 0.8943 - val_loss: 0.5141 - val_accuracy: 0.8639\n",
      "Epoch 38/50\n",
      "1500/1500 [==============================] - 6s 4ms/step - loss: 0.3086 - accuracy: 0.8913 - val_loss: 0.5184 - val_accuracy: 0.8647\n",
      "Epoch 39/50\n",
      "1500/1500 [==============================] - 6s 4ms/step - loss: 0.3077 - accuracy: 0.8927 - val_loss: 0.5458 - val_accuracy: 0.8675\n",
      "Epoch 40/50\n",
      "1500/1500 [==============================] - 6s 4ms/step - loss: 0.3120 - accuracy: 0.8923 - val_loss: 0.5576 - val_accuracy: 0.8599\n",
      "Epoch 41/50\n",
      "1500/1500 [==============================] - 6s 4ms/step - loss: 0.3094 - accuracy: 0.8917 - val_loss: 0.5270 - val_accuracy: 0.8627\n",
      "Epoch 42/50\n",
      "1500/1500 [==============================] - 6s 4ms/step - loss: 0.3151 - accuracy: 0.8919 - val_loss: 0.5689 - val_accuracy: 0.8602\n",
      "Epoch 43/50\n",
      "1500/1500 [==============================] - 6s 4ms/step - loss: 0.3111 - accuracy: 0.8943 - val_loss: 0.5704 - val_accuracy: 0.8568\n",
      "Epoch 44/50\n",
      "1500/1500 [==============================] - 6s 4ms/step - loss: 0.3142 - accuracy: 0.8930 - val_loss: 0.5845 - val_accuracy: 0.8614\n",
      "Epoch 45/50\n",
      "1500/1500 [==============================] - 6s 4ms/step - loss: 0.3113 - accuracy: 0.8921 - val_loss: 0.5288 - val_accuracy: 0.8595\n",
      "Epoch 46/50\n",
      "1500/1500 [==============================] - 7s 4ms/step - loss: 0.3119 - accuracy: 0.8920 - val_loss: 0.6076 - val_accuracy: 0.8637\n",
      "Epoch 47/50\n",
      "1500/1500 [==============================] - 6s 4ms/step - loss: 0.3134 - accuracy: 0.8931 - val_loss: 0.5704 - val_accuracy: 0.8608\n",
      "Epoch 48/50\n",
      "1500/1500 [==============================] - 6s 4ms/step - loss: 0.3116 - accuracy: 0.8934 - val_loss: 0.5594 - val_accuracy: 0.8587\n",
      "Epoch 49/50\n",
      "1500/1500 [==============================] - 6s 4ms/step - loss: 0.3087 - accuracy: 0.8930 - val_loss: 0.5856 - val_accuracy: 0.8593\n",
      "Epoch 50/50\n",
      "1500/1500 [==============================] - 6s 4ms/step - loss: 0.3099 - accuracy: 0.8940 - val_loss: 0.6513 - val_accuracy: 0.8506\n"
     ]
    }
   ],
   "source": [
    "model5.compile(optimizer=\"rmsprop\",loss='categorical_crossentropy',metrics=['accuracy'])\n",
    "trained_model5=model5.fit(X_train,Y_train,epochs=50,validation_split=0.2)"
   ]
  },
  {
   "cell_type": "code",
   "execution_count": 41,
   "metadata": {
    "colab": {
     "base_uri": "https://localhost:8080/",
     "height": 295
    },
    "id": "3Ih2ngTQ-IRv",
    "outputId": "90e4b479-7119-49de-f4ac-7d0f908fbc5a"
   },
   "outputs": [
    {
     "data": {
      "image/png": "[encoded data removed]",
      "text/plain": [
       "<Figure size 432x288 with 1 Axes>"
      ]
     },
     "metadata": {
      "needs_background": "light"
     },
     "output_type": "display_data"
    }
   ],
   "source": [
    "plt.plot(trained_model5.history['accuracy'])\n",
    "plt.plot(trained_model5.history['val_accuracy'])\n",
    "plt.title('model accuracy')\n",
    "plt.ylabel('accuracy')\n",
    "plt.xlabel('epoch')\n",
    "plt.legend(['train','test'], loc='upper left')\n",
    "plt.show()"
   ]
  },
  {
   "cell_type": "code",
   "execution_count": 42,
   "metadata": {
    "colab": {
     "base_uri": "https://localhost:8080/",
     "height": 295
    },
    "id": "-_ma-w3Q-IRy",
    "outputId": "961bfbdf-db35-4ccf-8efc-b27666e826af"
   },
   "outputs": [
    {
     "data": {
      "image/png": "[encoded data removed]",
      "text/plain": [
       "<Figure size 432x288 with 1 Axes>"
      ]
     },
     "metadata": {
      "needs_background": "light"
     },
     "output_type": "display_data"
    }
   ],
   "source": [
    "plt.plot(trained_model5.history['loss'])\n",
    "plt.plot(trained_model5.history['val_loss'])\n",
    "plt.title('model loss')\n",
    "plt.ylabel('loss')\n",
    "plt.xlabel('epoch')\n",
    "plt.legend(['train', 'test'], loc='upper left')\n",
    "plt.show()"
   ]
  },
  {
   "cell_type": "code",
   "execution_count": 43,
   "metadata": {},
   "outputs": [
    {
     "name": "stdout",
     "output_type": "stream",
     "text": [
      "              precision    recall  f1-score   support\n",
      "\n",
      "           0       0.81      0.77      0.79      1000\n",
      "           1       0.97      0.97      0.97      1000\n",
      "           2       0.81      0.67      0.74      1000\n",
      "           3       0.85      0.87      0.86      1000\n",
      "           4       0.81      0.73      0.76      1000\n",
      "           5       0.89      0.96      0.93      1000\n",
      "           6       0.57      0.75      0.65      1000\n",
      "           7       0.94      0.91      0.92      1000\n",
      "           8       0.96      0.92      0.94      1000\n",
      "           9       0.95      0.92      0.94      1000\n",
      "\n",
      "    accuracy                           0.85     10000\n",
      "   macro avg       0.86      0.85      0.85     10000\n",
      "weighted avg       0.86      0.85      0.85     10000\n",
      "\n"
     ]
    }
   ],
   "source": [
    "Y_pred5=model5.predict(X_test)\n",
    "Y_pred5=Y_pred5.argmax(axis=1)\n",
    "print(classification_report(Y_test,Y_pred5))"
   ]
  },
  {
   "cell_type": "code",
   "execution_count": 44,
   "metadata": {
    "id": "lW2oY-zo-IR0"
   },
   "outputs": [],
   "source": [
    "#regularization"
   ]
  },
  {
   "cell_type": "code",
   "execution_count": 45,
   "metadata": {
    "colab": {
     "base_uri": "https://localhost:8080/"
    },
    "id": "3F_VWmrz-IR1",
    "outputId": "1369c603-7eb6-4797-b4a7-cf097daf5b7a"
   },
   "outputs": [
    {
     "name": "stdout",
     "output_type": "stream",
     "text": [
      "Model: \"sequential_5\"\n",
      "_________________________________________________________________\n",
      "Layer (type)                 Output Shape              Param #   \n",
      "=================================================================\n",
      "dense_15 (Dense)             (None, 20)                15700     \n",
      "_________________________________________________________________\n",
      "dense_16 (Dense)             (None, 40)                840       \n",
      "_________________________________________________________________\n",
      "dropout (Dropout)            (None, 40)                0         \n",
      "_________________________________________________________________\n",
      "dense_17 (Dense)             (None, 10)                410       \n",
      "=================================================================\n",
      "Total params: 16,950\n",
      "Trainable params: 16,950\n",
      "Non-trainable params: 0\n",
      "_________________________________________________________________\n"
     ]
    }
   ],
   "source": [
    "model6=tf.keras.Sequential([\n",
    "       tf.keras.layers.Dense(20,input_shape=(784,),activation=\"relu\"),\n",
    "       tf.keras.layers.Dense(40,activation=\"relu\"),\n",
    "       tf.keras.layers.Dropout(0.2),\n",
    "       tf.keras.layers.Dense(10,activation=\"softmax\")\n",
    "])\n",
    "model6.summary()"
   ]
  },
  {
   "cell_type": "code",
   "execution_count": 46,
   "metadata": {
    "colab": {
     "base_uri": "https://localhost:8080/"
    },
    "id": "tUIT8wbn-IR3",
    "outputId": "1f544961-6023-4f11-a4a3-3390a3e38087"
   },
   "outputs": [
    {
     "name": "stdout",
     "output_type": "stream",
     "text": [
      "Epoch 1/50\n",
      "750/750 [==============================] - 5s 6ms/step - loss: 0.7579 - accuracy: 0.7351 - val_loss: 0.4900 - val_accuracy: 0.8254\n",
      "Epoch 2/50\n",
      "750/750 [==============================] - 4s 5ms/step - loss: 0.4895 - accuracy: 0.8288 - val_loss: 0.4232 - val_accuracy: 0.8503\n",
      "Epoch 3/50\n",
      "750/750 [==============================] - 4s 5ms/step - loss: 0.4442 - accuracy: 0.8416 - val_loss: 0.4144 - val_accuracy: 0.8504\n",
      "Epoch 4/50\n",
      "750/750 [==============================] - 4s 5ms/step - loss: 0.4178 - accuracy: 0.8512 - val_loss: 0.3813 - val_accuracy: 0.8634\n",
      "Epoch 5/50\n",
      "750/750 [==============================] - 4s 5ms/step - loss: 0.3984 - accuracy: 0.8573 - val_loss: 0.3927 - val_accuracy: 0.8547\n",
      "Epoch 6/50\n",
      "750/750 [==============================] - 4s 5ms/step - loss: 0.3865 - accuracy: 0.8615 - val_loss: 0.3680 - val_accuracy: 0.8677\n",
      "Epoch 7/50\n",
      "750/750 [==============================] - 4s 5ms/step - loss: 0.3764 - accuracy: 0.8645 - val_loss: 0.3807 - val_accuracy: 0.8609\n",
      "Epoch 8/50\n",
      "750/750 [==============================] - 4s 5ms/step - loss: 0.3682 - accuracy: 0.8677 - val_loss: 0.3766 - val_accuracy: 0.8657\n",
      "Epoch 9/50\n",
      "750/750 [==============================] - 4s 5ms/step - loss: 0.3598 - accuracy: 0.8698 - val_loss: 0.3681 - val_accuracy: 0.8663\n",
      "Epoch 10/50\n",
      "750/750 [==============================] - 4s 5ms/step - loss: 0.3518 - accuracy: 0.8728 - val_loss: 0.3641 - val_accuracy: 0.8668\n",
      "Epoch 11/50\n",
      "750/750 [==============================] - 4s 5ms/step - loss: 0.3476 - accuracy: 0.8736 - val_loss: 0.3773 - val_accuracy: 0.8623\n",
      "Epoch 12/50\n",
      "750/750 [==============================] - 4s 5ms/step - loss: 0.3420 - accuracy: 0.8749 - val_loss: 0.3656 - val_accuracy: 0.8686\n",
      "Epoch 13/50\n",
      "750/750 [==============================] - 4s 5ms/step - loss: 0.3364 - accuracy: 0.8777 - val_loss: 0.3654 - val_accuracy: 0.8718\n",
      "Epoch 14/50\n",
      "750/750 [==============================] - 4s 5ms/step - loss: 0.3295 - accuracy: 0.8777 - val_loss: 0.3639 - val_accuracy: 0.8727\n",
      "Epoch 15/50\n",
      "750/750 [==============================] - 4s 5ms/step - loss: 0.3276 - accuracy: 0.8811 - val_loss: 0.3654 - val_accuracy: 0.8700\n",
      "Epoch 16/50\n",
      "750/750 [==============================] - 4s 5ms/step - loss: 0.3259 - accuracy: 0.8805 - val_loss: 0.3680 - val_accuracy: 0.8690\n",
      "Epoch 17/50\n",
      "750/750 [==============================] - 4s 5ms/step - loss: 0.3193 - accuracy: 0.8829 - val_loss: 0.3582 - val_accuracy: 0.8726\n",
      "Epoch 18/50\n",
      "750/750 [==============================] - 4s 5ms/step - loss: 0.3193 - accuracy: 0.8820 - val_loss: 0.3596 - val_accuracy: 0.8718\n",
      "Epoch 19/50\n",
      "750/750 [==============================] - 4s 5ms/step - loss: 0.3164 - accuracy: 0.8852 - val_loss: 0.3631 - val_accuracy: 0.8704\n",
      "Epoch 20/50\n",
      "750/750 [==============================] - 4s 5ms/step - loss: 0.3101 - accuracy: 0.8844 - val_loss: 0.3652 - val_accuracy: 0.8710\n",
      "Epoch 21/50\n",
      "750/750 [==============================] - 4s 5ms/step - loss: 0.3082 - accuracy: 0.8862 - val_loss: 0.3625 - val_accuracy: 0.8723\n",
      "Epoch 22/50\n",
      "750/750 [==============================] - 4s 5ms/step - loss: 0.3052 - accuracy: 0.8872 - val_loss: 0.3633 - val_accuracy: 0.8739\n",
      "Epoch 23/50\n",
      "750/750 [==============================] - 4s 5ms/step - loss: 0.3056 - accuracy: 0.8854 - val_loss: 0.3586 - val_accuracy: 0.8727\n",
      "Epoch 24/50\n",
      "750/750 [==============================] - 4s 5ms/step - loss: 0.2993 - accuracy: 0.8888 - val_loss: 0.3766 - val_accuracy: 0.8702\n",
      "Epoch 25/50\n",
      "750/750 [==============================] - 4s 5ms/step - loss: 0.2978 - accuracy: 0.8890 - val_loss: 0.3681 - val_accuracy: 0.8723\n",
      "Epoch 26/50\n",
      "750/750 [==============================] - 4s 5ms/step - loss: 0.2990 - accuracy: 0.8883 - val_loss: 0.3695 - val_accuracy: 0.8733\n",
      "Epoch 27/50\n",
      "750/750 [==============================] - 4s 5ms/step - loss: 0.2941 - accuracy: 0.8909 - val_loss: 0.3671 - val_accuracy: 0.8752\n",
      "Epoch 28/50\n",
      "750/750 [==============================] - 4s 5ms/step - loss: 0.2914 - accuracy: 0.8917 - val_loss: 0.3686 - val_accuracy: 0.8746\n",
      "Epoch 29/50\n",
      "750/750 [==============================] - 4s 5ms/step - loss: 0.2913 - accuracy: 0.8903 - val_loss: 0.3795 - val_accuracy: 0.8718\n",
      "Epoch 30/50\n",
      "750/750 [==============================] - 4s 5ms/step - loss: 0.2869 - accuracy: 0.8925 - val_loss: 0.3623 - val_accuracy: 0.8754\n",
      "Epoch 31/50\n",
      "750/750 [==============================] - 4s 5ms/step - loss: 0.2870 - accuracy: 0.8932 - val_loss: 0.3752 - val_accuracy: 0.8708\n",
      "Epoch 32/50\n",
      "750/750 [==============================] - 4s 5ms/step - loss: 0.2829 - accuracy: 0.8942 - val_loss: 0.3852 - val_accuracy: 0.8721\n",
      "Epoch 33/50\n",
      "750/750 [==============================] - 4s 5ms/step - loss: 0.2842 - accuracy: 0.8932 - val_loss: 0.3999 - val_accuracy: 0.8643\n",
      "Epoch 34/50\n",
      "750/750 [==============================] - 4s 5ms/step - loss: 0.2810 - accuracy: 0.8942 - val_loss: 0.3747 - val_accuracy: 0.8743\n",
      "Epoch 35/50\n",
      "750/750 [==============================] - 4s 5ms/step - loss: 0.2789 - accuracy: 0.8941 - val_loss: 0.3773 - val_accuracy: 0.8725\n",
      "Epoch 36/50\n",
      "750/750 [==============================] - 4s 5ms/step - loss: 0.2786 - accuracy: 0.8946 - val_loss: 0.3728 - val_accuracy: 0.8723\n",
      "Epoch 37/50\n",
      "750/750 [==============================] - 4s 5ms/step - loss: 0.2777 - accuracy: 0.8958 - val_loss: 0.3939 - val_accuracy: 0.8703\n",
      "Epoch 38/50\n",
      "750/750 [==============================] - 4s 6ms/step - loss: 0.2779 - accuracy: 0.8961 - val_loss: 0.3872 - val_accuracy: 0.8714\n",
      "Epoch 39/50\n",
      "750/750 [==============================] - 4s 5ms/step - loss: 0.2765 - accuracy: 0.8951 - val_loss: 0.3954 - val_accuracy: 0.8727\n",
      "Epoch 40/50\n",
      "750/750 [==============================] - 4s 5ms/step - loss: 0.2733 - accuracy: 0.8971 - val_loss: 0.3915 - val_accuracy: 0.8721\n",
      "Epoch 41/50\n",
      "750/750 [==============================] - 4s 5ms/step - loss: 0.2730 - accuracy: 0.8972 - val_loss: 0.3774 - val_accuracy: 0.8714\n",
      "Epoch 42/50\n",
      "750/750 [==============================] - 4s 5ms/step - loss: 0.2712 - accuracy: 0.8976 - val_loss: 0.3984 - val_accuracy: 0.8701\n",
      "Epoch 43/50\n",
      "750/750 [==============================] - 4s 5ms/step - loss: 0.2718 - accuracy: 0.8982 - val_loss: 0.3927 - val_accuracy: 0.8728\n",
      "Epoch 44/50\n",
      "750/750 [==============================] - 4s 5ms/step - loss: 0.2662 - accuracy: 0.8988 - val_loss: 0.3955 - val_accuracy: 0.8737\n",
      "Epoch 45/50\n",
      "750/750 [==============================] - 4s 5ms/step - loss: 0.2688 - accuracy: 0.8993 - val_loss: 0.3843 - val_accuracy: 0.8732\n",
      "Epoch 46/50\n",
      "750/750 [==============================] - 4s 5ms/step - loss: 0.2674 - accuracy: 0.8990 - val_loss: 0.4002 - val_accuracy: 0.8742\n",
      "Epoch 47/50\n",
      "750/750 [==============================] - 4s 5ms/step - loss: 0.2661 - accuracy: 0.8981 - val_loss: 0.4130 - val_accuracy: 0.8757\n",
      "Epoch 48/50\n",
      "750/750 [==============================] - 4s 5ms/step - loss: 0.2659 - accuracy: 0.8999 - val_loss: 0.4211 - val_accuracy: 0.8680\n",
      "Epoch 49/50\n",
      "750/750 [==============================] - 4s 5ms/step - loss: 0.2648 - accuracy: 0.9006 - val_loss: 0.3894 - val_accuracy: 0.8747\n",
      "Epoch 50/50\n",
      "750/750 [==============================] - 4s 5ms/step - loss: 0.2614 - accuracy: 0.9004 - val_loss: 0.3995 - val_accuracy: 0.8723\n"
     ]
    }
   ],
   "source": [
    "model6.compile(optimizer=\"adam\",loss='categorical_crossentropy',metrics=['accuracy'])\n",
    "trained_model6=model6.fit(X_train,Y_train,batch_size=64,epochs=50,validation_split=0.2)"
   ]
  },
  {
   "cell_type": "code",
   "execution_count": 47,
   "metadata": {
    "colab": {
     "base_uri": "https://localhost:8080/",
     "height": 295
    },
    "id": "dTfqIb2g-IR7",
    "outputId": "2d592fd9-7a0e-487d-92fe-61a24dcd0d37"
   },
   "outputs": [
    {
     "data": {
      "image/png": "[encoded data removed]",
      "text/plain": [
       "<Figure size 432x288 with 1 Axes>"
      ]
     },
     "metadata": {
      "needs_background": "light"
     },
     "output_type": "display_data"
    }
   ],
   "source": [
    "plt.plot(trained_model6.history['accuracy'])\n",
    "plt.plot(trained_model6.history['val_accuracy'])\n",
    "plt.title('model accuracy')\n",
    "plt.ylabel('accuracy')\n",
    "plt.xlabel('epoch')\n",
    "plt.legend(['train','test'], loc='upper left')\n",
    "plt.show()"
   ]
  },
  {
   "cell_type": "code",
   "execution_count": 48,
   "metadata": {
    "colab": {
     "base_uri": "https://localhost:8080/",
     "height": 295
    },
    "id": "EbCTxTdC-IR8",
    "outputId": "3eec0e6c-ccc0-429d-a0a7-8fd532ba5763"
   },
   "outputs": [
    {
     "data": {
      "image/png": "[encoded data removed]",
      "text/plain": [
       "<Figure size 432x288 with 1 Axes>"
      ]
     },
     "metadata": {
      "needs_background": "light"
     },
     "output_type": "display_data"
    }
   ],
   "source": [
    "plt.plot(trained_model6.history['loss'])\n",
    "plt.plot(trained_model6.history['val_loss'])\n",
    "plt.title('model loss')\n",
    "plt.ylabel('loss')\n",
    "plt.xlabel('epoch')\n",
    "plt.legend(['train', 'test'], loc='upper left')\n",
    "plt.show()"
   ]
  },
  {
   "cell_type": "code",
   "execution_count": 49,
   "metadata": {},
   "outputs": [
    {
     "name": "stdout",
     "output_type": "stream",
     "text": [
      "              precision    recall  f1-score   support\n",
      "\n",
      "           0       0.82      0.84      0.83      1000\n",
      "           1       0.98      0.96      0.97      1000\n",
      "           2       0.72      0.84      0.77      1000\n",
      "           3       0.88      0.85      0.86      1000\n",
      "           4       0.77      0.79      0.78      1000\n",
      "           5       0.95      0.96      0.95      1000\n",
      "           6       0.73      0.60      0.66      1000\n",
      "           7       0.92      0.95      0.93      1000\n",
      "           8       0.96      0.96      0.96      1000\n",
      "           9       0.96      0.92      0.94      1000\n",
      "\n",
      "    accuracy                           0.87     10000\n",
      "   macro avg       0.87      0.87      0.87     10000\n",
      "weighted avg       0.87      0.87      0.87     10000\n",
      "\n"
     ]
    }
   ],
   "source": [
    "Y_pred6=model6.predict(X_test)\n",
    "Y_pred6=Y_pred6.argmax(axis=1)\n",
    "print(classification_report(Y_test,Y_pred6))"
   ]
  },
  {
   "cell_type": "code",
   "execution_count": 50,
   "metadata": {
    "id": "Y-aNyf3R-IR-"
   },
   "outputs": [],
   "source": [
    "#ada graad"
   ]
  },
  {
   "cell_type": "code",
   "execution_count": 51,
   "metadata": {},
   "outputs": [
    {
     "name": "stdout",
     "output_type": "stream",
     "text": [
      "Model: \"sequential_6\"\n",
      "_________________________________________________________________\n",
      "Layer (type)                 Output Shape              Param #   \n",
      "=================================================================\n",
      "dense_18 (Dense)             (None, 20)                15700     \n",
      "_________________________________________________________________\n",
      "dense_19 (Dense)             (None, 40)                840       \n",
      "_________________________________________________________________\n",
      "dense_20 (Dense)             (None, 10)                410       \n",
      "=================================================================\n",
      "Total params: 16,950\n",
      "Trainable params: 16,950\n",
      "Non-trainable params: 0\n",
      "_________________________________________________________________\n"
     ]
    }
   ],
   "source": [
    "model7=tf.keras.Sequential([\n",
    "       tf.keras.layers.Dense(20,input_shape=(784,),activation=\"relu\"),\n",
    "       tf.keras.layers.Dense(40,activation=\"relu\"),\n",
    "       tf.keras.layers.Dense(10,activation=\"softmax\")\n",
    "])\n",
    "model7.summary()"
   ]
  },
  {
   "cell_type": "code",
   "execution_count": 52,
   "metadata": {},
   "outputs": [
    {
     "name": "stdout",
     "output_type": "stream",
     "text": [
      "Epoch 1/50\n",
      "1500/1500 [==============================] - 10s 7ms/step - loss: 1.6369 - accuracy: 0.5008 - val_loss: 1.1283 - val_accuracy: 0.6668\n",
      "Epoch 2/50\n",
      "1500/1500 [==============================] - 9s 6ms/step - loss: 0.9849 - accuracy: 0.6872 - val_loss: 0.8788 - val_accuracy: 0.7139\n",
      "Epoch 3/50\n",
      "1500/1500 [==============================] - 8s 5ms/step - loss: 0.8349 - accuracy: 0.7223 - val_loss: 0.7874 - val_accuracy: 0.7376\n",
      "Epoch 4/50\n",
      "1500/1500 [==============================] - 10s 6ms/step - loss: 0.7656 - accuracy: 0.7424 - val_loss: 0.7359 - val_accuracy: 0.7559\n",
      "Epoch 5/50\n",
      "1500/1500 [==============================] - 10s 6ms/step - loss: 0.7227 - accuracy: 0.7578 - val_loss: 0.7013 - val_accuracy: 0.7680\n",
      "Epoch 6/50\n",
      "1500/1500 [==============================] - 10s 7ms/step - loss: 0.6921 - accuracy: 0.7688 - val_loss: 0.6749 - val_accuracy: 0.7749\n",
      "Epoch 7/50\n",
      "1500/1500 [==============================] - 10s 7ms/step - loss: 0.6685 - accuracy: 0.7761 - val_loss: 0.6547 - val_accuracy: 0.7814\n",
      "Epoch 8/50\n",
      "1500/1500 [==============================] - 10s 7ms/step - loss: 0.6495 - accuracy: 0.7833 - val_loss: 0.6382 - val_accuracy: 0.7864\n",
      "Epoch 9/50\n",
      "1500/1500 [==============================] - 9s 6ms/step - loss: 0.6338 - accuracy: 0.7876 - val_loss: 0.6245 - val_accuracy: 0.7900\n",
      "Epoch 10/50\n",
      "1500/1500 [==============================] - 10s 7ms/step - loss: 0.6206 - accuracy: 0.7927 - val_loss: 0.6126 - val_accuracy: 0.7943\n",
      "Epoch 11/50\n",
      "1500/1500 [==============================] - 10s 6ms/step - loss: 0.6092 - accuracy: 0.7961 - val_loss: 0.6028 - val_accuracy: 0.7982\n",
      "Epoch 12/50\n",
      "1500/1500 [==============================] - 10s 6ms/step - loss: 0.5993 - accuracy: 0.7992 - val_loss: 0.5936 - val_accuracy: 0.8012\n",
      "Epoch 13/50\n",
      "1500/1500 [==============================] - 10s 6ms/step - loss: 0.5906 - accuracy: 0.8014 - val_loss: 0.5860 - val_accuracy: 0.8034\n",
      "Epoch 14/50\n",
      "1500/1500 [==============================] - 10s 6ms/step - loss: 0.5828 - accuracy: 0.8045 - val_loss: 0.5789 - val_accuracy: 0.8058\n",
      "Epoch 15/50\n",
      "1500/1500 [==============================] - 10s 6ms/step - loss: 0.5759 - accuracy: 0.8060 - val_loss: 0.5728 - val_accuracy: 0.8067\n",
      "Epoch 16/50\n",
      "1500/1500 [==============================] - 9s 6ms/step - loss: 0.5696 - accuracy: 0.8081 - val_loss: 0.5667 - val_accuracy: 0.8102\n",
      "Epoch 17/50\n",
      "1500/1500 [==============================] - 10s 6ms/step - loss: 0.5639 - accuracy: 0.8101 - val_loss: 0.5618 - val_accuracy: 0.8093\n",
      "Epoch 18/50\n",
      "1500/1500 [==============================] - 10s 6ms/step - loss: 0.5587 - accuracy: 0.8114 - val_loss: 0.5568 - val_accuracy: 0.8101\n",
      "Epoch 19/50\n",
      "1500/1500 [==============================] - 10s 6ms/step - loss: 0.5539 - accuracy: 0.8129 - val_loss: 0.5528 - val_accuracy: 0.8118\n",
      "Epoch 20/50\n",
      "1500/1500 [==============================] - 10s 6ms/step - loss: 0.5495 - accuracy: 0.8146 - val_loss: 0.5484 - val_accuracy: 0.8135\n",
      "Epoch 21/50\n",
      "1500/1500 [==============================] - 10s 6ms/step - loss: 0.5454 - accuracy: 0.8153 - val_loss: 0.5445 - val_accuracy: 0.8144\n",
      "Epoch 22/50\n",
      "1500/1500 [==============================] - 10s 6ms/step - loss: 0.5415 - accuracy: 0.8163 - val_loss: 0.5413 - val_accuracy: 0.8158\n",
      "Epoch 23/50\n",
      "1500/1500 [==============================] - 10s 6ms/step - loss: 0.5380 - accuracy: 0.8181 - val_loss: 0.5382 - val_accuracy: 0.8165\n",
      "Epoch 24/50\n",
      "1500/1500 [==============================] - 9s 6ms/step - loss: 0.5346 - accuracy: 0.8186 - val_loss: 0.5349 - val_accuracy: 0.8168\n",
      "Epoch 25/50\n",
      "1500/1500 [==============================] - 10s 6ms/step - loss: 0.5314 - accuracy: 0.8199 - val_loss: 0.5320 - val_accuracy: 0.8176\n",
      "Epoch 26/50\n",
      "1500/1500 [==============================] - 10s 6ms/step - loss: 0.5284 - accuracy: 0.8209 - val_loss: 0.5290 - val_accuracy: 0.8186\n",
      "Epoch 27/50\n",
      "1500/1500 [==============================] - 9s 6ms/step - loss: 0.5256 - accuracy: 0.8217 - val_loss: 0.5267 - val_accuracy: 0.8183\n",
      "Epoch 28/50\n",
      "1500/1500 [==============================] - 9s 6ms/step - loss: 0.5228 - accuracy: 0.8222 - val_loss: 0.5239 - val_accuracy: 0.8206\n",
      "Epoch 29/50\n",
      "1500/1500 [==============================] - 10s 7ms/step - loss: 0.5203 - accuracy: 0.8228 - val_loss: 0.5216 - val_accuracy: 0.8202\n",
      "Epoch 30/50\n",
      "1500/1500 [==============================] - 10s 7ms/step - loss: 0.5178 - accuracy: 0.8235 - val_loss: 0.5193 - val_accuracy: 0.8209\n",
      "Epoch 31/50\n",
      "1500/1500 [==============================] - 10s 7ms/step - loss: 0.5155 - accuracy: 0.8244 - val_loss: 0.5175 - val_accuracy: 0.8220\n",
      "Epoch 32/50\n",
      "1500/1500 [==============================] - 9s 6ms/step - loss: 0.5132 - accuracy: 0.8248 - val_loss: 0.5153 - val_accuracy: 0.8219\n",
      "Epoch 33/50\n",
      "1500/1500 [==============================] - 10s 7ms/step - loss: 0.5111 - accuracy: 0.8255 - val_loss: 0.5137 - val_accuracy: 0.8238\n",
      "Epoch 34/50\n",
      "1500/1500 [==============================] - 10s 7ms/step - loss: 0.5090 - accuracy: 0.8260 - val_loss: 0.5115 - val_accuracy: 0.8240\n",
      "Epoch 35/50\n",
      "1500/1500 [==============================] - 10s 7ms/step - loss: 0.5071 - accuracy: 0.8272 - val_loss: 0.5103 - val_accuracy: 0.8244\n",
      "Epoch 36/50\n",
      "1500/1500 [==============================] - 10s 6ms/step - loss: 0.5051 - accuracy: 0.8270 - val_loss: 0.5081 - val_accuracy: 0.8240\n",
      "Epoch 37/50\n",
      "1500/1500 [==============================] - 10s 6ms/step - loss: 0.5033 - accuracy: 0.8284 - val_loss: 0.5061 - val_accuracy: 0.8252\n",
      "Epoch 38/50\n",
      "1500/1500 [==============================] - 10s 6ms/step - loss: 0.5016 - accuracy: 0.8281 - val_loss: 0.5046 - val_accuracy: 0.8253\n",
      "Epoch 39/50\n",
      "1500/1500 [==============================] - 10s 6ms/step - loss: 0.5000 - accuracy: 0.8287 - val_loss: 0.5033 - val_accuracy: 0.8251\n",
      "Epoch 40/50\n",
      "1500/1500 [==============================] - 8s 6ms/step - loss: 0.4982 - accuracy: 0.8294 - val_loss: 0.5015 - val_accuracy: 0.8262\n",
      "Epoch 41/50\n",
      "1500/1500 [==============================] - 10s 6ms/step - loss: 0.4967 - accuracy: 0.8299 - val_loss: 0.5003 - val_accuracy: 0.8265\n",
      "Epoch 42/50\n",
      "1500/1500 [==============================] - 10s 6ms/step - loss: 0.4952 - accuracy: 0.8307 - val_loss: 0.4986 - val_accuracy: 0.8263\n",
      "Epoch 43/50\n",
      "1500/1500 [==============================] - 10s 6ms/step - loss: 0.4937 - accuracy: 0.8302 - val_loss: 0.4977 - val_accuracy: 0.8267\n",
      "Epoch 44/50\n",
      "1500/1500 [==============================] - 10s 6ms/step - loss: 0.4922 - accuracy: 0.8310 - val_loss: 0.4962 - val_accuracy: 0.8265\n",
      "Epoch 45/50\n",
      "1500/1500 [==============================] - 10s 6ms/step - loss: 0.4909 - accuracy: 0.8316 - val_loss: 0.4947 - val_accuracy: 0.8273\n",
      "Epoch 46/50\n",
      "1500/1500 [==============================] - 10s 6ms/step - loss: 0.4895 - accuracy: 0.8322 - val_loss: 0.4936 - val_accuracy: 0.8278\n",
      "Epoch 47/50\n",
      "1500/1500 [==============================] - 10s 6ms/step - loss: 0.4882 - accuracy: 0.8327 - val_loss: 0.4924 - val_accuracy: 0.8285\n",
      "Epoch 48/50\n",
      "1500/1500 [==============================] - 10s 6ms/step - loss: 0.4869 - accuracy: 0.8333 - val_loss: 0.4911 - val_accuracy: 0.8288\n",
      "Epoch 49/50\n",
      "1500/1500 [==============================] - 10s 6ms/step - loss: 0.4858 - accuracy: 0.8339 - val_loss: 0.4901 - val_accuracy: 0.8291\n",
      "Epoch 50/50\n",
      "1500/1500 [==============================] - 10s 6ms/step - loss: 0.4845 - accuracy: 0.8339 - val_loss: 0.4895 - val_accuracy: 0.8290\n"
     ]
    }
   ],
   "source": [
    "model7.compile(optimizer=\"adagrad\",loss='categorical_crossentropy',metrics=['accuracy'])\n",
    "trained_model7=model7.fit(X_train,Y_train,epochs=50,validation_split=0.2)"
   ]
  },
  {
   "cell_type": "code",
   "execution_count": 53,
   "metadata": {},
   "outputs": [
    {
     "data": {
      "image/png": "[encoded data removed]",
      "text/plain": [
       "<Figure size 432x288 with 1 Axes>"
      ]
     },
     "metadata": {
      "needs_background": "light"
     },
     "output_type": "display_data"
    }
   ],
   "source": [
    "plt.plot(trained_model7.history['accuracy'])\n",
    "plt.plot(trained_model7.history['val_accuracy'])\n",
    "plt.title('model accuracy')\n",
    "plt.ylabel('accuracy')\n",
    "plt.xlabel('epoch')\n",
    "plt.legend(['train','test'], loc='upper left')\n",
    "plt.show()"
   ]
  },
  {
   "cell_type": "code",
   "execution_count": 54,
   "metadata": {},
   "outputs": [
    {
     "data": {
      "image/png": "[encoded data removed]",
      "text/plain": [
       "<Figure size 432x288 with 1 Axes>"
      ]
     },
     "metadata": {
      "needs_background": "light"
     },
     "output_type": "display_data"
    }
   ],
   "source": [
    "plt.plot(trained_model7.history['loss'])\n",
    "plt.plot(trained_model7.history['val_loss'])\n",
    "plt.title('model loss')\n",
    "plt.ylabel('loss')\n",
    "plt.xlabel('epoch')\n",
    "plt.legend(['train','test'], loc='upper left')\n",
    "plt.show()"
   ]
  },
  {
   "cell_type": "code",
   "execution_count": 55,
   "metadata": {},
   "outputs": [
    {
     "name": "stdout",
     "output_type": "stream",
     "text": [
      "              precision    recall  f1-score   support\n",
      "\n",
      "           0       0.78      0.80      0.79      1000\n",
      "           1       0.97      0.94      0.95      1000\n",
      "           2       0.71      0.70      0.70      1000\n",
      "           3       0.81      0.85      0.83      1000\n",
      "           4       0.71      0.75      0.73      1000\n",
      "           5       0.94      0.88      0.91      1000\n",
      "           6       0.59      0.52      0.56      1000\n",
      "           7       0.88      0.90      0.89      1000\n",
      "           8       0.92      0.94      0.93      1000\n",
      "           9       0.89      0.94      0.92      1000\n",
      "\n",
      "    accuracy                           0.82     10000\n",
      "   macro avg       0.82      0.82      0.82     10000\n",
      "weighted avg       0.82      0.82      0.82     10000\n",
      "\n"
     ]
    }
   ],
   "source": [
    "Y_pred7=model7.predict(X_test)\n",
    "Y_pred7=Y_pred7.argmax(axis=1)\n",
    "print(classification_report(Y_test,Y_pred7))"
   ]
  },
  {
   "cell_type": "code",
   "execution_count": 56,
   "metadata": {},
   "outputs": [],
   "source": [
    "#manipulate epochs and batch_size"
   ]
  },
  {
   "cell_type": "code",
   "execution_count": 57,
   "metadata": {},
   "outputs": [
    {
     "name": "stdout",
     "output_type": "stream",
     "text": [
      "Model: \"sequential_7\"\n",
      "_________________________________________________________________\n",
      "Layer (type)                 Output Shape              Param #   \n",
      "=================================================================\n",
      "dense_21 (Dense)             (None, 20)                15700     \n",
      "_________________________________________________________________\n",
      "dense_22 (Dense)             (None, 40)                840       \n",
      "_________________________________________________________________\n",
      "dense_23 (Dense)             (None, 10)                410       \n",
      "=================================================================\n",
      "Total params: 16,950\n",
      "Trainable params: 16,950\n",
      "Non-trainable params: 0\n",
      "_________________________________________________________________\n"
     ]
    }
   ],
   "source": [
    "model8=tf.keras.Sequential([\n",
    "       tf.keras.layers.Dense(20,input_shape=(784,),activation=\"relu\"),\n",
    "       tf.keras.layers.Dense(40,activation=\"relu\"),\n",
    "       tf.keras.layers.Dense(10,activation=\"softmax\")\n",
    "])\n",
    "model8.summary()"
   ]
  },
  {
   "cell_type": "code",
   "execution_count": 58,
   "metadata": {},
   "outputs": [
    {
     "name": "stdout",
     "output_type": "stream",
     "text": [
      "Epoch 1/30\n",
      "   1/1500 [..............................] - ETA: 0s - loss: 2.4253 - accuracy: 0.0312WARNING:tensorflow:Callbacks method `on_train_batch_begin` is slow compared to the batch time (batch time: 0.0000s vs `on_train_batch_begin` time: 0.0156s). Check your callbacks.\n",
      "1500/1500 [==============================] - 10s 7ms/step - loss: 0.6016 - accuracy: 0.7905 - val_loss: 0.5000 - val_accuracy: 0.8215\n",
      "Epoch 2/30\n",
      "1500/1500 [==============================] - 7s 5ms/step - loss: 0.4264 - accuracy: 0.8499 - val_loss: 0.4066 - val_accuracy: 0.8595\n",
      "Epoch 3/30\n",
      "1500/1500 [==============================] - 10s 7ms/step - loss: 0.3923 - accuracy: 0.8604 - val_loss: 0.4209 - val_accuracy: 0.8495\n",
      "Epoch 4/30\n",
      "1500/1500 [==============================] - 10s 7ms/step - loss: 0.3725 - accuracy: 0.8654 - val_loss: 0.4071 - val_accuracy: 0.8537\n",
      "Epoch 5/30\n",
      "1500/1500 [==============================] - 10s 6ms/step - loss: 0.3575 - accuracy: 0.8709 - val_loss: 0.3680 - val_accuracy: 0.8698\n",
      "Epoch 6/30\n",
      "1500/1500 [==============================] - 10s 7ms/step - loss: 0.3459 - accuracy: 0.8745 - val_loss: 0.3694 - val_accuracy: 0.8711\n",
      "Epoch 7/30\n",
      "1500/1500 [==============================] - 10s 7ms/step - loss: 0.3355 - accuracy: 0.8781 - val_loss: 0.3637 - val_accuracy: 0.8712\n",
      "Epoch 8/30\n",
      "1500/1500 [==============================] - 10s 7ms/step - loss: 0.3287 - accuracy: 0.8802 - val_loss: 0.3731 - val_accuracy: 0.8692\n",
      "Epoch 9/30\n",
      "1500/1500 [==============================] - 8s 6ms/step - loss: 0.3217 - accuracy: 0.8830 - val_loss: 0.3852 - val_accuracy: 0.8654\n",
      "Epoch 10/30\n",
      "1500/1500 [==============================] - 10s 7ms/step - loss: 0.3154 - accuracy: 0.8856 - val_loss: 0.3593 - val_accuracy: 0.8735\n",
      "Epoch 11/30\n",
      "1500/1500 [==============================] - 10s 7ms/step - loss: 0.3077 - accuracy: 0.8880 - val_loss: 0.3650 - val_accuracy: 0.8742\n",
      "Epoch 12/30\n",
      "1500/1500 [==============================] - 10s 7ms/step - loss: 0.3039 - accuracy: 0.8894 - val_loss: 0.3719 - val_accuracy: 0.8657\n",
      "Epoch 13/30\n",
      "1500/1500 [==============================] - 10s 7ms/step - loss: 0.3008 - accuracy: 0.8899 - val_loss: 0.3480 - val_accuracy: 0.8768\n",
      "Epoch 14/30\n",
      "1500/1500 [==============================] - 9s 6ms/step - loss: 0.2917 - accuracy: 0.8925 - val_loss: 0.3464 - val_accuracy: 0.8774\n",
      "Epoch 15/30\n",
      "1500/1500 [==============================] - 10s 7ms/step - loss: 0.2921 - accuracy: 0.8926 - val_loss: 0.3578 - val_accuracy: 0.8752\n",
      "Epoch 16/30\n",
      "1500/1500 [==============================] - 10s 7ms/step - loss: 0.2868 - accuracy: 0.8940 - val_loss: 0.3618 - val_accuracy: 0.8735\n",
      "Epoch 17/30\n",
      "1500/1500 [==============================] - 10s 7ms/step - loss: 0.2811 - accuracy: 0.8978 - val_loss: 0.3525 - val_accuracy: 0.8807\n",
      "Epoch 18/30\n",
      "1500/1500 [==============================] - 10s 7ms/step - loss: 0.2774 - accuracy: 0.8979 - val_loss: 0.3497 - val_accuracy: 0.8780\n",
      "Epoch 19/30\n",
      "1500/1500 [==============================] - 10s 7ms/step - loss: 0.2765 - accuracy: 0.8980 - val_loss: 0.3576 - val_accuracy: 0.8763\n",
      "Epoch 20/30\n",
      "1500/1500 [==============================] - 10s 7ms/step - loss: 0.2728 - accuracy: 0.8991 - val_loss: 0.3658 - val_accuracy: 0.8742\n",
      "Epoch 21/30\n",
      "1500/1500 [==============================] - 10s 7ms/step - loss: 0.2706 - accuracy: 0.9006 - val_loss: 0.3623 - val_accuracy: 0.8751\n",
      "Epoch 22/30\n",
      "1500/1500 [==============================] - 10s 6ms/step - loss: 0.2672 - accuracy: 0.9019 - val_loss: 0.3634 - val_accuracy: 0.8753\n",
      "Epoch 23/30\n",
      "1500/1500 [==============================] - 11s 7ms/step - loss: 0.2657 - accuracy: 0.9033 - val_loss: 0.3548 - val_accuracy: 0.8779\n",
      "Epoch 24/30\n",
      "1500/1500 [==============================] - 10s 7ms/step - loss: 0.2612 - accuracy: 0.9052 - val_loss: 0.3598 - val_accuracy: 0.8811\n",
      "Epoch 25/30\n",
      "1500/1500 [==============================] - 10s 7ms/step - loss: 0.2613 - accuracy: 0.9035 - val_loss: 0.3713 - val_accuracy: 0.8756\n",
      "Epoch 26/30\n",
      "1500/1500 [==============================] - 10s 7ms/step - loss: 0.2604 - accuracy: 0.9037 - val_loss: 0.3500 - val_accuracy: 0.8823\n",
      "Epoch 27/30\n",
      "1500/1500 [==============================] - 10s 7ms/step - loss: 0.2569 - accuracy: 0.9062 - val_loss: 0.3637 - val_accuracy: 0.8756\n",
      "Epoch 28/30\n",
      "1500/1500 [==============================] - 10s 7ms/step - loss: 0.2534 - accuracy: 0.9070 - val_loss: 0.3782 - val_accuracy: 0.8773\n",
      "Epoch 29/30\n",
      "1500/1500 [==============================] - 10s 7ms/step - loss: 0.2511 - accuracy: 0.9077 - val_loss: 0.3792 - val_accuracy: 0.8733\n",
      "Epoch 30/30\n",
      "1500/1500 [==============================] - 10s 7ms/step - loss: 0.2494 - accuracy: 0.9087 - val_loss: 0.3912 - val_accuracy: 0.8658\n"
     ]
    }
   ],
   "source": [
    "model8.compile(optimizer=\"adam\",loss='categorical_crossentropy',metrics=['accuracy'])\n",
    "trained_model8=model8.fit(X_train,Y_train,batch_size=32,epochs=30,validation_split=0.2)"
   ]
  },
  {
   "cell_type": "code",
   "execution_count": 59,
   "metadata": {},
   "outputs": [
    {
     "data": {
      "image/png": "[encoded data removed]",
      "text/plain": [
       "<Figure size 432x288 with 1 Axes>"
      ]
     },
     "metadata": {
      "needs_background": "light"
     },
     "output_type": "display_data"
    }
   ],
   "source": [
    "plt.plot(trained_model8.history['accuracy'])\n",
    "plt.plot(trained_model8.history['val_accuracy'])\n",
    "plt.title('model accuracy')\n",
    "plt.ylabel('accuracy')\n",
    "plt.xlabel('epoch')\n",
    "plt.legend(['train','test'], loc='upper left')\n",
    "plt.show()"
   ]
  },
  {
   "cell_type": "code",
   "execution_count": 60,
   "metadata": {},
   "outputs": [
    {
     "data": {
      "image/png": "[encoded data removed]",
      "text/plain": [
       "<Figure size 432x288 with 1 Axes>"
      ]
     },
     "metadata": {
      "needs_background": "light"
     },
     "output_type": "display_data"
    }
   ],
   "source": [
    "plt.plot(trained_model8.history['loss'])\n",
    "plt.plot(trained_model8.history['val_loss'])\n",
    "plt.title('model loss')\n",
    "plt.ylabel('loss')\n",
    "plt.xlabel('epoch')\n",
    "plt.legend(['train','test'], loc='upper left')\n",
    "plt.show()"
   ]
  },
  {
   "cell_type": "code",
   "execution_count": 61,
   "metadata": {},
   "outputs": [
    {
     "name": "stdout",
     "output_type": "stream",
     "text": [
      "              precision    recall  f1-score   support\n",
      "\n",
      "           0       0.82      0.82      0.82      1000\n",
      "           1       0.99      0.96      0.97      1000\n",
      "           2       0.73      0.78      0.75      1000\n",
      "           3       0.86      0.88      0.87      1000\n",
      "           4       0.85      0.61      0.71      1000\n",
      "           5       0.96      0.95      0.96      1000\n",
      "           6       0.61      0.75      0.67      1000\n",
      "           7       0.95      0.93      0.94      1000\n",
      "           8       0.97      0.94      0.95      1000\n",
      "           9       0.94      0.96      0.95      1000\n",
      "\n",
      "    accuracy                           0.86     10000\n",
      "   macro avg       0.87      0.86      0.86     10000\n",
      "weighted avg       0.87      0.86      0.86     10000\n",
      "\n"
     ]
    }
   ],
   "source": [
    "Y_pred8=model8.predict(X_test)\n",
    "Y_pred8=Y_pred8.argmax(axis=1)\n",
    "print(classification_report(Y_test,Y_pred8))"
   ]
  },
  {
   "cell_type": "code",
   "execution_count": null,
   "metadata": {},
   "outputs": [],
   "source": []
  }
 ],
 "metadata": {
  "colab": {
   "collapsed_sections": [],
   "name": "MLP_FASHION.ipynb",
   "provenance": []
  },
  "kernelspec": {
   "display_name": "Python 3",
   "language": "python",
   "name": "python3"
  },
  "language_info": {
   "codemirror_mode": {
    "name": "ipython",
    "version": 3
   },
   "file_extension": ".py",
   "mimetype": "text/x-python",
   "name": "python",
   "nbconvert_exporter": "python",
   "pygments_lexer": "ipython3",
   "version": "3.7.4"
  }
 },
 "nbformat": 4,
 "nbformat_minor": 1
}
