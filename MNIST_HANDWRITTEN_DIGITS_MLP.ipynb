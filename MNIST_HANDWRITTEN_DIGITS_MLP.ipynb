{
 "cells": [
  {
   "cell_type": "code",
   "execution_count": 1,
   "metadata": {
    "id": "HECX38dZ-IPw"
   },
   "outputs": [],
   "source": [
    "import tensorflow as tf"
   ]
  },
  {
   "cell_type": "code",
   "execution_count": 2,
   "metadata": {
    "id": "jgVIHzi9-IQY"
   },
   "outputs": [],
   "source": [
    "import numpy as np\n",
    "import pandas as pd"
   ]
  },
  {
   "cell_type": "code",
   "execution_count": 3,
   "metadata": {
    "id": "s61nbYcF-IQd"
   },
   "outputs": [],
   "source": [
    "import matplotlib.pyplot as plt\n",
    "import seaborn as sns"
   ]
  },
  {
   "cell_type": "code",
   "execution_count": 4,
   "metadata": {
    "id": "F2k2i0rC-IQf"
   },
   "outputs": [],
   "source": [
    "import warnings\n",
    "warnings.filterwarnings(\"ignore\")"
   ]
  },
  {
   "cell_type": "code",
   "execution_count": 5,
   "metadata": {},
   "outputs": [],
   "source": [
    "from sklearn.metrics import classification_report"
   ]
  },
  {
   "cell_type": "code",
   "execution_count": 6,
   "metadata": {
    "colab": {
     "base_uri": "https://localhost:8080/"
    },
    "id": "5CZLzFer-IQh",
    "outputId": "2b9118dd-8950-4944-d9dd-432a85245535"
   },
   "outputs": [],
   "source": [
    "mn=tf.keras.datasets.mnist\n",
    "(X_train,Y_train),(X_test,Y_test)=mn.load_data()"
   ]
  },
  {
   "cell_type": "code",
   "execution_count": 7,
   "metadata": {
    "colab": {
     "base_uri": "https://localhost:8080/"
    },
    "id": "A9rfCOls-IQj",
    "outputId": "d0931207-1853-4906-b30c-41963c26845d"
   },
   "outputs": [
    {
     "name": "stdout",
     "output_type": "stream",
     "text": [
      "(60000, 28, 28)\n",
      "(10000, 28, 28)\n"
     ]
    }
   ],
   "source": [
    "print(X_train.shape)\n",
    "print(X_test.shape)"
   ]
  },
  {
   "cell_type": "code",
   "execution_count": 8,
   "metadata": {
    "id": "Yoc-y-F9-IQq"
   },
   "outputs": [],
   "source": [
    "X_train=X_train.astype('float32')\n",
    "X_test=X_test.astype('float32') "
   ]
  },
  {
   "cell_type": "code",
   "execution_count": 9,
   "metadata": {
    "colab": {
     "base_uri": "https://localhost:8080/"
    },
    "id": "dzQU1skR-IQt",
    "outputId": "585e6312-63f7-41bf-d571-221f8f6f0a2d"
   },
   "outputs": [
    {
     "data": {
      "text/plain": [
       "(28, 28)"
      ]
     },
     "execution_count": 9,
     "metadata": {},
     "output_type": "execute_result"
    }
   ],
   "source": [
    "X_train[0].shape"
   ]
  },
  {
   "cell_type": "code",
   "execution_count": 10,
   "metadata": {
    "id": "XG1_0lJF-IQz"
   },
   "outputs": [],
   "source": [
    "re=784\n",
    "X_train=X_train.reshape(60000,re) \n",
    "X_test =X_test.reshape(10000,re) "
   ]
  },
  {
   "cell_type": "code",
   "execution_count": 11,
   "metadata": {
    "id": "H3EHhqIS-IQ1"
   },
   "outputs": [],
   "source": [
    "X_train=X_train/255\n",
    "X_test=X_test/255"
   ]
  },
  {
   "cell_type": "code",
   "execution_count": 12,
   "metadata": {
    "id": "3Wn3_y1D-IQ3"
   },
   "outputs": [],
   "source": [
    "Y_train=tf.keras.utils.to_categorical(Y_train,10) "
   ]
  },
  {
   "cell_type": "code",
   "execution_count": 13,
   "metadata": {},
   "outputs": [],
   "source": [
    "#SGD"
   ]
  },
  {
   "cell_type": "code",
   "execution_count": 14,
   "metadata": {
    "colab": {
     "base_uri": "https://localhost:8080/"
    },
    "id": "ctVJV-71-IQ5",
    "outputId": "11991927-247a-46b6-c7a9-814c7f35fb55"
   },
   "outputs": [
    {
     "name": "stdout",
     "output_type": "stream",
     "text": [
      "Model: \"sequential\"\n",
      "_________________________________________________________________\n",
      "Layer (type)                 Output Shape              Param #   \n",
      "=================================================================\n",
      "dense (Dense)                (None, 20)                15700     \n",
      "_________________________________________________________________\n",
      "dense_1 (Dense)              (None, 40)                840       \n",
      "_________________________________________________________________\n",
      "dense_2 (Dense)              (None, 10)                410       \n",
      "=================================================================\n",
      "Total params: 16,950\n",
      "Trainable params: 16,950\n",
      "Non-trainable params: 0\n",
      "_________________________________________________________________\n"
     ]
    }
   ],
   "source": [
    "model1=tf.keras.Sequential([\n",
    "      tf.keras.layers.Dense(20,input_shape=(784,),activation=\"relu\"),\n",
    "      tf.keras.layers.Dense(40,activation=\"relu\"),\n",
    "      tf.keras.layers.Dense(10,activation=\"softmax\")\n",
    "])\n",
    "model1.summary()"
   ]
  },
  {
   "cell_type": "code",
   "execution_count": 15,
   "metadata": {
    "colab": {
     "base_uri": "https://localhost:8080/"
    },
    "id": "FS9IX4aH-IQ7",
    "outputId": "5338027e-24ec-4f55-9e28-ef35456045ee"
   },
   "outputs": [
    {
     "name": "stdout",
     "output_type": "stream",
     "text": [
      "Epoch 1/50\n",
      "1500/1500 [==============================] - 7s 5ms/step - loss: 0.8915 - accuracy: 0.7585 - val_loss: 0.3854 - val_accuracy: 0.8913\n",
      "Epoch 2/50\n",
      "1500/1500 [==============================] - 6s 4ms/step - loss: 0.3655 - accuracy: 0.8964 - val_loss: 0.3045 - val_accuracy: 0.9136\n",
      "Epoch 3/50\n",
      "1500/1500 [==============================] - 6s 4ms/step - loss: 0.3119 - accuracy: 0.9105 - val_loss: 0.2792 - val_accuracy: 0.9212\n",
      "Epoch 4/50\n",
      "1500/1500 [==============================] - 6s 4ms/step - loss: 0.2831 - accuracy: 0.9179 - val_loss: 0.2558 - val_accuracy: 0.9283\n",
      "Epoch 5/50\n",
      "1500/1500 [==============================] - 6s 4ms/step - loss: 0.2609 - accuracy: 0.9250 - val_loss: 0.2479 - val_accuracy: 0.9302\n",
      "Epoch 6/50\n",
      "1500/1500 [==============================] - 6s 4ms/step - loss: 0.2429 - accuracy: 0.9304 - val_loss: 0.2257 - val_accuracy: 0.9369\n",
      "Epoch 7/50\n",
      "1500/1500 [==============================] - 6s 4ms/step - loss: 0.2272 - accuracy: 0.9348 - val_loss: 0.2157 - val_accuracy: 0.9389\n",
      "Epoch 8/50\n",
      "1500/1500 [==============================] - 6s 4ms/step - loss: 0.2136 - accuracy: 0.9384 - val_loss: 0.2097 - val_accuracy: 0.9403\n",
      "Epoch 9/50\n",
      "1500/1500 [==============================] - 6s 4ms/step - loss: 0.2024 - accuracy: 0.9413 - val_loss: 0.2007 - val_accuracy: 0.9435\n",
      "Epoch 10/50\n",
      "1500/1500 [==============================] - 6s 4ms/step - loss: 0.1914 - accuracy: 0.9449 - val_loss: 0.1907 - val_accuracy: 0.9473\n",
      "Epoch 11/50\n",
      "1500/1500 [==============================] - 6s 4ms/step - loss: 0.1820 - accuracy: 0.9470 - val_loss: 0.1864 - val_accuracy: 0.9473\n",
      "Epoch 12/50\n",
      "1500/1500 [==============================] - 5s 3ms/step - loss: 0.1732 - accuracy: 0.9494 - val_loss: 0.1781 - val_accuracy: 0.9499\n",
      "Epoch 13/50\n",
      "1500/1500 [==============================] - 5s 4ms/step - loss: 0.1659 - accuracy: 0.9515 - val_loss: 0.1749 - val_accuracy: 0.9506\n",
      "Epoch 14/50\n",
      "1500/1500 [==============================] - 6s 4ms/step - loss: 0.1592 - accuracy: 0.9536 - val_loss: 0.1693 - val_accuracy: 0.9521\n",
      "Epoch 15/50\n",
      "1500/1500 [==============================] - 6s 4ms/step - loss: 0.1536 - accuracy: 0.9556 - val_loss: 0.1696 - val_accuracy: 0.9532\n",
      "Epoch 16/50\n",
      "1500/1500 [==============================] - 6s 4ms/step - loss: 0.1482 - accuracy: 0.9572 - val_loss: 0.1674 - val_accuracy: 0.9519\n",
      "Epoch 17/50\n",
      "1500/1500 [==============================] - 6s 4ms/step - loss: 0.1441 - accuracy: 0.9581 - val_loss: 0.1640 - val_accuracy: 0.9537\n",
      "Epoch 18/50\n",
      "1500/1500 [==============================] - 6s 4ms/step - loss: 0.1393 - accuracy: 0.9600 - val_loss: 0.1596 - val_accuracy: 0.9545\n",
      "Epoch 19/50\n",
      "1500/1500 [==============================] - 6s 4ms/step - loss: 0.1349 - accuracy: 0.9613 - val_loss: 0.1574 - val_accuracy: 0.9571\n",
      "Epoch 20/50\n",
      "1500/1500 [==============================] - 6s 4ms/step - loss: 0.1316 - accuracy: 0.9619 - val_loss: 0.1548 - val_accuracy: 0.9566\n",
      "Epoch 21/50\n",
      "1500/1500 [==============================] - 5s 3ms/step - loss: 0.1281 - accuracy: 0.9631 - val_loss: 0.1519 - val_accuracy: 0.9570\n",
      "Epoch 22/50\n",
      "1500/1500 [==============================] - 6s 4ms/step - loss: 0.1252 - accuracy: 0.9638 - val_loss: 0.1489 - val_accuracy: 0.9590\n",
      "Epoch 23/50\n",
      "1500/1500 [==============================] - 6s 4ms/step - loss: 0.1218 - accuracy: 0.9651 - val_loss: 0.1494 - val_accuracy: 0.9588\n",
      "Epoch 24/50\n",
      "1500/1500 [==============================] - 6s 4ms/step - loss: 0.1185 - accuracy: 0.9663 - val_loss: 0.1478 - val_accuracy: 0.9589\n",
      "Epoch 25/50\n",
      "1500/1500 [==============================] - 6s 4ms/step - loss: 0.1166 - accuracy: 0.9661 - val_loss: 0.1464 - val_accuracy: 0.9595\n",
      "Epoch 26/50\n",
      "1500/1500 [==============================] - 5s 3ms/step - loss: 0.1140 - accuracy: 0.9670 - val_loss: 0.1463 - val_accuracy: 0.9599\n",
      "Epoch 27/50\n",
      "1500/1500 [==============================] - 5s 3ms/step - loss: 0.1118 - accuracy: 0.9666 - val_loss: 0.1513 - val_accuracy: 0.9582\n",
      "Epoch 28/50\n",
      "1500/1500 [==============================] - 5s 3ms/step - loss: 0.1088 - accuracy: 0.9690 - val_loss: 0.1423 - val_accuracy: 0.9608\n",
      "Epoch 29/50\n",
      "1500/1500 [==============================] - 5s 4ms/step - loss: 0.1066 - accuracy: 0.9688 - val_loss: 0.1458 - val_accuracy: 0.9607\n",
      "Epoch 30/50\n",
      "1500/1500 [==============================] - 5s 4ms/step - loss: 0.1049 - accuracy: 0.9696 - val_loss: 0.1472 - val_accuracy: 0.9592\n",
      "Epoch 31/50\n",
      "1500/1500 [==============================] - 5s 4ms/step - loss: 0.1030 - accuracy: 0.9699 - val_loss: 0.1440 - val_accuracy: 0.9600\n",
      "Epoch 32/50\n",
      "1500/1500 [==============================] - 5s 4ms/step - loss: 0.1008 - accuracy: 0.9708 - val_loss: 0.1436 - val_accuracy: 0.9613\n",
      "Epoch 33/50\n",
      "1500/1500 [==============================] - 5s 4ms/step - loss: 0.0993 - accuracy: 0.9709 - val_loss: 0.1398 - val_accuracy: 0.9618\n",
      "Epoch 34/50\n",
      "1500/1500 [==============================] - 5s 4ms/step - loss: 0.0977 - accuracy: 0.9715 - val_loss: 0.1408 - val_accuracy: 0.9618\n",
      "Epoch 35/50\n",
      "1500/1500 [==============================] - 5s 4ms/step - loss: 0.0954 - accuracy: 0.9721 - val_loss: 0.1411 - val_accuracy: 0.9622\n",
      "Epoch 36/50\n",
      "1500/1500 [==============================] - 5s 3ms/step - loss: 0.0940 - accuracy: 0.9725 - val_loss: 0.1461 - val_accuracy: 0.9618\n",
      "Epoch 37/50\n",
      "1500/1500 [==============================] - 5s 3ms/step - loss: 0.0923 - accuracy: 0.9727 - val_loss: 0.1426 - val_accuracy: 0.9615\n",
      "Epoch 38/50\n",
      "1500/1500 [==============================] - 5s 3ms/step - loss: 0.0910 - accuracy: 0.9727 - val_loss: 0.1421 - val_accuracy: 0.9598\n",
      "Epoch 39/50\n",
      "1500/1500 [==============================] - 5s 3ms/step - loss: 0.0895 - accuracy: 0.9735 - val_loss: 0.1418 - val_accuracy: 0.9603\n",
      "Epoch 40/50\n",
      "1500/1500 [==============================] - 5s 3ms/step - loss: 0.0878 - accuracy: 0.9743 - val_loss: 0.1416 - val_accuracy: 0.9621\n",
      "Epoch 41/50\n",
      "1500/1500 [==============================] - 5s 3ms/step - loss: 0.0870 - accuracy: 0.9743 - val_loss: 0.1410 - val_accuracy: 0.9633\n",
      "Epoch 42/50\n",
      "1500/1500 [==============================] - 5s 3ms/step - loss: 0.0856 - accuracy: 0.9750 - val_loss: 0.1424 - val_accuracy: 0.9609\n",
      "Epoch 43/50\n",
      "1500/1500 [==============================] - 5s 3ms/step - loss: 0.0842 - accuracy: 0.9749 - val_loss: 0.1420 - val_accuracy: 0.9618\n",
      "Epoch 44/50\n",
      "1500/1500 [==============================] - 5s 4ms/step - loss: 0.0834 - accuracy: 0.9760 - val_loss: 0.1393 - val_accuracy: 0.9609\n",
      "Epoch 45/50\n",
      "1500/1500 [==============================] - 6s 4ms/step - loss: 0.0818 - accuracy: 0.9760 - val_loss: 0.1395 - val_accuracy: 0.9630\n",
      "Epoch 46/50\n",
      "1500/1500 [==============================] - 6s 4ms/step - loss: 0.0805 - accuracy: 0.9765 - val_loss: 0.1434 - val_accuracy: 0.9618\n",
      "Epoch 47/50\n",
      "1500/1500 [==============================] - 11s 7ms/step - loss: 0.0793 - accuracy: 0.9768 - val_loss: 0.1418 - val_accuracy: 0.9622\n",
      "Epoch 48/50\n",
      "1500/1500 [==============================] - 7s 4ms/step - loss: 0.0782 - accuracy: 0.9768 - val_loss: 0.1431 - val_accuracy: 0.9615\n",
      "Epoch 49/50\n",
      "1500/1500 [==============================] - 6s 4ms/step - loss: 0.0773 - accuracy: 0.9778 - val_loss: 0.1412 - val_accuracy: 0.9617\n",
      "Epoch 50/50\n",
      "1500/1500 [==============================] - 6s 4ms/step - loss: 0.0760 - accuracy: 0.9782 - val_loss: 0.1450 - val_accuracy: 0.9614\n"
     ]
    }
   ],
   "source": [
    "model1.compile(optimizer=\"sgd\",loss='categorical_crossentropy',metrics=['accuracy'])\n",
    "trained_model1=model1.fit(X_train,Y_train,epochs=50,validation_split=0.2)"
   ]
  },
  {
   "cell_type": "code",
   "execution_count": 16,
   "metadata": {
    "colab": {
     "base_uri": "https://localhost:8080/",
     "height": 295
    },
    "id": "VIiNUBrq-IRA",
    "outputId": "c4ae626c-ebdc-4284-8e3d-a345a6768e9e"
   },
   "outputs": [
    {
     "data": {
      "image/png": "[encoded data removed]",
      "text/plain": [
       "<Figure size 432x288 with 1 Axes>"
      ]
     },
     "metadata": {
      "needs_background": "light"
     },
     "output_type": "display_data"
    }
   ],
   "source": [
    "plt.plot(trained_model1.history['accuracy'])\n",
    "plt.plot(trained_model1.history['val_accuracy'])\n",
    "plt.title('model accuracy')\n",
    "plt.ylabel('accuracy')\n",
    "plt.xlabel('epoch')\n",
    "plt.legend(['train','test'],loc='upper left')\n",
    "plt.show()"
   ]
  },
  {
   "cell_type": "code",
   "execution_count": 17,
   "metadata": {
    "colab": {
     "base_uri": "https://localhost:8080/",
     "height": 295
    },
    "id": "_KRJQwR3-IRC",
    "outputId": "5da29405-40e1-4c8e-8f41-bf85e9765bc7"
   },
   "outputs": [
    {
     "data": {
      "image/png": "[encoded data removed]",
      "text/plain": [
       "<Figure size 432x288 with 1 Axes>"
      ]
     },
     "metadata": {
      "needs_background": "light"
     },
     "output_type": "display_data"
    }
   ],
   "source": [
    "plt.plot(trained_model1.history['loss'])\n",
    "plt.plot(trained_model1.history['val_loss'])\n",
    "plt.title('model loss')\n",
    "plt.ylabel('loss')\n",
    "plt.xlabel('epoch')\n",
    "plt.legend(['train','test'], loc='upper left')\n",
    "plt.show()"
   ]
  },
  {
   "cell_type": "code",
   "execution_count": 18,
   "metadata": {},
   "outputs": [
    {
     "name": "stdout",
     "output_type": "stream",
     "text": [
      "              precision    recall  f1-score   support\n",
      "\n",
      "           0       0.95      0.99      0.97       980\n",
      "           1       0.98      0.99      0.98      1135\n",
      "           2       0.96      0.97      0.97      1032\n",
      "           3       0.94      0.97      0.95      1010\n",
      "           4       0.96      0.96      0.96       982\n",
      "           5       0.99      0.92      0.95       892\n",
      "           6       0.96      0.97      0.97       958\n",
      "           7       0.96      0.96      0.96      1028\n",
      "           8       0.96      0.94      0.95       974\n",
      "           9       0.97      0.94      0.96      1009\n",
      "\n",
      "    accuracy                           0.96     10000\n",
      "   macro avg       0.96      0.96      0.96     10000\n",
      "weighted avg       0.96      0.96      0.96     10000\n",
      "\n"
     ]
    }
   ],
   "source": [
    "Y_pred1=model1.predict(X_test)\n",
    "Y_pred1=Y_pred1.argmax(axis=1)\n",
    "print(classification_report(Y_test,Y_pred1))"
   ]
  },
  {
   "cell_type": "code",
   "execution_count": 19,
   "metadata": {
    "id": "dZvOO00U-IRE"
   },
   "outputs": [],
   "source": [
    "#mini batch"
   ]
  },
  {
   "cell_type": "code",
   "execution_count": 20,
   "metadata": {
    "colab": {
     "base_uri": "https://localhost:8080/"
    },
    "id": "Z16jIdon-IRG",
    "outputId": "ad8e6e7c-5ac1-4a04-ff55-975bb551a3d3"
   },
   "outputs": [
    {
     "name": "stdout",
     "output_type": "stream",
     "text": [
      "Model: \"sequential_1\"\n",
      "_________________________________________________________________\n",
      "Layer (type)                 Output Shape              Param #   \n",
      "=================================================================\n",
      "dense_3 (Dense)              (None, 20)                15700     \n",
      "_________________________________________________________________\n",
      "dense_4 (Dense)              (None, 40)                840       \n",
      "_________________________________________________________________\n",
      "dense_5 (Dense)              (None, 10)                410       \n",
      "=================================================================\n",
      "Total params: 16,950\n",
      "Trainable params: 16,950\n",
      "Non-trainable params: 0\n",
      "_________________________________________________________________\n"
     ]
    }
   ],
   "source": [
    "model2=tf.keras.Sequential([\n",
    "      tf.keras.layers.Dense(20,input_shape=(784,),activation=\"relu\"),\n",
    "      tf.keras.layers.Dense(40,activation=\"relu\"),\n",
    "      tf.keras.layers.Dense(10,activation=\"softmax\")\n",
    "])\n",
    "model2.summary()"
   ]
  },
  {
   "cell_type": "code",
   "execution_count": 21,
   "metadata": {
    "colab": {
     "base_uri": "https://localhost:8080/"
    },
    "id": "i-9qkPjt-IRI",
    "outputId": "9b9fac65-6006-4bed-f2d0-b392ee254dd8"
   },
   "outputs": [
    {
     "name": "stdout",
     "output_type": "stream",
     "text": [
      "Epoch 1/50\n",
      "750/750 [==============================] - 4s 5ms/step - loss: 1.2247 - accuracy: 0.6620 - val_loss: 0.5383 - val_accuracy: 0.8576\n",
      "Epoch 2/50\n",
      "750/750 [==============================] - 4s 5ms/step - loss: 0.4654 - accuracy: 0.8728 - val_loss: 0.3753 - val_accuracy: 0.8963\n",
      "Epoch 3/50\n",
      "750/750 [==============================] - 3s 5ms/step - loss: 0.3722 - accuracy: 0.8948 - val_loss: 0.3266 - val_accuracy: 0.9082\n",
      "Epoch 4/50\n",
      "750/750 [==============================] - 3s 5ms/step - loss: 0.3320 - accuracy: 0.9048 - val_loss: 0.3002 - val_accuracy: 0.9137\n",
      "Epoch 5/50\n",
      "750/750 [==============================] - 4s 5ms/step - loss: 0.3067 - accuracy: 0.9122 - val_loss: 0.2830 - val_accuracy: 0.9180\n",
      "Epoch 6/50\n",
      "750/750 [==============================] - 3s 5ms/step - loss: 0.2881 - accuracy: 0.9170 - val_loss: 0.2667 - val_accuracy: 0.9225\n",
      "Epoch 7/50\n",
      "750/750 [==============================] - 4s 5ms/step - loss: 0.2731 - accuracy: 0.9214 - val_loss: 0.2560 - val_accuracy: 0.9253\n",
      "Epoch 8/50\n",
      "750/750 [==============================] - 3s 5ms/step - loss: 0.2607 - accuracy: 0.9253 - val_loss: 0.2487 - val_accuracy: 0.9282\n",
      "Epoch 9/50\n",
      "750/750 [==============================] - 4s 5ms/step - loss: 0.2498 - accuracy: 0.9286 - val_loss: 0.2384 - val_accuracy: 0.9298\n",
      "Epoch 10/50\n",
      "750/750 [==============================] - 3s 5ms/step - loss: 0.2403 - accuracy: 0.9310 - val_loss: 0.2307 - val_accuracy: 0.9325\n",
      "Epoch 11/50\n",
      "750/750 [==============================] - 3s 5ms/step - loss: 0.2314 - accuracy: 0.9334 - val_loss: 0.2239 - val_accuracy: 0.9339\n",
      "Epoch 12/50\n",
      "750/750 [==============================] - 3s 5ms/step - loss: 0.2237 - accuracy: 0.9361 - val_loss: 0.2179 - val_accuracy: 0.9367\n",
      "Epoch 13/50\n",
      "750/750 [==============================] - 3s 5ms/step - loss: 0.2164 - accuracy: 0.9373 - val_loss: 0.2161 - val_accuracy: 0.9367\n",
      "Epoch 14/50\n",
      "750/750 [==============================] - 4s 5ms/step - loss: 0.2101 - accuracy: 0.9394 - val_loss: 0.2078 - val_accuracy: 0.9386\n",
      "Epoch 15/50\n",
      "750/750 [==============================] - 4s 5ms/step - loss: 0.2039 - accuracy: 0.9414 - val_loss: 0.2035 - val_accuracy: 0.9401\n",
      "Epoch 16/50\n",
      "750/750 [==============================] - 4s 5ms/step - loss: 0.1984 - accuracy: 0.9424 - val_loss: 0.2030 - val_accuracy: 0.9392\n",
      "Epoch 17/50\n",
      "750/750 [==============================] - 4s 5ms/step - loss: 0.1931 - accuracy: 0.9434 - val_loss: 0.1951 - val_accuracy: 0.9423\n",
      "Epoch 18/50\n",
      "750/750 [==============================] - 4s 5ms/step - loss: 0.1881 - accuracy: 0.9448 - val_loss: 0.1910 - val_accuracy: 0.9431\n",
      "Epoch 19/50\n",
      "750/750 [==============================] - 3s 5ms/step - loss: 0.1834 - accuracy: 0.9466 - val_loss: 0.1889 - val_accuracy: 0.9457\n",
      "Epoch 20/50\n",
      "750/750 [==============================] - 3s 5ms/step - loss: 0.1792 - accuracy: 0.9480 - val_loss: 0.1834 - val_accuracy: 0.9459\n",
      "Epoch 21/50\n",
      "750/750 [==============================] - 4s 5ms/step - loss: 0.1746 - accuracy: 0.9490 - val_loss: 0.1822 - val_accuracy: 0.9459\n",
      "Epoch 22/50\n",
      "750/750 [==============================] - 3s 4ms/step - loss: 0.1711 - accuracy: 0.9505 - val_loss: 0.1804 - val_accuracy: 0.9459\n",
      "Epoch 23/50\n",
      "750/750 [==============================] - 3s 5ms/step - loss: 0.1674 - accuracy: 0.9506 - val_loss: 0.1735 - val_accuracy: 0.9495\n",
      "Epoch 24/50\n",
      "750/750 [==============================] - 5s 7ms/step - loss: 0.1639 - accuracy: 0.9517 - val_loss: 0.1716 - val_accuracy: 0.9501\n",
      "Epoch 25/50\n",
      "750/750 [==============================] - 6s 7ms/step - loss: 0.1603 - accuracy: 0.9525 - val_loss: 0.1690 - val_accuracy: 0.9511\n",
      "Epoch 26/50\n",
      "750/750 [==============================] - 6s 7ms/step - loss: 0.1570 - accuracy: 0.9543 - val_loss: 0.1672 - val_accuracy: 0.9510\n",
      "Epoch 27/50\n",
      "750/750 [==============================] - 6s 7ms/step - loss: 0.1537 - accuracy: 0.9545 - val_loss: 0.1657 - val_accuracy: 0.9528\n",
      "Epoch 28/50\n",
      "750/750 [==============================] - 5s 7ms/step - loss: 0.1505 - accuracy: 0.9556 - val_loss: 0.1638 - val_accuracy: 0.9511\n",
      "Epoch 29/50\n",
      "750/750 [==============================] - 4s 5ms/step - loss: 0.1474 - accuracy: 0.9565 - val_loss: 0.1609 - val_accuracy: 0.9524\n",
      "Epoch 30/50\n",
      "750/750 [==============================] - 4s 5ms/step - loss: 0.1448 - accuracy: 0.9570 - val_loss: 0.1606 - val_accuracy: 0.9528\n",
      "Epoch 31/50\n",
      "750/750 [==============================] - 4s 5ms/step - loss: 0.1423 - accuracy: 0.9579 - val_loss: 0.1567 - val_accuracy: 0.9539\n",
      "Epoch 32/50\n",
      "750/750 [==============================] - 4s 5ms/step - loss: 0.1399 - accuracy: 0.9586 - val_loss: 0.1577 - val_accuracy: 0.9535\n",
      "Epoch 33/50\n",
      "750/750 [==============================] - 4s 5ms/step - loss: 0.1374 - accuracy: 0.9592 - val_loss: 0.1572 - val_accuracy: 0.9536\n",
      "Epoch 34/50\n",
      "750/750 [==============================] - 4s 5ms/step - loss: 0.1346 - accuracy: 0.9600 - val_loss: 0.1534 - val_accuracy: 0.9547\n",
      "Epoch 35/50\n",
      "750/750 [==============================] - 4s 5ms/step - loss: 0.1324 - accuracy: 0.9606 - val_loss: 0.1524 - val_accuracy: 0.9545\n",
      "Epoch 36/50\n",
      "750/750 [==============================] - 4s 5ms/step - loss: 0.1303 - accuracy: 0.9615 - val_loss: 0.1504 - val_accuracy: 0.9558\n",
      "Epoch 37/50\n",
      "750/750 [==============================] - 4s 5ms/step - loss: 0.1284 - accuracy: 0.9616 - val_loss: 0.1505 - val_accuracy: 0.9551\n",
      "Epoch 38/50\n",
      "750/750 [==============================] - 4s 5ms/step - loss: 0.1264 - accuracy: 0.9623 - val_loss: 0.1497 - val_accuracy: 0.9556\n",
      "Epoch 39/50\n",
      "750/750 [==============================] - 4s 5ms/step - loss: 0.1250 - accuracy: 0.9626 - val_loss: 0.1489 - val_accuracy: 0.9557\n",
      "Epoch 40/50\n",
      "750/750 [==============================] - 4s 5ms/step - loss: 0.1229 - accuracy: 0.9635 - val_loss: 0.1460 - val_accuracy: 0.9563\n",
      "Epoch 41/50\n",
      "750/750 [==============================] - 4s 5ms/step - loss: 0.1213 - accuracy: 0.9639 - val_loss: 0.1450 - val_accuracy: 0.9566\n",
      "Epoch 42/50\n",
      "750/750 [==============================] - 4s 5ms/step - loss: 0.1195 - accuracy: 0.9643 - val_loss: 0.1469 - val_accuracy: 0.9564\n",
      "Epoch 43/50\n",
      "750/750 [==============================] - 4s 5ms/step - loss: 0.1178 - accuracy: 0.9649 - val_loss: 0.1450 - val_accuracy: 0.9570\n",
      "Epoch 44/50\n",
      "750/750 [==============================] - 4s 5ms/step - loss: 0.1165 - accuracy: 0.9652 - val_loss: 0.1429 - val_accuracy: 0.9565\n",
      "Epoch 45/50\n",
      "750/750 [==============================] - 4s 5ms/step - loss: 0.1146 - accuracy: 0.9659 - val_loss: 0.1428 - val_accuracy: 0.9583\n",
      "Epoch 46/50\n",
      "750/750 [==============================] - 4s 5ms/step - loss: 0.1134 - accuracy: 0.9661 - val_loss: 0.1414 - val_accuracy: 0.9589\n",
      "Epoch 47/50\n",
      "750/750 [==============================] - 4s 5ms/step - loss: 0.1116 - accuracy: 0.9664 - val_loss: 0.1416 - val_accuracy: 0.9580\n",
      "Epoch 48/50\n",
      "750/750 [==============================] - 4s 5ms/step - loss: 0.1108 - accuracy: 0.9665 - val_loss: 0.1425 - val_accuracy: 0.9577\n",
      "Epoch 49/50\n",
      "750/750 [==============================] - 4s 5ms/step - loss: 0.1094 - accuracy: 0.9672 - val_loss: 0.1387 - val_accuracy: 0.9585\n",
      "Epoch 50/50\n",
      "750/750 [==============================] - 4s 5ms/step - loss: 0.1076 - accuracy: 0.9679 - val_loss: 0.1395 - val_accuracy: 0.9589\n"
     ]
    }
   ],
   "source": [
    "model2.compile(optimizer=\"sgd\",loss='categorical_crossentropy',metrics=['accuracy'])\n",
    "trained_model2=model2.fit(X_train,Y_train,batch_size=64,epochs=50,validation_split=0.2)"
   ]
  },
  {
   "cell_type": "code",
   "execution_count": 22,
   "metadata": {
    "colab": {
     "base_uri": "https://localhost:8080/",
     "height": 295
    },
    "id": "H7VSeHs--IRM",
    "outputId": "3b55fc42-ac40-493c-f8fa-91a8e36cd0e8"
   },
   "outputs": [
    {
     "data": {
      "image/png": "[encoded data removed]",
      "text/plain": [
       "<Figure size 432x288 with 1 Axes>"
      ]
     },
     "metadata": {
      "needs_background": "light"
     },
     "output_type": "display_data"
    }
   ],
   "source": [
    "plt.plot(trained_model2.history['accuracy'])\n",
    "plt.plot(trained_model2.history['val_accuracy'])\n",
    "plt.title('model accuracy')\n",
    "plt.ylabel('accuracy')\n",
    "plt.xlabel('epoch')\n",
    "plt.legend(['train','test'], loc='upper left')\n",
    "plt.show()"
   ]
  },
  {
   "cell_type": "code",
   "execution_count": 23,
   "metadata": {
    "colab": {
     "base_uri": "https://localhost:8080/",
     "height": 295
    },
    "id": "1b_Y4J95-IRP",
    "outputId": "e1c1a59b-f9ef-412e-81fd-0d9d66d75ac2"
   },
   "outputs": [
    {
     "data": {
      "image/png": "[encoded data removed]",
      "text/plain": [
       "<Figure size 432x288 with 1 Axes>"
      ]
     },
     "metadata": {
      "needs_background": "light"
     },
     "output_type": "display_data"
    }
   ],
   "source": [
    "plt.plot(trained_model2.history['loss'])\n",
    "plt.plot(trained_model2.history['val_loss'])\n",
    "plt.title('model loss')\n",
    "plt.ylabel('loss')\n",
    "plt.xlabel('epoch')\n",
    "plt.legend(['train','test'], loc='upper left')\n",
    "plt.show()"
   ]
  },
  {
   "cell_type": "code",
   "execution_count": 24,
   "metadata": {},
   "outputs": [
    {
     "name": "stdout",
     "output_type": "stream",
     "text": [
      "              precision    recall  f1-score   support\n",
      "\n",
      "           0       0.96      0.99      0.97       980\n",
      "           1       0.98      0.99      0.98      1135\n",
      "           2       0.96      0.96      0.96      1032\n",
      "           3       0.95      0.96      0.95      1010\n",
      "           4       0.95      0.97      0.96       982\n",
      "           5       0.95      0.94      0.94       892\n",
      "           6       0.97      0.96      0.96       958\n",
      "           7       0.96      0.97      0.96      1028\n",
      "           8       0.95      0.94      0.95       974\n",
      "           9       0.97      0.92      0.95      1009\n",
      "\n",
      "    accuracy                           0.96     10000\n",
      "   macro avg       0.96      0.96      0.96     10000\n",
      "weighted avg       0.96      0.96      0.96     10000\n",
      "\n"
     ]
    }
   ],
   "source": [
    "Y_pred2=model2.predict(X_test)\n",
    "Y_pred2=Y_pred2.argmax(axis=1)\n",
    "print(classification_report(Y_test,Y_pred2))"
   ]
  },
  {
   "cell_type": "code",
   "execution_count": 25,
   "metadata": {
    "id": "pBb6hDyy-IRS"
   },
   "outputs": [],
   "source": [
    "#adam"
   ]
  },
  {
   "cell_type": "code",
   "execution_count": 26,
   "metadata": {
    "colab": {
     "base_uri": "https://localhost:8080/"
    },
    "id": "6LRl0v17-IRU",
    "outputId": "2b649113-b9fb-47a7-d92c-f775e5bf63f5"
   },
   "outputs": [
    {
     "name": "stdout",
     "output_type": "stream",
     "text": [
      "Model: \"sequential_2\"\n",
      "_________________________________________________________________\n",
      "Layer (type)                 Output Shape              Param #   \n",
      "=================================================================\n",
      "dense_6 (Dense)              (None, 20)                15700     \n",
      "_________________________________________________________________\n",
      "dense_7 (Dense)              (None, 40)                840       \n",
      "_________________________________________________________________\n",
      "dense_8 (Dense)              (None, 10)                410       \n",
      "=================================================================\n",
      "Total params: 16,950\n",
      "Trainable params: 16,950\n",
      "Non-trainable params: 0\n",
      "_________________________________________________________________\n"
     ]
    }
   ],
   "source": [
    "model3=tf.keras.Sequential([\n",
    "      tf.keras.layers.Dense(20,input_shape=(784,),activation=\"relu\"),\n",
    "      tf.keras.layers.Dense(40,activation=\"relu\"),\n",
    "      tf.keras.layers.Dense(10,activation=\"softmax\")\n",
    "])\n",
    "model3.summary()"
   ]
  },
  {
   "cell_type": "code",
   "execution_count": 27,
   "metadata": {
    "colab": {
     "base_uri": "https://localhost:8080/"
    },
    "id": "_o4ZdBhA-IRW",
    "outputId": "57afa06f-49f7-4553-f5df-a18883694036"
   },
   "outputs": [
    {
     "name": "stdout",
     "output_type": "stream",
     "text": [
      "Epoch 1/50\n",
      "750/750 [==============================] - 5s 6ms/step - loss: 0.5186 - accuracy: 0.8523 - val_loss: 0.2636 - val_accuracy: 0.9216\n",
      "Epoch 2/50\n",
      "750/750 [==============================] - 4s 5ms/step - loss: 0.2445 - accuracy: 0.9303 - val_loss: 0.2066 - val_accuracy: 0.9413\n",
      "Epoch 3/50\n",
      "750/750 [==============================] - 4s 5ms/step - loss: 0.2001 - accuracy: 0.9433 - val_loss: 0.1874 - val_accuracy: 0.9463\n",
      "Epoch 4/50\n",
      "750/750 [==============================] - 4s 5ms/step - loss: 0.1753 - accuracy: 0.9494 - val_loss: 0.1777 - val_accuracy: 0.9480\n",
      "Epoch 5/50\n",
      "750/750 [==============================] - 4s 5ms/step - loss: 0.1578 - accuracy: 0.9538 - val_loss: 0.1598 - val_accuracy: 0.9540\n",
      "Epoch 6/50\n",
      "750/750 [==============================] - 4s 5ms/step - loss: 0.1431 - accuracy: 0.9582 - val_loss: 0.1645 - val_accuracy: 0.9517\n",
      "Epoch 7/50\n",
      "750/750 [==============================] - 4s 5ms/step - loss: 0.1320 - accuracy: 0.9609 - val_loss: 0.1604 - val_accuracy: 0.9528\n",
      "Epoch 8/50\n",
      "750/750 [==============================] - 4s 5ms/step - loss: 0.1222 - accuracy: 0.9635 - val_loss: 0.1567 - val_accuracy: 0.9538\n",
      "Epoch 9/50\n",
      "750/750 [==============================] - 4s 5ms/step - loss: 0.1142 - accuracy: 0.9656 - val_loss: 0.1480 - val_accuracy: 0.9573\n",
      "Epoch 10/50\n",
      "750/750 [==============================] - 4s 5ms/step - loss: 0.1063 - accuracy: 0.9678 - val_loss: 0.1483 - val_accuracy: 0.9555\n",
      "Epoch 11/50\n",
      "750/750 [==============================] - 4s 5ms/step - loss: 0.1009 - accuracy: 0.9694 - val_loss: 0.1449 - val_accuracy: 0.9587\n",
      "Epoch 12/50\n",
      "750/750 [==============================] - 4s 5ms/step - loss: 0.0969 - accuracy: 0.9704 - val_loss: 0.1473 - val_accuracy: 0.9569\n",
      "Epoch 13/50\n",
      "750/750 [==============================] - 4s 5ms/step - loss: 0.0920 - accuracy: 0.9727 - val_loss: 0.1376 - val_accuracy: 0.9609\n",
      "Epoch 14/50\n",
      "750/750 [==============================] - 4s 5ms/step - loss: 0.0869 - accuracy: 0.9743 - val_loss: 0.1474 - val_accuracy: 0.9590\n",
      "Epoch 15/50\n",
      "750/750 [==============================] - 4s 5ms/step - loss: 0.0844 - accuracy: 0.9747 - val_loss: 0.1431 - val_accuracy: 0.9593\n",
      "Epoch 16/50\n",
      "750/750 [==============================] - 4s 5ms/step - loss: 0.0789 - accuracy: 0.9764 - val_loss: 0.1439 - val_accuracy: 0.9598\n",
      "Epoch 17/50\n",
      "750/750 [==============================] - 4s 5ms/step - loss: 0.0758 - accuracy: 0.9766 - val_loss: 0.1406 - val_accuracy: 0.9613\n",
      "Epoch 18/50\n",
      "750/750 [==============================] - 4s 5ms/step - loss: 0.0729 - accuracy: 0.9776 - val_loss: 0.1473 - val_accuracy: 0.9597\n",
      "Epoch 19/50\n",
      "750/750 [==============================] - 4s 5ms/step - loss: 0.0702 - accuracy: 0.9785 - val_loss: 0.1412 - val_accuracy: 0.9608\n",
      "Epoch 20/50\n",
      "750/750 [==============================] - 4s 5ms/step - loss: 0.0657 - accuracy: 0.9793 - val_loss: 0.1438 - val_accuracy: 0.9622\n",
      "Epoch 21/50\n",
      "750/750 [==============================] - 4s 5ms/step - loss: 0.0641 - accuracy: 0.9798 - val_loss: 0.1525 - val_accuracy: 0.9594\n",
      "Epoch 22/50\n",
      "750/750 [==============================] - 4s 5ms/step - loss: 0.0619 - accuracy: 0.9808 - val_loss: 0.1449 - val_accuracy: 0.9592\n",
      "Epoch 23/50\n",
      "750/750 [==============================] - 4s 5ms/step - loss: 0.0595 - accuracy: 0.9813 - val_loss: 0.1472 - val_accuracy: 0.9607\n",
      "Epoch 24/50\n",
      "750/750 [==============================] - 4s 5ms/step - loss: 0.0564 - accuracy: 0.9832 - val_loss: 0.1575 - val_accuracy: 0.9600\n",
      "Epoch 25/50\n",
      "750/750 [==============================] - 4s 5ms/step - loss: 0.0554 - accuracy: 0.9827 - val_loss: 0.1490 - val_accuracy: 0.9608\n",
      "Epoch 26/50\n",
      "750/750 [==============================] - 4s 5ms/step - loss: 0.0519 - accuracy: 0.9836 - val_loss: 0.1523 - val_accuracy: 0.9627\n",
      "Epoch 27/50\n",
      "750/750 [==============================] - 4s 5ms/step - loss: 0.0505 - accuracy: 0.9841 - val_loss: 0.1548 - val_accuracy: 0.9612\n",
      "Epoch 28/50\n",
      "750/750 [==============================] - 4s 5ms/step - loss: 0.0500 - accuracy: 0.9842 - val_loss: 0.1562 - val_accuracy: 0.9608\n",
      "Epoch 29/50\n",
      "750/750 [==============================] - 3s 4ms/step - loss: 0.0479 - accuracy: 0.9847 - val_loss: 0.1575 - val_accuracy: 0.9615\n",
      "Epoch 30/50\n",
      "750/750 [==============================] - 5s 7ms/step - loss: 0.0476 - accuracy: 0.9847 - val_loss: 0.1563 - val_accuracy: 0.9608\n",
      "Epoch 31/50\n",
      "750/750 [==============================] - 6s 8ms/step - loss: 0.0449 - accuracy: 0.9860 - val_loss: 0.1718 - val_accuracy: 0.9578\n",
      "Epoch 32/50\n",
      "750/750 [==============================] - 6s 7ms/step - loss: 0.0434 - accuracy: 0.9858 - val_loss: 0.1637 - val_accuracy: 0.9607\n",
      "Epoch 33/50\n",
      "750/750 [==============================] - 6s 8ms/step - loss: 0.0412 - accuracy: 0.9873 - val_loss: 0.1673 - val_accuracy: 0.9598\n",
      "Epoch 34/50\n",
      "750/750 [==============================] - 5s 7ms/step - loss: 0.0386 - accuracy: 0.9880 - val_loss: 0.1671 - val_accuracy: 0.9621\n",
      "Epoch 35/50\n",
      "750/750 [==============================] - 6s 8ms/step - loss: 0.0381 - accuracy: 0.9877 - val_loss: 0.1704 - val_accuracy: 0.9612\n",
      "Epoch 36/50\n",
      "750/750 [==============================] - 6s 8ms/step - loss: 0.0387 - accuracy: 0.9876 - val_loss: 0.1692 - val_accuracy: 0.9587\n",
      "Epoch 37/50\n",
      "750/750 [==============================] - 6s 8ms/step - loss: 0.0366 - accuracy: 0.9885 - val_loss: 0.1843 - val_accuracy: 0.9591\n",
      "Epoch 38/50\n",
      "750/750 [==============================] - 5s 7ms/step - loss: 0.0351 - accuracy: 0.9887 - val_loss: 0.1793 - val_accuracy: 0.9580\n",
      "Epoch 39/50\n",
      "750/750 [==============================] - 6s 8ms/step - loss: 0.0344 - accuracy: 0.9885 - val_loss: 0.1837 - val_accuracy: 0.9587\n",
      "Epoch 40/50\n",
      "750/750 [==============================] - 6s 8ms/step - loss: 0.0322 - accuracy: 0.9893 - val_loss: 0.1863 - val_accuracy: 0.9588\n",
      "Epoch 41/50\n",
      "750/750 [==============================] - 6s 7ms/step - loss: 0.0321 - accuracy: 0.9899 - val_loss: 0.1876 - val_accuracy: 0.9613\n",
      "Epoch 42/50\n",
      "750/750 [==============================] - 4s 6ms/step - loss: 0.0317 - accuracy: 0.9897 - val_loss: 0.1978 - val_accuracy: 0.9582\n",
      "Epoch 43/50\n",
      "750/750 [==============================] - 6s 8ms/step - loss: 0.0312 - accuracy: 0.9900 - val_loss: 0.1970 - val_accuracy: 0.9580\n",
      "Epoch 44/50\n",
      "750/750 [==============================] - 6s 8ms/step - loss: 0.0280 - accuracy: 0.9915 - val_loss: 0.2004 - val_accuracy: 0.9595\n",
      "Epoch 45/50\n",
      "750/750 [==============================] - 6s 8ms/step - loss: 0.0297 - accuracy: 0.9905 - val_loss: 0.2064 - val_accuracy: 0.9578\n",
      "Epoch 46/50\n",
      "750/750 [==============================] - 6s 8ms/step - loss: 0.0274 - accuracy: 0.9910 - val_loss: 0.2025 - val_accuracy: 0.9589\n",
      "Epoch 47/50\n",
      "750/750 [==============================] - 6s 8ms/step - loss: 0.0263 - accuracy: 0.9915 - val_loss: 0.2037 - val_accuracy: 0.9582\n",
      "Epoch 48/50\n",
      "750/750 [==============================] - 6s 8ms/step - loss: 0.0269 - accuracy: 0.9918 - val_loss: 0.2058 - val_accuracy: 0.9585\n",
      "Epoch 49/50\n",
      "750/750 [==============================] - 6s 8ms/step - loss: 0.0259 - accuracy: 0.9918 - val_loss: 0.2070 - val_accuracy: 0.9587\n",
      "Epoch 50/50\n",
      "750/750 [==============================] - 4s 6ms/step - loss: 0.0243 - accuracy: 0.9924 - val_loss: 0.2068 - val_accuracy: 0.9595\n"
     ]
    }
   ],
   "source": [
    "model3.compile(optimizer=\"adam\",loss='categorical_crossentropy',metrics=['accuracy'])\n",
    "trained_model3=model3.fit(X_train,Y_train,batch_size=64,epochs=50,validation_split=0.2)"
   ]
  },
  {
   "cell_type": "code",
   "execution_count": 28,
   "metadata": {
    "colab": {
     "base_uri": "https://localhost:8080/",
     "height": 295
    },
    "id": "UjYDjC3P-IRZ",
    "outputId": "4678c861-ce74-4816-d074-e4c07842a841"
   },
   "outputs": [
    {
     "data": {
      "image/png": "[encoded data removed]",
      "text/plain": [
       "<Figure size 432x288 with 1 Axes>"
      ]
     },
     "metadata": {
      "needs_background": "light"
     },
     "output_type": "display_data"
    }
   ],
   "source": [
    "plt.plot(trained_model3.history['accuracy'])\n",
    "plt.plot(trained_model3.history['val_accuracy'])\n",
    "plt.title('model accuracy')\n",
    "plt.ylabel('accuracy')\n",
    "plt.xlabel('epoch')\n",
    "plt.legend(['train','test'], loc='upper left')\n",
    "plt.show()"
   ]
  },
  {
   "cell_type": "code",
   "execution_count": 29,
   "metadata": {
    "colab": {
     "base_uri": "https://localhost:8080/",
     "height": 295
    },
    "id": "iJwVluHs-IRb",
    "outputId": "18a876c5-c60e-42a6-9dbb-7badf1e1b521"
   },
   "outputs": [
    {
     "data": {
      "image/png": "[encoded data removed]",
      "text/plain": [
       "<Figure size 432x288 with 1 Axes>"
      ]
     },
     "metadata": {
      "needs_background": "light"
     },
     "output_type": "display_data"
    }
   ],
   "source": [
    "plt.plot(trained_model3.history['loss'])\n",
    "plt.plot(trained_model3.history['val_loss'])\n",
    "plt.title('model loss')\n",
    "plt.ylabel('loss')\n",
    "plt.xlabel('epoch')\n",
    "plt.legend(['train', 'test'], loc='upper left')\n",
    "plt.show()"
   ]
  },
  {
   "cell_type": "code",
   "execution_count": 30,
   "metadata": {},
   "outputs": [
    {
     "name": "stdout",
     "output_type": "stream",
     "text": [
      "              precision    recall  f1-score   support\n",
      "\n",
      "           0       0.98      0.97      0.98       980\n",
      "           1       0.98      0.99      0.98      1135\n",
      "           2       0.96      0.97      0.96      1032\n",
      "           3       0.94      0.95      0.95      1010\n",
      "           4       0.96      0.97      0.97       982\n",
      "           5       0.94      0.97      0.95       892\n",
      "           6       0.97      0.96      0.97       958\n",
      "           7       0.96      0.95      0.96      1028\n",
      "           8       0.96      0.94      0.95       974\n",
      "           9       0.96      0.95      0.96      1009\n",
      "\n",
      "    accuracy                           0.96     10000\n",
      "   macro avg       0.96      0.96      0.96     10000\n",
      "weighted avg       0.96      0.96      0.96     10000\n",
      "\n"
     ]
    }
   ],
   "source": [
    "Y_pred3=model3.predict(X_test)\n",
    "Y_pred3=Y_pred3.argmax(axis=1)\n",
    "print(classification_report(Y_test,Y_pred3))"
   ]
  },
  {
   "cell_type": "code",
   "execution_count": 31,
   "metadata": {},
   "outputs": [],
   "source": [
    "#multiple neuron"
   ]
  },
  {
   "cell_type": "code",
   "execution_count": 32,
   "metadata": {
    "colab": {
     "base_uri": "https://localhost:8080/"
    },
    "id": "MLa533_N-IRd",
    "outputId": "633ab62d-b563-4791-8765-c5b18fce0cf9"
   },
   "outputs": [
    {
     "name": "stdout",
     "output_type": "stream",
     "text": [
      "Model: \"sequential_3\"\n",
      "_________________________________________________________________\n",
      "Layer (type)                 Output Shape              Param #   \n",
      "=================================================================\n",
      "dense_9 (Dense)              (None, 50)                39250     \n",
      "_________________________________________________________________\n",
      "dense_10 (Dense)             (None, 100)               5100      \n",
      "_________________________________________________________________\n",
      "dense_11 (Dense)             (None, 10)                1010      \n",
      "=================================================================\n",
      "Total params: 45,360\n",
      "Trainable params: 45,360\n",
      "Non-trainable params: 0\n",
      "_________________________________________________________________\n"
     ]
    }
   ],
   "source": [
    "model4=tf.keras.Sequential([\n",
    "      tf.keras.layers.Dense(50,input_shape=(784,),activation=\"relu\"),\n",
    "      tf.keras.layers.Dense(100,activation=\"relu\"),\n",
    "      tf.keras.layers.Dense(10,activation=\"softmax\")\n",
    "])\n",
    "model4.summary()"
   ]
  },
  {
   "cell_type": "code",
   "execution_count": 33,
   "metadata": {
    "colab": {
     "base_uri": "https://localhost:8080/"
    },
    "id": "L9pJiDTj-IRf",
    "outputId": "c80e2aa3-bfde-4e85-872b-795059a38302"
   },
   "outputs": [
    {
     "name": "stdout",
     "output_type": "stream",
     "text": [
      "Epoch 1/50\n",
      "750/750 [==============================] - 6s 8ms/step - loss: 0.3576 - accuracy: 0.8965 - val_loss: 0.1734 - val_accuracy: 0.9519\n",
      "Epoch 2/50\n",
      "750/750 [==============================] - 7s 9ms/step - loss: 0.1576 - accuracy: 0.9533 - val_loss: 0.1350 - val_accuracy: 0.9619\n",
      "Epoch 3/50\n",
      "750/750 [==============================] - 7s 9ms/step - loss: 0.1167 - accuracy: 0.9653 - val_loss: 0.1249 - val_accuracy: 0.9625\n",
      "Epoch 4/50\n",
      "750/750 [==============================] - 6s 9ms/step - loss: 0.0936 - accuracy: 0.9711 - val_loss: 0.1093 - val_accuracy: 0.9682\n",
      "Epoch 5/50\n",
      "750/750 [==============================] - 5s 7ms/step - loss: 0.0795 - accuracy: 0.9754 - val_loss: 0.1147 - val_accuracy: 0.9660\n",
      "Epoch 6/50\n",
      "750/750 [==============================] - 6s 8ms/step - loss: 0.0684 - accuracy: 0.9792 - val_loss: 0.1066 - val_accuracy: 0.9683\n",
      "Epoch 7/50\n",
      "750/750 [==============================] - 6s 8ms/step - loss: 0.0606 - accuracy: 0.9806 - val_loss: 0.1171 - val_accuracy: 0.9644\n",
      "Epoch 8/50\n",
      "750/750 [==============================] - 7s 9ms/step - loss: 0.0524 - accuracy: 0.9839 - val_loss: 0.1146 - val_accuracy: 0.9680\n",
      "Epoch 9/50\n",
      "750/750 [==============================] - 7s 9ms/step - loss: 0.0443 - accuracy: 0.9859 - val_loss: 0.1085 - val_accuracy: 0.9696\n",
      "Epoch 10/50\n",
      "750/750 [==============================] - 7s 9ms/step - loss: 0.0387 - accuracy: 0.9876 - val_loss: 0.1071 - val_accuracy: 0.9714\n",
      "Epoch 11/50\n",
      "750/750 [==============================] - 7s 9ms/step - loss: 0.0338 - accuracy: 0.9890 - val_loss: 0.1121 - val_accuracy: 0.9703\n",
      "Epoch 12/50\n",
      "750/750 [==============================] - 7s 9ms/step - loss: 0.0296 - accuracy: 0.9906 - val_loss: 0.1152 - val_accuracy: 0.9725\n",
      "Epoch 13/50\n",
      "750/750 [==============================] - 7s 9ms/step - loss: 0.0304 - accuracy: 0.9896 - val_loss: 0.1251 - val_accuracy: 0.9706\n",
      "Epoch 14/50\n",
      "750/750 [==============================] - 7s 9ms/step - loss: 0.0211 - accuracy: 0.9930 - val_loss: 0.1307 - val_accuracy: 0.9691\n",
      "Epoch 15/50\n",
      "750/750 [==============================] - 7s 9ms/step - loss: 0.0223 - accuracy: 0.9926 - val_loss: 0.1320 - val_accuracy: 0.9688\n",
      "Epoch 16/50\n",
      "750/750 [==============================] - 7s 9ms/step - loss: 0.0185 - accuracy: 0.9937 - val_loss: 0.1504 - val_accuracy: 0.9674\n",
      "Epoch 17/50\n",
      "750/750 [==============================] - 7s 9ms/step - loss: 0.0183 - accuracy: 0.9940 - val_loss: 0.1245 - val_accuracy: 0.9719\n",
      "Epoch 18/50\n",
      "750/750 [==============================] - 7s 9ms/step - loss: 0.0182 - accuracy: 0.9939 - val_loss: 0.1312 - val_accuracy: 0.9718\n",
      "Epoch 19/50\n",
      "750/750 [==============================] - 6s 8ms/step - loss: 0.0150 - accuracy: 0.9949 - val_loss: 0.1324 - val_accuracy: 0.9719\n",
      "Epoch 20/50\n",
      "750/750 [==============================] - 7s 9ms/step - loss: 0.0124 - accuracy: 0.9960 - val_loss: 0.1541 - val_accuracy: 0.9687\n",
      "Epoch 21/50\n",
      "750/750 [==============================] - 7s 9ms/step - loss: 0.0128 - accuracy: 0.9956 - val_loss: 0.1524 - val_accuracy: 0.9717\n",
      "Epoch 22/50\n",
      "750/750 [==============================] - 7s 9ms/step - loss: 0.0118 - accuracy: 0.9960 - val_loss: 0.1467 - val_accuracy: 0.9717\n",
      "Epoch 23/50\n",
      "750/750 [==============================] - 7s 9ms/step - loss: 0.0105 - accuracy: 0.9967 - val_loss: 0.1670 - val_accuracy: 0.9687\n",
      "Epoch 24/50\n",
      "750/750 [==============================] - 6s 8ms/step - loss: 0.0147 - accuracy: 0.9951 - val_loss: 0.1731 - val_accuracy: 0.9708\n",
      "Epoch 25/50\n",
      "750/750 [==============================] - 7s 9ms/step - loss: 0.0090 - accuracy: 0.9971 - val_loss: 0.1723 - val_accuracy: 0.9688\n",
      "Epoch 26/50\n",
      "750/750 [==============================] - 6s 7ms/step - loss: 0.0086 - accuracy: 0.9973 - val_loss: 0.1616 - val_accuracy: 0.9718\n",
      "Epoch 27/50\n",
      "750/750 [==============================] - 5s 7ms/step - loss: 0.0091 - accuracy: 0.9970 - val_loss: 0.1627 - val_accuracy: 0.9727\n",
      "Epoch 28/50\n",
      "750/750 [==============================] - 5s 7ms/step - loss: 0.0125 - accuracy: 0.9961 - val_loss: 0.1706 - val_accuracy: 0.9727\n",
      "Epoch 29/50\n",
      "750/750 [==============================] - 7s 9ms/step - loss: 0.0133 - accuracy: 0.9956 - val_loss: 0.1649 - val_accuracy: 0.9726\n",
      "Epoch 30/50\n",
      "750/750 [==============================] - 7s 9ms/step - loss: 0.0070 - accuracy: 0.9978 - val_loss: 0.1644 - val_accuracy: 0.9732\n",
      "Epoch 31/50\n",
      "750/750 [==============================] - 7s 9ms/step - loss: 0.0038 - accuracy: 0.9989 - val_loss: 0.1704 - val_accuracy: 0.9731\n",
      "Epoch 32/50\n",
      "750/750 [==============================] - 7s 9ms/step - loss: 0.0111 - accuracy: 0.9964 - val_loss: 0.2057 - val_accuracy: 0.9707\n",
      "Epoch 33/50\n",
      "750/750 [==============================] - 7s 9ms/step - loss: 0.0078 - accuracy: 0.9974 - val_loss: 0.1964 - val_accuracy: 0.9686\n",
      "Epoch 34/50\n",
      "750/750 [==============================] - 7s 9ms/step - loss: 0.0071 - accuracy: 0.9979 - val_loss: 0.1970 - val_accuracy: 0.9701\n",
      "Epoch 35/50\n",
      "750/750 [==============================] - 7s 9ms/step - loss: 0.0086 - accuracy: 0.9968 - val_loss: 0.1929 - val_accuracy: 0.9718\n",
      "Epoch 36/50\n",
      "750/750 [==============================] - 6s 8ms/step - loss: 0.0091 - accuracy: 0.9969 - val_loss: 0.1726 - val_accuracy: 0.9733\n",
      "Epoch 37/50\n",
      "750/750 [==============================] - 7s 9ms/step - loss: 0.0037 - accuracy: 0.9989 - val_loss: 0.1874 - val_accuracy: 0.9722\n",
      "Epoch 38/50\n",
      "750/750 [==============================] - 7s 9ms/step - loss: 0.0104 - accuracy: 0.9963 - val_loss: 0.2207 - val_accuracy: 0.9688\n",
      "Epoch 39/50\n",
      "750/750 [==============================] - 7s 9ms/step - loss: 0.0073 - accuracy: 0.9974 - val_loss: 0.1954 - val_accuracy: 0.9706\n",
      "Epoch 40/50\n",
      "750/750 [==============================] - 7s 9ms/step - loss: 0.0060 - accuracy: 0.9982 - val_loss: 0.1998 - val_accuracy: 0.9718\n",
      "Epoch 41/50\n",
      "750/750 [==============================] - 6s 8ms/step - loss: 0.0089 - accuracy: 0.9972 - val_loss: 0.1995 - val_accuracy: 0.9741\n",
      "Epoch 42/50\n",
      "750/750 [==============================] - 7s 9ms/step - loss: 0.0050 - accuracy: 0.9984 - val_loss: 0.2010 - val_accuracy: 0.9721\n",
      "Epoch 43/50\n",
      "750/750 [==============================] - 7s 9ms/step - loss: 0.0075 - accuracy: 0.9976 - val_loss: 0.2108 - val_accuracy: 0.9700\n",
      "Epoch 44/50\n",
      "750/750 [==============================] - 7s 9ms/step - loss: 0.0059 - accuracy: 0.9980 - val_loss: 0.2047 - val_accuracy: 0.9710\n",
      "Epoch 45/50\n",
      "750/750 [==============================] - 6s 8ms/step - loss: 0.0069 - accuracy: 0.9980 - val_loss: 0.1996 - val_accuracy: 0.9729\n",
      "Epoch 46/50\n",
      "750/750 [==============================] - 6s 8ms/step - loss: 0.0062 - accuracy: 0.9981 - val_loss: 0.2098 - val_accuracy: 0.9733\n",
      "Epoch 47/50\n",
      "750/750 [==============================] - 5s 7ms/step - loss: 0.0051 - accuracy: 0.9981 - val_loss: 0.2085 - val_accuracy: 0.9733\n",
      "Epoch 48/50\n",
      "750/750 [==============================] - 5s 7ms/step - loss: 0.0034 - accuracy: 0.9989 - val_loss: 0.1953 - val_accuracy: 0.9738\n",
      "Epoch 49/50\n",
      "750/750 [==============================] - 4s 6ms/step - loss: 0.0084 - accuracy: 0.9973 - val_loss: 0.2028 - val_accuracy: 0.9744\n",
      "Epoch 50/50\n",
      "750/750 [==============================] - 7s 9ms/step - loss: 0.0053 - accuracy: 0.9984 - val_loss: 0.2331 - val_accuracy: 0.9720\n"
     ]
    }
   ],
   "source": [
    "model4.compile(optimizer=\"adam\",loss='categorical_crossentropy',metrics=['accuracy'])\n",
    "trained_model4=model4.fit(X_train,Y_train,batch_size=64,epochs=50,validation_split=0.2)"
   ]
  },
  {
   "cell_type": "code",
   "execution_count": 34,
   "metadata": {
    "colab": {
     "base_uri": "https://localhost:8080/",
     "height": 295
    },
    "id": "_uIvHbwd-IRj",
    "outputId": "d38b6737-fac2-40d2-9e95-9f5aca10ad0c"
   },
   "outputs": [
    {
     "data": {
      "image/png": "[encoded data removed]",
      "text/plain": [
       "<Figure size 432x288 with 1 Axes>"
      ]
     },
     "metadata": {
      "needs_background": "light"
     },
     "output_type": "display_data"
    }
   ],
   "source": [
    "plt.plot(trained_model4.history['accuracy'])\n",
    "plt.plot(trained_model4.history['val_accuracy'])\n",
    "plt.title('model accuracy')\n",
    "plt.ylabel('accuracy')\n",
    "plt.xlabel('epoch')\n",
    "plt.legend(['train','test'], loc='upper left')\n",
    "plt.show()"
   ]
  },
  {
   "cell_type": "code",
   "execution_count": 35,
   "metadata": {
    "colab": {
     "base_uri": "https://localhost:8080/",
     "height": 295
    },
    "id": "uA5PdvLB-IRm",
    "outputId": "f2bc395e-d0b2-4031-9ec7-c9fed3126946"
   },
   "outputs": [
    {
     "data": {
      "image/png": "[encoded data removed]",
      "text/plain": [
       "<Figure size 432x288 with 1 Axes>"
      ]
     },
     "metadata": {
      "needs_background": "light"
     },
     "output_type": "display_data"
    }
   ],
   "source": [
    "plt.plot(trained_model4.history['loss'])\n",
    "plt.plot(trained_model4.history['val_loss'])\n",
    "plt.title('model loss')\n",
    "plt.ylabel('loss')\n",
    "plt.xlabel('epoch')\n",
    "plt.legend(['train', 'test'], loc='upper left')\n",
    "plt.show()"
   ]
  },
  {
   "cell_type": "code",
   "execution_count": 36,
   "metadata": {},
   "outputs": [
    {
     "name": "stdout",
     "output_type": "stream",
     "text": [
      "              precision    recall  f1-score   support\n",
      "\n",
      "           0       0.98      0.99      0.98       980\n",
      "           1       0.99      0.99      0.99      1135\n",
      "           2       0.97      0.98      0.97      1032\n",
      "           3       0.98      0.97      0.97      1010\n",
      "           4       0.98      0.96      0.97       982\n",
      "           5       0.98      0.97      0.98       892\n",
      "           6       0.98      0.98      0.98       958\n",
      "           7       0.99      0.92      0.95      1028\n",
      "           8       0.96      0.98      0.97       974\n",
      "           9       0.93      0.98      0.95      1009\n",
      "\n",
      "    accuracy                           0.97     10000\n",
      "   macro avg       0.97      0.97      0.97     10000\n",
      "weighted avg       0.97      0.97      0.97     10000\n",
      "\n"
     ]
    }
   ],
   "source": [
    "Y_pred4=model4.predict(X_test)\n",
    "Y_pred4=Y_pred4.argmax(axis=1)\n",
    "print(classification_report(Y_test,Y_pred4))"
   ]
  },
  {
   "cell_type": "code",
   "execution_count": 37,
   "metadata": {
    "id": "fH7nLEyu-IRo"
   },
   "outputs": [],
   "source": [
    "#RMS PROP"
   ]
  },
  {
   "cell_type": "code",
   "execution_count": 38,
   "metadata": {
    "colab": {
     "base_uri": "https://localhost:8080/"
    },
    "id": "MOspQeJO-IRp",
    "outputId": "1a90d9af-53e4-4d2a-e669-4b99dd0ea1d2"
   },
   "outputs": [
    {
     "name": "stdout",
     "output_type": "stream",
     "text": [
      "Model: \"sequential_4\"\n",
      "_________________________________________________________________\n",
      "Layer (type)                 Output Shape              Param #   \n",
      "=================================================================\n",
      "dense_12 (Dense)             (None, 20)                15700     \n",
      "_________________________________________________________________\n",
      "dense_13 (Dense)             (None, 40)                840       \n",
      "_________________________________________________________________\n",
      "dense_14 (Dense)             (None, 10)                410       \n",
      "=================================================================\n",
      "Total params: 16,950\n",
      "Trainable params: 16,950\n",
      "Non-trainable params: 0\n",
      "_________________________________________________________________\n"
     ]
    }
   ],
   "source": [
    "model5=tf.keras.Sequential([\n",
    "       tf.keras.layers.Dense(20,input_shape=(784,),activation=\"relu\"),\n",
    "       tf.keras.layers.Dense(40,activation=\"relu\"),\n",
    "       tf.keras.layers.Dense(10,activation=\"softmax\")\n",
    "])\n",
    "model5.summary()"
   ]
  },
  {
   "cell_type": "code",
   "execution_count": 39,
   "metadata": {
    "colab": {
     "base_uri": "https://localhost:8080/"
    },
    "id": "9stkBs0n-IRr",
    "outputId": "33d19e88-452a-49da-c242-adbc6967414d"
   },
   "outputs": [
    {
     "name": "stdout",
     "output_type": "stream",
     "text": [
      "Epoch 1/50\n",
      "1500/1500 [==============================] - 10s 7ms/step - loss: 0.4106 - accuracy: 0.8836 - val_loss: 0.2297 - val_accuracy: 0.9334\n",
      "Epoch 2/50\n",
      "1500/1500 [==============================] - 10s 6ms/step - loss: 0.2186 - accuracy: 0.9363 - val_loss: 0.1937 - val_accuracy: 0.9436\n",
      "Epoch 3/50\n",
      "1500/1500 [==============================] - 9s 6ms/step - loss: 0.1803 - accuracy: 0.9474 - val_loss: 0.1688 - val_accuracy: 0.9520\n",
      "Epoch 4/50\n",
      "1500/1500 [==============================] - 10s 6ms/step - loss: 0.1568 - accuracy: 0.9541 - val_loss: 0.1633 - val_accuracy: 0.9546\n",
      "Epoch 5/50\n",
      "1500/1500 [==============================] - 9s 6ms/step - loss: 0.1408 - accuracy: 0.9592 - val_loss: 0.1613 - val_accuracy: 0.9542\n",
      "Epoch 6/50\n",
      "1500/1500 [==============================] - 6s 4ms/step - loss: 0.1314 - accuracy: 0.9609 - val_loss: 0.1499 - val_accuracy: 0.9590\n",
      "Epoch 7/50\n",
      "1500/1500 [==============================] - 7s 5ms/step - loss: 0.1215 - accuracy: 0.9645 - val_loss: 0.1596 - val_accuracy: 0.9559\n",
      "Epoch 8/50\n",
      "1500/1500 [==============================] - 6s 4ms/step - loss: 0.1163 - accuracy: 0.9657 - val_loss: 0.1478 - val_accuracy: 0.9605\n",
      "Epoch 9/50\n",
      "1500/1500 [==============================] - 9s 6ms/step - loss: 0.1112 - accuracy: 0.9676 - val_loss: 0.1573 - val_accuracy: 0.9598\n",
      "Epoch 10/50\n",
      "1500/1500 [==============================] - 10s 6ms/step - loss: 0.1060 - accuracy: 0.9690 - val_loss: 0.1471 - val_accuracy: 0.9622\n",
      "Epoch 11/50\n",
      "1500/1500 [==============================] - 10s 6ms/step - loss: 0.1015 - accuracy: 0.9699 - val_loss: 0.1544 - val_accuracy: 0.9604\n",
      "Epoch 12/50\n",
      "1500/1500 [==============================] - 10s 7ms/step - loss: 0.0981 - accuracy: 0.9722 - val_loss: 0.1539 - val_accuracy: 0.9607\n",
      "Epoch 13/50\n",
      "1500/1500 [==============================] - 10s 6ms/step - loss: 0.0940 - accuracy: 0.9723 - val_loss: 0.1654 - val_accuracy: 0.9584\n",
      "Epoch 14/50\n",
      "1500/1500 [==============================] - 10s 6ms/step - loss: 0.0919 - accuracy: 0.9729 - val_loss: 0.1685 - val_accuracy: 0.9586\n",
      "Epoch 15/50\n",
      "1500/1500 [==============================] - 9s 6ms/step - loss: 0.0886 - accuracy: 0.9745 - val_loss: 0.1559 - val_accuracy: 0.9615\n",
      "Epoch 16/50\n",
      "1500/1500 [==============================] - 8s 6ms/step - loss: 0.0867 - accuracy: 0.9751 - val_loss: 0.1587 - val_accuracy: 0.9605\n",
      "Epoch 17/50\n",
      "1500/1500 [==============================] - 9s 6ms/step - loss: 0.0839 - accuracy: 0.9754 - val_loss: 0.1734 - val_accuracy: 0.9595\n",
      "Epoch 18/50\n",
      "1500/1500 [==============================] - 10s 6ms/step - loss: 0.0832 - accuracy: 0.9764 - val_loss: 0.1655 - val_accuracy: 0.9617\n",
      "Epoch 19/50\n",
      "1500/1500 [==============================] - 10s 6ms/step - loss: 0.0809 - accuracy: 0.9765 - val_loss: 0.1667 - val_accuracy: 0.9617\n",
      "Epoch 20/50\n",
      "1500/1500 [==============================] - 10s 6ms/step - loss: 0.0777 - accuracy: 0.9776 - val_loss: 0.1748 - val_accuracy: 0.9607\n",
      "Epoch 21/50\n",
      "1500/1500 [==============================] - 10s 6ms/step - loss: 0.0765 - accuracy: 0.9781 - val_loss: 0.1685 - val_accuracy: 0.9603\n",
      "Epoch 22/50\n",
      "1500/1500 [==============================] - 10s 7ms/step - loss: 0.0750 - accuracy: 0.9786 - val_loss: 0.1822 - val_accuracy: 0.9587\n",
      "Epoch 23/50\n",
      "1500/1500 [==============================] - 9s 6ms/step - loss: 0.0749 - accuracy: 0.9781 - val_loss: 0.1805 - val_accuracy: 0.9605\n",
      "Epoch 24/50\n",
      "1500/1500 [==============================] - 8s 6ms/step - loss: 0.0726 - accuracy: 0.9791 - val_loss: 0.1749 - val_accuracy: 0.9632\n",
      "Epoch 25/50\n",
      "1500/1500 [==============================] - 10s 7ms/step - loss: 0.0714 - accuracy: 0.9794 - val_loss: 0.1897 - val_accuracy: 0.9595\n",
      "Epoch 26/50\n",
      "1500/1500 [==============================] - 10s 7ms/step - loss: 0.0693 - accuracy: 0.9802 - val_loss: 0.1852 - val_accuracy: 0.9620\n",
      "Epoch 27/50\n",
      "1500/1500 [==============================] - 10s 6ms/step - loss: 0.0678 - accuracy: 0.9809 - val_loss: 0.1914 - val_accuracy: 0.9617\n",
      "Epoch 28/50\n",
      "1500/1500 [==============================] - 10s 6ms/step - loss: 0.0674 - accuracy: 0.9804 - val_loss: 0.2020 - val_accuracy: 0.9606\n",
      "Epoch 29/50\n",
      "1500/1500 [==============================] - 10s 6ms/step - loss: 0.0648 - accuracy: 0.9814 - val_loss: 0.2033 - val_accuracy: 0.9601\n",
      "Epoch 30/50\n",
      "1500/1500 [==============================] - 9s 6ms/step - loss: 0.0655 - accuracy: 0.9813 - val_loss: 0.1908 - val_accuracy: 0.9607\n",
      "Epoch 31/50\n",
      "1500/1500 [==============================] - 10s 7ms/step - loss: 0.0633 - accuracy: 0.9817 - val_loss: 0.1909 - val_accuracy: 0.9609\n",
      "Epoch 32/50\n",
      "1500/1500 [==============================] - 10s 6ms/step - loss: 0.0629 - accuracy: 0.9823 - val_loss: 0.2008 - val_accuracy: 0.9616\n",
      "Epoch 33/50\n",
      "1500/1500 [==============================] - 10s 7ms/step - loss: 0.0615 - accuracy: 0.9825 - val_loss: 0.2029 - val_accuracy: 0.9630\n",
      "Epoch 34/50\n",
      "1500/1500 [==============================] - 10s 6ms/step - loss: 0.0596 - accuracy: 0.9832 - val_loss: 0.2144 - val_accuracy: 0.9583\n",
      "Epoch 35/50\n",
      "1500/1500 [==============================] - 10s 6ms/step - loss: 0.0601 - accuracy: 0.9834 - val_loss: 0.2206 - val_accuracy: 0.9597\n",
      "Epoch 36/50\n",
      "1500/1500 [==============================] - 10s 6ms/step - loss: 0.0592 - accuracy: 0.9831 - val_loss: 0.2236 - val_accuracy: 0.9572\n",
      "Epoch 37/50\n",
      "1500/1500 [==============================] - 10s 6ms/step - loss: 0.0583 - accuracy: 0.9839 - val_loss: 0.2124 - val_accuracy: 0.9625\n",
      "Epoch 38/50\n",
      "1500/1500 [==============================] - 10s 6ms/step - loss: 0.0571 - accuracy: 0.9843 - val_loss: 0.2183 - val_accuracy: 0.9618\n",
      "Epoch 39/50\n",
      "1500/1500 [==============================] - 10s 6ms/step - loss: 0.0576 - accuracy: 0.9833 - val_loss: 0.2257 - val_accuracy: 0.9603\n",
      "Epoch 40/50\n",
      "1500/1500 [==============================] - 10s 6ms/step - loss: 0.0549 - accuracy: 0.9847 - val_loss: 0.2273 - val_accuracy: 0.9604\n",
      "Epoch 41/50\n",
      "1500/1500 [==============================] - 10s 6ms/step - loss: 0.0551 - accuracy: 0.9848 - val_loss: 0.2281 - val_accuracy: 0.9613\n",
      "Epoch 42/50\n",
      "1500/1500 [==============================] - 10s 6ms/step - loss: 0.0546 - accuracy: 0.9848 - val_loss: 0.2250 - val_accuracy: 0.9616\n",
      "Epoch 43/50\n",
      "1500/1500 [==============================] - 10s 7ms/step - loss: 0.0534 - accuracy: 0.9856 - val_loss: 0.2298 - val_accuracy: 0.9607\n",
      "Epoch 44/50\n",
      "1500/1500 [==============================] - 10s 6ms/step - loss: 0.0535 - accuracy: 0.9858 - val_loss: 0.2432 - val_accuracy: 0.9624\n",
      "Epoch 45/50\n",
      "1500/1500 [==============================] - 10s 6ms/step - loss: 0.0517 - accuracy: 0.9864 - val_loss: 0.2441 - val_accuracy: 0.9610\n",
      "Epoch 46/50\n",
      "1500/1500 [==============================] - 10s 6ms/step - loss: 0.0533 - accuracy: 0.9858 - val_loss: 0.2462 - val_accuracy: 0.9607\n",
      "Epoch 47/50\n",
      "1500/1500 [==============================] - 10s 6ms/step - loss: 0.0513 - accuracy: 0.9862 - val_loss: 0.2716 - val_accuracy: 0.9572\n",
      "Epoch 48/50\n",
      "1500/1500 [==============================] - 10s 7ms/step - loss: 0.0510 - accuracy: 0.9860 - val_loss: 0.2528 - val_accuracy: 0.9601\n",
      "Epoch 49/50\n",
      "1500/1500 [==============================] - 10s 7ms/step - loss: 0.0508 - accuracy: 0.9862 - val_loss: 0.2570 - val_accuracy: 0.9610\n",
      "Epoch 50/50\n",
      "1500/1500 [==============================] - 10s 6ms/step - loss: 0.0491 - accuracy: 0.9866 - val_loss: 0.2726 - val_accuracy: 0.9591\n"
     ]
    }
   ],
   "source": [
    "model5.compile(optimizer=\"rmsprop\",loss='categorical_crossentropy',metrics=['accuracy'])\n",
    "trained_model5=model5.fit(X_train,Y_train,epochs=50,validation_split=0.2)"
   ]
  },
  {
   "cell_type": "code",
   "execution_count": 40,
   "metadata": {
    "colab": {
     "base_uri": "https://localhost:8080/",
     "height": 295
    },
    "id": "3Ih2ngTQ-IRv",
    "outputId": "90e4b479-7119-49de-f4ac-7d0f908fbc5a"
   },
   "outputs": [
    {
     "data": {
      "image/png": "[encoded data removed]",
      "text/plain": [
       "<Figure size 432x288 with 1 Axes>"
      ]
     },
     "metadata": {
      "needs_background": "light"
     },
     "output_type": "display_data"
    }
   ],
   "source": [
    "plt.plot(trained_model5.history['accuracy'])\n",
    "plt.plot(trained_model5.history['val_accuracy'])\n",
    "plt.title('model accuracy')\n",
    "plt.ylabel('accuracy')\n",
    "plt.xlabel('epoch')\n",
    "plt.legend(['train','test'], loc='upper left')\n",
    "plt.show()"
   ]
  },
  {
   "cell_type": "code",
   "execution_count": 41,
   "metadata": {
    "colab": {
     "base_uri": "https://localhost:8080/",
     "height": 295
    },
    "id": "-_ma-w3Q-IRy",
    "outputId": "961bfbdf-db35-4ccf-8efc-b27666e826af"
   },
   "outputs": [
    {
     "data": {
      "image/png": "[encoded data removed]",
      "text/plain": [
       "<Figure size 432x288 with 1 Axes>"
      ]
     },
     "metadata": {
      "needs_background": "light"
     },
     "output_type": "display_data"
    }
   ],
   "source": [
    "plt.plot(trained_model5.history['loss'])\n",
    "plt.plot(trained_model5.history['val_loss'])\n",
    "plt.title('model loss')\n",
    "plt.ylabel('loss')\n",
    "plt.xlabel('epoch')\n",
    "plt.legend(['train', 'test'], loc='upper left')\n",
    "plt.show()"
   ]
  },
  {
   "cell_type": "code",
   "execution_count": 42,
   "metadata": {},
   "outputs": [
    {
     "name": "stdout",
     "output_type": "stream",
     "text": [
      "              precision    recall  f1-score   support\n",
      "\n",
      "           0       0.99      0.98      0.98       980\n",
      "           1       0.98      0.99      0.99      1135\n",
      "           2       0.95      0.95      0.95      1032\n",
      "           3       0.94      0.94      0.94      1010\n",
      "           4       0.94      0.97      0.96       982\n",
      "           5       0.91      0.97      0.94       892\n",
      "           6       0.98      0.97      0.97       958\n",
      "           7       0.96      0.95      0.96      1028\n",
      "           8       0.96      0.92      0.94       974\n",
      "           9       0.96      0.94      0.95      1009\n",
      "\n",
      "    accuracy                           0.96     10000\n",
      "   macro avg       0.96      0.96      0.96     10000\n",
      "weighted avg       0.96      0.96      0.96     10000\n",
      "\n"
     ]
    }
   ],
   "source": [
    "Y_pred5=model5.predict(X_test)\n",
    "Y_pred5=Y_pred5.argmax(axis=1)\n",
    "print(classification_report(Y_test,Y_pred5))"
   ]
  },
  {
   "cell_type": "code",
   "execution_count": 43,
   "metadata": {
    "id": "lW2oY-zo-IR0"
   },
   "outputs": [],
   "source": [
    "#regularization"
   ]
  },
  {
   "cell_type": "code",
   "execution_count": 44,
   "metadata": {
    "colab": {
     "base_uri": "https://localhost:8080/"
    },
    "id": "3F_VWmrz-IR1",
    "outputId": "1369c603-7eb6-4797-b4a7-cf097daf5b7a"
   },
   "outputs": [
    {
     "name": "stdout",
     "output_type": "stream",
     "text": [
      "Model: \"sequential_5\"\n",
      "_________________________________________________________________\n",
      "Layer (type)                 Output Shape              Param #   \n",
      "=================================================================\n",
      "dense_15 (Dense)             (None, 20)                15700     \n",
      "_________________________________________________________________\n",
      "dense_16 (Dense)             (None, 40)                840       \n",
      "_________________________________________________________________\n",
      "dropout (Dropout)            (None, 40)                0         \n",
      "_________________________________________________________________\n",
      "dense_17 (Dense)             (None, 10)                410       \n",
      "=================================================================\n",
      "Total params: 16,950\n",
      "Trainable params: 16,950\n",
      "Non-trainable params: 0\n",
      "_________________________________________________________________\n"
     ]
    }
   ],
   "source": [
    "model6=tf.keras.Sequential([\n",
    "       tf.keras.layers.Dense(20,input_shape=(784,),activation=\"relu\"),\n",
    "       tf.keras.layers.Dense(40,activation=\"relu\"),\n",
    "       tf.keras.layers.Dropout(0.2),\n",
    "       tf.keras.layers.Dense(10,activation=\"softmax\")\n",
    "])\n",
    "model6.summary()"
   ]
  },
  {
   "cell_type": "code",
   "execution_count": 45,
   "metadata": {
    "colab": {
     "base_uri": "https://localhost:8080/"
    },
    "id": "tUIT8wbn-IR3",
    "outputId": "1f544961-6023-4f11-a4a3-3390a3e38087"
   },
   "outputs": [
    {
     "name": "stdout",
     "output_type": "stream",
     "text": [
      "Epoch 1/50\n",
      "750/750 [==============================] - 6s 9ms/step - loss: 0.6139 - accuracy: 0.8168 - val_loss: 0.2629 - val_accuracy: 0.9245\n",
      "Epoch 2/50\n",
      "750/750 [==============================] - 6s 8ms/step - loss: 0.3034 - accuracy: 0.9111 - val_loss: 0.2011 - val_accuracy: 0.9401\n",
      "Epoch 3/50\n",
      "750/750 [==============================] - 6s 8ms/step - loss: 0.2447 - accuracy: 0.9297 - val_loss: 0.1811 - val_accuracy: 0.9445\n",
      "Epoch 4/50\n",
      "750/750 [==============================] - 6s 8ms/step - loss: 0.2134 - accuracy: 0.9372 - val_loss: 0.1644 - val_accuracy: 0.9520\n",
      "Epoch 5/50\n",
      "750/750 [==============================] - 6s 8ms/step - loss: 0.1926 - accuracy: 0.9440 - val_loss: 0.1565 - val_accuracy: 0.9541\n",
      "Epoch 6/50\n",
      "750/750 [==============================] - 6s 8ms/step - loss: 0.1780 - accuracy: 0.9469 - val_loss: 0.1501 - val_accuracy: 0.9556\n",
      "Epoch 7/50\n",
      "750/750 [==============================] - 6s 8ms/step - loss: 0.1666 - accuracy: 0.9505 - val_loss: 0.1458 - val_accuracy: 0.9572\n",
      "Epoch 8/50\n",
      "750/750 [==============================] - 6s 8ms/step - loss: 0.1552 - accuracy: 0.9543 - val_loss: 0.1428 - val_accuracy: 0.9588\n",
      "Epoch 9/50\n",
      "750/750 [==============================] - 6s 8ms/step - loss: 0.1508 - accuracy: 0.9557 - val_loss: 0.1405 - val_accuracy: 0.9594\n",
      "Epoch 10/50\n",
      "750/750 [==============================] - 6s 8ms/step - loss: 0.1412 - accuracy: 0.9582 - val_loss: 0.1384 - val_accuracy: 0.9600\n",
      "Epoch 11/50\n",
      "750/750 [==============================] - 6s 8ms/step - loss: 0.1343 - accuracy: 0.9595 - val_loss: 0.1373 - val_accuracy: 0.9588\n",
      "Epoch 12/50\n",
      "750/750 [==============================] - 6s 8ms/step - loss: 0.1299 - accuracy: 0.9605 - val_loss: 0.1398 - val_accuracy: 0.9595\n",
      "Epoch 13/50\n",
      "750/750 [==============================] - 6s 8ms/step - loss: 0.1268 - accuracy: 0.9612 - val_loss: 0.1363 - val_accuracy: 0.9615\n",
      "Epoch 14/50\n",
      "750/750 [==============================] - 6s 8ms/step - loss: 0.1193 - accuracy: 0.9631 - val_loss: 0.1355 - val_accuracy: 0.9607\n",
      "Epoch 15/50\n",
      "750/750 [==============================] - 6s 8ms/step - loss: 0.1163 - accuracy: 0.9650 - val_loss: 0.1377 - val_accuracy: 0.9611\n",
      "Epoch 16/50\n",
      "750/750 [==============================] - 6s 8ms/step - loss: 0.1132 - accuracy: 0.9647 - val_loss: 0.1382 - val_accuracy: 0.9599\n",
      "Epoch 17/50\n",
      "750/750 [==============================] - 5s 7ms/step - loss: 0.1080 - accuracy: 0.9657 - val_loss: 0.1316 - val_accuracy: 0.9626\n",
      "Epoch 18/50\n",
      "750/750 [==============================] - 5s 6ms/step - loss: 0.1063 - accuracy: 0.9680 - val_loss: 0.1365 - val_accuracy: 0.9619\n",
      "Epoch 19/50\n",
      "750/750 [==============================] - 6s 7ms/step - loss: 0.1018 - accuracy: 0.9684 - val_loss: 0.1303 - val_accuracy: 0.9624\n",
      "Epoch 20/50\n",
      "750/750 [==============================] - 5s 7ms/step - loss: 0.0990 - accuracy: 0.9691 - val_loss: 0.1333 - val_accuracy: 0.9627\n",
      "Epoch 21/50\n",
      "750/750 [==============================] - 6s 8ms/step - loss: 0.0968 - accuracy: 0.9697 - val_loss: 0.1392 - val_accuracy: 0.9634\n",
      "Epoch 22/50\n",
      "750/750 [==============================] - 6s 8ms/step - loss: 0.0958 - accuracy: 0.9699 - val_loss: 0.1413 - val_accuracy: 0.9617\n",
      "Epoch 23/50\n",
      "750/750 [==============================] - 6s 8ms/step - loss: 0.0933 - accuracy: 0.9703 - val_loss: 0.1370 - val_accuracy: 0.9628\n",
      "Epoch 24/50\n",
      "750/750 [==============================] - 5s 7ms/step - loss: 0.0898 - accuracy: 0.9718 - val_loss: 0.1394 - val_accuracy: 0.9633\n",
      "Epoch 25/50\n",
      "750/750 [==============================] - 6s 8ms/step - loss: 0.0906 - accuracy: 0.9707 - val_loss: 0.1394 - val_accuracy: 0.9635\n",
      "Epoch 26/50\n",
      "750/750 [==============================] - 6s 7ms/step - loss: 0.0864 - accuracy: 0.9721 - val_loss: 0.1405 - val_accuracy: 0.9624\n",
      "Epoch 27/50\n",
      "750/750 [==============================] - 6s 8ms/step - loss: 0.0862 - accuracy: 0.9725 - val_loss: 0.1462 - val_accuracy: 0.9622\n",
      "Epoch 28/50\n",
      "750/750 [==============================] - 6s 8ms/step - loss: 0.0852 - accuracy: 0.9731 - val_loss: 0.1411 - val_accuracy: 0.9632\n",
      "Epoch 29/50\n",
      "750/750 [==============================] - 6s 8ms/step - loss: 0.0833 - accuracy: 0.9730 - val_loss: 0.1408 - val_accuracy: 0.9631\n",
      "Epoch 30/50\n",
      "750/750 [==============================] - 6s 8ms/step - loss: 0.0809 - accuracy: 0.9732 - val_loss: 0.1403 - val_accuracy: 0.9626\n",
      "Epoch 31/50\n",
      "750/750 [==============================] - 5s 7ms/step - loss: 0.0788 - accuracy: 0.9747 - val_loss: 0.1465 - val_accuracy: 0.9631\n",
      "Epoch 32/50\n",
      "750/750 [==============================] - 6s 8ms/step - loss: 0.0804 - accuracy: 0.9739 - val_loss: 0.1437 - val_accuracy: 0.9655\n",
      "Epoch 33/50\n",
      "750/750 [==============================] - 6s 8ms/step - loss: 0.0778 - accuracy: 0.9750 - val_loss: 0.1477 - val_accuracy: 0.9641\n",
      "Epoch 34/50\n",
      "750/750 [==============================] - 6s 8ms/step - loss: 0.0753 - accuracy: 0.9754 - val_loss: 0.1468 - val_accuracy: 0.9632\n",
      "Epoch 35/50\n",
      "750/750 [==============================] - 6s 8ms/step - loss: 0.0738 - accuracy: 0.9761 - val_loss: 0.1528 - val_accuracy: 0.9618\n",
      "Epoch 36/50\n",
      "750/750 [==============================] - 6s 8ms/step - loss: 0.0760 - accuracy: 0.9755 - val_loss: 0.1617 - val_accuracy: 0.9636\n",
      "Epoch 37/50\n",
      "750/750 [==============================] - 6s 8ms/step - loss: 0.0733 - accuracy: 0.9758 - val_loss: 0.1493 - val_accuracy: 0.9622\n",
      "Epoch 38/50\n",
      "750/750 [==============================] - 6s 8ms/step - loss: 0.0715 - accuracy: 0.9759 - val_loss: 0.1514 - val_accuracy: 0.9643\n",
      "Epoch 39/50\n",
      "750/750 [==============================] - 6s 8ms/step - loss: 0.0697 - accuracy: 0.9766 - val_loss: 0.1570 - val_accuracy: 0.9618\n",
      "Epoch 40/50\n",
      "750/750 [==============================] - 6s 8ms/step - loss: 0.0719 - accuracy: 0.9768 - val_loss: 0.1539 - val_accuracy: 0.9643\n",
      "Epoch 41/50\n",
      "750/750 [==============================] - 6s 8ms/step - loss: 0.0705 - accuracy: 0.9766 - val_loss: 0.1626 - val_accuracy: 0.9617\n",
      "Epoch 42/50\n",
      "750/750 [==============================] - 6s 8ms/step - loss: 0.0679 - accuracy: 0.9780 - val_loss: 0.1585 - val_accuracy: 0.9630\n",
      "Epoch 43/50\n",
      "750/750 [==============================] - 6s 8ms/step - loss: 0.0668 - accuracy: 0.9781 - val_loss: 0.1599 - val_accuracy: 0.9615\n",
      "Epoch 44/50\n",
      "750/750 [==============================] - 6s 8ms/step - loss: 0.0655 - accuracy: 0.9785 - val_loss: 0.1553 - val_accuracy: 0.9627\n",
      "Epoch 45/50\n",
      "750/750 [==============================] - 5s 6ms/step - loss: 0.0636 - accuracy: 0.9785 - val_loss: 0.1576 - val_accuracy: 0.9638\n",
      "Epoch 46/50\n",
      "750/750 [==============================] - 6s 8ms/step - loss: 0.0635 - accuracy: 0.9792 - val_loss: 0.1620 - val_accuracy: 0.9629\n",
      "Epoch 47/50\n",
      "750/750 [==============================] - 6s 8ms/step - loss: 0.0629 - accuracy: 0.9789 - val_loss: 0.1750 - val_accuracy: 0.9632\n",
      "Epoch 48/50\n",
      "750/750 [==============================] - 6s 8ms/step - loss: 0.0634 - accuracy: 0.9792 - val_loss: 0.1706 - val_accuracy: 0.9621\n",
      "Epoch 49/50\n",
      "750/750 [==============================] - 6s 8ms/step - loss: 0.0618 - accuracy: 0.9790 - val_loss: 0.1692 - val_accuracy: 0.9622\n",
      "Epoch 50/50\n",
      "750/750 [==============================] - 4s 5ms/step - loss: 0.0615 - accuracy: 0.9792 - val_loss: 0.1859 - val_accuracy: 0.9603\n"
     ]
    }
   ],
   "source": [
    "model6.compile(optimizer=\"adam\",loss='categorical_crossentropy',metrics=['accuracy'])\n",
    "trained_model6=model6.fit(X_train,Y_train,batch_size=64,epochs=50,validation_split=0.2)"
   ]
  },
  {
   "cell_type": "code",
   "execution_count": 46,
   "metadata": {
    "colab": {
     "base_uri": "https://localhost:8080/",
     "height": 295
    },
    "id": "dTfqIb2g-IR7",
    "outputId": "2d592fd9-7a0e-487d-92fe-61a24dcd0d37"
   },
   "outputs": [
    {
     "data": {
      "image/png": "[encoded data removed]",
      "text/plain": [
       "<Figure size 432x288 with 1 Axes>"
      ]
     },
     "metadata": {
      "needs_background": "light"
     },
     "output_type": "display_data"
    }
   ],
   "source": [
    "plt.plot(trained_model6.history['accuracy'])\n",
    "plt.plot(trained_model6.history['val_accuracy'])\n",
    "plt.title('model accuracy')\n",
    "plt.ylabel('accuracy')\n",
    "plt.xlabel('epoch')\n",
    "plt.legend(['train','test'], loc='upper left')\n",
    "plt.show()"
   ]
  },
  {
   "cell_type": "code",
   "execution_count": 47,
   "metadata": {
    "colab": {
     "base_uri": "https://localhost:8080/",
     "height": 295
    },
    "id": "EbCTxTdC-IR8",
    "outputId": "3eec0e6c-ccc0-429d-a0a7-8fd532ba5763"
   },
   "outputs": [
    {
     "data": {
      "image/png": "[encoded data removed]",
      "text/plain": [
       "<Figure size 432x288 with 1 Axes>"
      ]
     },
     "metadata": {
      "needs_background": "light"
     },
     "output_type": "display_data"
    }
   ],
   "source": [
    "plt.plot(trained_model6.history['loss'])\n",
    "plt.plot(trained_model6.history['val_loss'])\n",
    "plt.title('model loss')\n",
    "plt.ylabel('loss')\n",
    "plt.xlabel('epoch')\n",
    "plt.legend(['train', 'test'], loc='upper left')\n",
    "plt.show()"
   ]
  },
  {
   "cell_type": "code",
   "execution_count": 48,
   "metadata": {},
   "outputs": [
    {
     "name": "stdout",
     "output_type": "stream",
     "text": [
      "              precision    recall  f1-score   support\n",
      "\n",
      "           0       0.97      0.99      0.98       980\n",
      "           1       0.98      0.99      0.98      1135\n",
      "           2       0.98      0.93      0.95      1032\n",
      "           3       0.92      0.97      0.95      1010\n",
      "           4       0.96      0.95      0.96       982\n",
      "           5       0.96      0.96      0.96       892\n",
      "           6       0.96      0.97      0.97       958\n",
      "           7       0.97      0.96      0.96      1028\n",
      "           8       0.96      0.94      0.95       974\n",
      "           9       0.95      0.96      0.95      1009\n",
      "\n",
      "    accuracy                           0.96     10000\n",
      "   macro avg       0.96      0.96      0.96     10000\n",
      "weighted avg       0.96      0.96      0.96     10000\n",
      "\n"
     ]
    }
   ],
   "source": [
    "Y_pred6=model6.predict(X_test)\n",
    "Y_pred6=Y_pred6.argmax(axis=1)\n",
    "print(classification_report(Y_test,Y_pred6))"
   ]
  },
  {
   "cell_type": "code",
   "execution_count": 49,
   "metadata": {
    "id": "Y-aNyf3R-IR-"
   },
   "outputs": [],
   "source": [
    "#ada graad"
   ]
  },
  {
   "cell_type": "code",
   "execution_count": 50,
   "metadata": {},
   "outputs": [
    {
     "name": "stdout",
     "output_type": "stream",
     "text": [
      "Model: \"sequential_6\"\n",
      "_________________________________________________________________\n",
      "Layer (type)                 Output Shape              Param #   \n",
      "=================================================================\n",
      "dense_18 (Dense)             (None, 20)                15700     \n",
      "_________________________________________________________________\n",
      "dense_19 (Dense)             (None, 40)                840       \n",
      "_________________________________________________________________\n",
      "dense_20 (Dense)             (None, 10)                410       \n",
      "=================================================================\n",
      "Total params: 16,950\n",
      "Trainable params: 16,950\n",
      "Non-trainable params: 0\n",
      "_________________________________________________________________\n"
     ]
    }
   ],
   "source": [
    "model7=tf.keras.Sequential([\n",
    "       tf.keras.layers.Dense(20,input_shape=(784,),activation=\"relu\"),\n",
    "       tf.keras.layers.Dense(40,activation=\"relu\"),\n",
    "       tf.keras.layers.Dense(10,activation=\"softmax\")\n",
    "])\n",
    "model7.summary()"
   ]
  },
  {
   "cell_type": "code",
   "execution_count": 51,
   "metadata": {},
   "outputs": [
    {
     "name": "stdout",
     "output_type": "stream",
     "text": [
      "Epoch 1/50\n",
      "1500/1500 [==============================] - 7s 5ms/step - loss: 1.9319 - accuracy: 0.3553 - val_loss: 1.5305 - val_accuracy: 0.6113\n",
      "Epoch 2/50\n",
      "1500/1500 [==============================] - 10s 6ms/step - loss: 1.2937 - accuracy: 0.6845 - val_loss: 1.0582 - val_accuracy: 0.7623\n",
      "Epoch 3/50\n",
      "1500/1500 [==============================] - 9s 6ms/step - loss: 0.9568 - accuracy: 0.7724 - val_loss: 0.8182 - val_accuracy: 0.8133\n",
      "Epoch 4/50\n",
      "1500/1500 [==============================] - 8s 6ms/step - loss: 0.7823 - accuracy: 0.8063 - val_loss: 0.6894 - val_accuracy: 0.8375\n",
      "Epoch 5/50\n",
      "1500/1500 [==============================] - 8s 6ms/step - loss: 0.6828 - accuracy: 0.8261 - val_loss: 0.6120 - val_accuracy: 0.8539\n",
      "Epoch 6/50\n",
      "1500/1500 [==============================] - 9s 6ms/step - loss: 0.6190 - accuracy: 0.8408 - val_loss: 0.5599 - val_accuracy: 0.8627\n",
      "Epoch 7/50\n",
      "1500/1500 [==============================] - 6s 4ms/step - loss: 0.5741 - accuracy: 0.8508 - val_loss: 0.5225 - val_accuracy: 0.8686\n",
      "Epoch 8/50\n",
      "1500/1500 [==============================] - 6s 4ms/step - loss: 0.5405 - accuracy: 0.8585 - val_loss: 0.4944 - val_accuracy: 0.8746\n",
      "Epoch 9/50\n",
      "1500/1500 [==============================] - 6s 4ms/step - loss: 0.5143 - accuracy: 0.8655 - val_loss: 0.4716 - val_accuracy: 0.8786\n",
      "Epoch 10/50\n",
      "1500/1500 [==============================] - 6s 4ms/step - loss: 0.4930 - accuracy: 0.8698 - val_loss: 0.4532 - val_accuracy: 0.8829\n",
      "Epoch 11/50\n",
      "1500/1500 [==============================] - 6s 4ms/step - loss: 0.4754 - accuracy: 0.8743 - val_loss: 0.4379 - val_accuracy: 0.8864\n",
      "Epoch 12/50\n",
      "1500/1500 [==============================] - 6s 4ms/step - loss: 0.4605 - accuracy: 0.8777 - val_loss: 0.4250 - val_accuracy: 0.8895\n",
      "Epoch 13/50\n",
      "1500/1500 [==============================] - 7s 5ms/step - loss: 0.4477 - accuracy: 0.8807 - val_loss: 0.4138 - val_accuracy: 0.8915\n",
      "Epoch 14/50\n",
      "1500/1500 [==============================] - 8s 5ms/step - loss: 0.4365 - accuracy: 0.8830 - val_loss: 0.4038 - val_accuracy: 0.8932\n",
      "Epoch 15/50\n",
      "1500/1500 [==============================] - 7s 5ms/step - loss: 0.4267 - accuracy: 0.8851 - val_loss: 0.3952 - val_accuracy: 0.8955\n",
      "Epoch 16/50\n",
      "1500/1500 [==============================] - 10s 7ms/step - loss: 0.4179 - accuracy: 0.8872 - val_loss: 0.3875 - val_accuracy: 0.8975\n",
      "Epoch 17/50\n",
      "1500/1500 [==============================] - 9s 6ms/step - loss: 0.4101 - accuracy: 0.8889 - val_loss: 0.3805 - val_accuracy: 0.8990\n",
      "Epoch 18/50\n",
      "1500/1500 [==============================] - 8s 6ms/step - loss: 0.4030 - accuracy: 0.8905 - val_loss: 0.3743 - val_accuracy: 0.8995\n",
      "Epoch 19/50\n",
      "1500/1500 [==============================] - 7s 5ms/step - loss: 0.3965 - accuracy: 0.8924 - val_loss: 0.3685 - val_accuracy: 0.9011\n",
      "Epoch 20/50\n",
      "1500/1500 [==============================] - 7s 5ms/step - loss: 0.3906 - accuracy: 0.8941 - val_loss: 0.3635 - val_accuracy: 0.9026\n",
      "Epoch 21/50\n",
      "1500/1500 [==============================] - 7s 5ms/step - loss: 0.3852 - accuracy: 0.8959 - val_loss: 0.3586 - val_accuracy: 0.9033\n",
      "Epoch 22/50\n",
      "1500/1500 [==============================] - 7s 4ms/step - loss: 0.3802 - accuracy: 0.8970 - val_loss: 0.3542 - val_accuracy: 0.9048\n",
      "Epoch 23/50\n",
      "1500/1500 [==============================] - 6s 4ms/step - loss: 0.3756 - accuracy: 0.8977 - val_loss: 0.3500 - val_accuracy: 0.9057\n",
      "Epoch 24/50\n",
      "1500/1500 [==============================] - 7s 4ms/step - loss: 0.3712 - accuracy: 0.8987 - val_loss: 0.3462 - val_accuracy: 0.9062\n",
      "Epoch 25/50\n",
      "1500/1500 [==============================] - 10s 7ms/step - loss: 0.3673 - accuracy: 0.8995 - val_loss: 0.3427 - val_accuracy: 0.9072\n",
      "Epoch 26/50\n",
      "1500/1500 [==============================] - 10s 6ms/step - loss: 0.3636 - accuracy: 0.9004 - val_loss: 0.3394 - val_accuracy: 0.9078\n",
      "Epoch 27/50\n",
      "1500/1500 [==============================] - 8s 6ms/step - loss: 0.3600 - accuracy: 0.9014 - val_loss: 0.3363 - val_accuracy: 0.9084\n",
      "Epoch 28/50\n",
      "1500/1500 [==============================] - 7s 5ms/step - loss: 0.3567 - accuracy: 0.9024 - val_loss: 0.3335 - val_accuracy: 0.9096\n",
      "Epoch 29/50\n",
      "1500/1500 [==============================] - 6s 4ms/step - loss: 0.3536 - accuracy: 0.9029 - val_loss: 0.3306 - val_accuracy: 0.9100\n",
      "Epoch 30/50\n",
      "1500/1500 [==============================] - 8s 5ms/step - loss: 0.3507 - accuracy: 0.9036 - val_loss: 0.3280 - val_accuracy: 0.9108\n",
      "Epoch 31/50\n",
      "1500/1500 [==============================] - 9s 6ms/step - loss: 0.3478 - accuracy: 0.9044 - val_loss: 0.3256 - val_accuracy: 0.9116\n",
      "Epoch 32/50\n",
      "1500/1500 [==============================] - 9s 6ms/step - loss: 0.3452 - accuracy: 0.9049 - val_loss: 0.3231 - val_accuracy: 0.9118\n",
      "Epoch 33/50\n",
      "1500/1500 [==============================] - 9s 6ms/step - loss: 0.3426 - accuracy: 0.9057 - val_loss: 0.3210 - val_accuracy: 0.9123\n",
      "Epoch 34/50\n",
      "1500/1500 [==============================] - 10s 6ms/step - loss: 0.3401 - accuracy: 0.9065 - val_loss: 0.3188 - val_accuracy: 0.9122\n",
      "Epoch 35/50\n",
      "1500/1500 [==============================] - 9s 6ms/step - loss: 0.3378 - accuracy: 0.9069 - val_loss: 0.3166 - val_accuracy: 0.9123\n",
      "Epoch 36/50\n",
      "1500/1500 [==============================] - 10s 7ms/step - loss: 0.3355 - accuracy: 0.9076 - val_loss: 0.3146 - val_accuracy: 0.9128\n",
      "Epoch 37/50\n",
      "1500/1500 [==============================] - 10s 7ms/step - loss: 0.3333 - accuracy: 0.9080 - val_loss: 0.3127 - val_accuracy: 0.9131\n",
      "Epoch 38/50\n",
      "1500/1500 [==============================] - 10s 6ms/step - loss: 0.3312 - accuracy: 0.9085 - val_loss: 0.3108 - val_accuracy: 0.9134\n",
      "Epoch 39/50\n",
      "1500/1500 [==============================] - 9s 6ms/step - loss: 0.3292 - accuracy: 0.9091 - val_loss: 0.3090 - val_accuracy: 0.9138\n",
      "Epoch 40/50\n",
      "1500/1500 [==============================] - 9s 6ms/step - loss: 0.3273 - accuracy: 0.9096 - val_loss: 0.3073 - val_accuracy: 0.9138\n",
      "Epoch 41/50\n",
      "1500/1500 [==============================] - 9s 6ms/step - loss: 0.3254 - accuracy: 0.9101 - val_loss: 0.3057 - val_accuracy: 0.9142\n",
      "Epoch 42/50\n",
      "1500/1500 [==============================] - 10s 7ms/step - loss: 0.3236 - accuracy: 0.9103 - val_loss: 0.3041 - val_accuracy: 0.9148\n",
      "Epoch 43/50\n",
      "1500/1500 [==============================] - 10s 6ms/step - loss: 0.3219 - accuracy: 0.9106 - val_loss: 0.3026 - val_accuracy: 0.9156\n",
      "Epoch 44/50\n",
      "1500/1500 [==============================] - 7s 5ms/step - loss: 0.3202 - accuracy: 0.9109 - val_loss: 0.3011 - val_accuracy: 0.9161\n",
      "Epoch 45/50\n",
      "1500/1500 [==============================] - 6s 4ms/step - loss: 0.3186 - accuracy: 0.9114 - val_loss: 0.2997 - val_accuracy: 0.9165\n",
      "Epoch 46/50\n",
      "1500/1500 [==============================] - 6s 4ms/step - loss: 0.3171 - accuracy: 0.9119 - val_loss: 0.2983 - val_accuracy: 0.9170\n",
      "Epoch 47/50\n",
      "1500/1500 [==============================] - 7s 5ms/step - loss: 0.3156 - accuracy: 0.9126 - val_loss: 0.2970 - val_accuracy: 0.9175\n",
      "Epoch 48/50\n",
      "1500/1500 [==============================] - 9s 6ms/step - loss: 0.3141 - accuracy: 0.9128 - val_loss: 0.2957 - val_accuracy: 0.9183\n",
      "Epoch 49/50\n",
      "1500/1500 [==============================] - 10s 6ms/step - loss: 0.3127 - accuracy: 0.9133 - val_loss: 0.2945 - val_accuracy: 0.9185\n",
      "Epoch 50/50\n",
      "1500/1500 [==============================] - 10s 6ms/step - loss: 0.3113 - accuracy: 0.9135 - val_loss: 0.2933 - val_accuracy: 0.9187\n"
     ]
    }
   ],
   "source": [
    "model7.compile(optimizer=\"adagrad\",loss='categorical_crossentropy',metrics=['accuracy'])\n",
    "trained_model7=model7.fit(X_train,Y_train,epochs=50,validation_split=0.2)"
   ]
  },
  {
   "cell_type": "code",
   "execution_count": 52,
   "metadata": {},
   "outputs": [
    {
     "data": {
      "image/png": "[encoded data removed]",
      "text/plain": [
       "<Figure size 432x288 with 1 Axes>"
      ]
     },
     "metadata": {
      "needs_background": "light"
     },
     "output_type": "display_data"
    }
   ],
   "source": [
    "plt.plot(trained_model7.history['accuracy'])\n",
    "plt.plot(trained_model7.history['val_accuracy'])\n",
    "plt.title('model accuracy')\n",
    "plt.ylabel('accuracy')\n",
    "plt.xlabel('epoch')\n",
    "plt.legend(['train','test'], loc='upper left')\n",
    "plt.show()"
   ]
  },
  {
   "cell_type": "code",
   "execution_count": 53,
   "metadata": {},
   "outputs": [
    {
     "data": {
      "image/png": "[encoded data removed]",
      "text/plain": [
       "<Figure size 432x288 with 1 Axes>"
      ]
     },
     "metadata": {
      "needs_background": "light"
     },
     "output_type": "display_data"
    }
   ],
   "source": [
    "plt.plot(trained_model7.history['loss'])\n",
    "plt.plot(trained_model7.history['val_loss'])\n",
    "plt.title('model loss')\n",
    "plt.ylabel('loss')\n",
    "plt.xlabel('epoch')\n",
    "plt.legend(['train','test'], loc='upper left')\n",
    "plt.show()"
   ]
  },
  {
   "cell_type": "code",
   "execution_count": 54,
   "metadata": {},
   "outputs": [
    {
     "name": "stdout",
     "output_type": "stream",
     "text": [
      "              precision    recall  f1-score   support\n",
      "\n",
      "           0       0.94      0.98      0.96       980\n",
      "           1       0.96      0.98      0.97      1135\n",
      "           2       0.92      0.88      0.90      1032\n",
      "           3       0.90      0.90      0.90      1010\n",
      "           4       0.90      0.93      0.91       982\n",
      "           5       0.91      0.87      0.89       892\n",
      "           6       0.92      0.94      0.93       958\n",
      "           7       0.92      0.91      0.92      1028\n",
      "           8       0.87      0.88      0.88       974\n",
      "           9       0.90      0.89      0.89      1009\n",
      "\n",
      "    accuracy                           0.92     10000\n",
      "   macro avg       0.91      0.91      0.91     10000\n",
      "weighted avg       0.92      0.92      0.92     10000\n",
      "\n"
     ]
    }
   ],
   "source": [
    "Y_pred7=model7.predict(X_test)\n",
    "Y_pred7=Y_pred7.argmax(axis=1)\n",
    "print(classification_report(Y_test,Y_pred7))"
   ]
  },
  {
   "cell_type": "code",
   "execution_count": 55,
   "metadata": {},
   "outputs": [],
   "source": [
    "#MANIPULATE epochs and batch_size"
   ]
  },
  {
   "cell_type": "code",
   "execution_count": 56,
   "metadata": {},
   "outputs": [
    {
     "name": "stdout",
     "output_type": "stream",
     "text": [
      "Model: \"sequential_7\"\n",
      "_________________________________________________________________\n",
      "Layer (type)                 Output Shape              Param #   \n",
      "=================================================================\n",
      "dense_21 (Dense)             (None, 20)                15700     \n",
      "_________________________________________________________________\n",
      "dense_22 (Dense)             (None, 40)                840       \n",
      "_________________________________________________________________\n",
      "dense_23 (Dense)             (None, 10)                410       \n",
      "=================================================================\n",
      "Total params: 16,950\n",
      "Trainable params: 16,950\n",
      "Non-trainable params: 0\n",
      "_________________________________________________________________\n"
     ]
    }
   ],
   "source": [
    "model8=tf.keras.Sequential([\n",
    "       tf.keras.layers.Dense(20,input_shape=(784,),activation=\"relu\"),\n",
    "       tf.keras.layers.Dense(40,activation=\"relu\"),\n",
    "       tf.keras.layers.Dense(10,activation=\"softmax\")\n",
    "])\n",
    "model8.summary()"
   ]
  },
  {
   "cell_type": "code",
   "execution_count": 57,
   "metadata": {},
   "outputs": [
    {
     "name": "stdout",
     "output_type": "stream",
     "text": [
      "Epoch 1/30\n",
      "1500/1500 [==============================] - 10s 7ms/step - loss: 0.4224 - accuracy: 0.8786 - val_loss: 0.2454 - val_accuracy: 0.9286\n",
      "Epoch 2/30\n",
      "1500/1500 [==============================] - 10s 6ms/step - loss: 0.2228 - accuracy: 0.9341 - val_loss: 0.1893 - val_accuracy: 0.9466\n",
      "Epoch 3/30\n",
      "1500/1500 [==============================] - 10s 7ms/step - loss: 0.1807 - accuracy: 0.9457 - val_loss: 0.1875 - val_accuracy: 0.9452\n",
      "Epoch 4/30\n",
      "1500/1500 [==============================] - 9s 6ms/step - loss: 0.1566 - accuracy: 0.9527 - val_loss: 0.1719 - val_accuracy: 0.9484\n",
      "Epoch 5/30\n",
      "1500/1500 [==============================] - 9s 6ms/step - loss: 0.1418 - accuracy: 0.9566 - val_loss: 0.1465 - val_accuracy: 0.9564\n",
      "Epoch 6/30\n",
      "1500/1500 [==============================] - 8s 6ms/step - loss: 0.1256 - accuracy: 0.9619 - val_loss: 0.1435 - val_accuracy: 0.9573\n",
      "Epoch 7/30\n",
      "1500/1500 [==============================] - 8s 5ms/step - loss: 0.1157 - accuracy: 0.9649 - val_loss: 0.1392 - val_accuracy: 0.9585\n",
      "Epoch 8/30\n",
      "1500/1500 [==============================] - 10s 7ms/step - loss: 0.1075 - accuracy: 0.9674 - val_loss: 0.1440 - val_accuracy: 0.9580\n",
      "Epoch 9/30\n",
      "1500/1500 [==============================] - 8s 5ms/step - loss: 0.1012 - accuracy: 0.9681 - val_loss: 0.1413 - val_accuracy: 0.9591\n",
      "Epoch 10/30\n",
      "1500/1500 [==============================] - 7s 5ms/step - loss: 0.0950 - accuracy: 0.9707 - val_loss: 0.1456 - val_accuracy: 0.9566\n",
      "Epoch 11/30\n",
      "1500/1500 [==============================] - 7s 5ms/step - loss: 0.0896 - accuracy: 0.9728 - val_loss: 0.1432 - val_accuracy: 0.9587\n",
      "Epoch 12/30\n",
      "1500/1500 [==============================] - 7s 5ms/step - loss: 0.0835 - accuracy: 0.9738 - val_loss: 0.1382 - val_accuracy: 0.9605\n",
      "Epoch 13/30\n",
      "1500/1500 [==============================] - 6s 4ms/step - loss: 0.0811 - accuracy: 0.9744 - val_loss: 0.1352 - val_accuracy: 0.9617\n",
      "Epoch 14/30\n",
      "1500/1500 [==============================] - 10s 6ms/step - loss: 0.0762 - accuracy: 0.9759 - val_loss: 0.1360 - val_accuracy: 0.9620\n",
      "Epoch 15/30\n",
      "1500/1500 [==============================] - 10s 7ms/step - loss: 0.0733 - accuracy: 0.9766 - val_loss: 0.1361 - val_accuracy: 0.9618\n",
      "Epoch 16/30\n",
      "1500/1500 [==============================] - 7s 5ms/step - loss: 0.0680 - accuracy: 0.9786 - val_loss: 0.1406 - val_accuracy: 0.9624\n",
      "Epoch 17/30\n",
      "1500/1500 [==============================] - 6s 4ms/step - loss: 0.0676 - accuracy: 0.9791 - val_loss: 0.1323 - val_accuracy: 0.9625\n",
      "Epoch 18/30\n",
      "1500/1500 [==============================] - 9s 6ms/step - loss: 0.0643 - accuracy: 0.9795 - val_loss: 0.1414 - val_accuracy: 0.9638\n",
      "Epoch 19/30\n",
      "1500/1500 [==============================] - 9s 6ms/step - loss: 0.0612 - accuracy: 0.9804 - val_loss: 0.1378 - val_accuracy: 0.9626\n",
      "Epoch 20/30\n",
      "1500/1500 [==============================] - 10s 6ms/step - loss: 0.0588 - accuracy: 0.9809 - val_loss: 0.1520 - val_accuracy: 0.9600\n",
      "Epoch 21/30\n",
      "1500/1500 [==============================] - 6s 4ms/step - loss: 0.0567 - accuracy: 0.9819 - val_loss: 0.1388 - val_accuracy: 0.9641\n",
      "Epoch 22/30\n",
      "1500/1500 [==============================] - 8s 5ms/step - loss: 0.0537 - accuracy: 0.9822 - val_loss: 0.1495 - val_accuracy: 0.9604\n",
      "Epoch 23/30\n",
      "1500/1500 [==============================] - 7s 4ms/step - loss: 0.0519 - accuracy: 0.9825 - val_loss: 0.1423 - val_accuracy: 0.9653\n",
      "Epoch 24/30\n",
      "1500/1500 [==============================] - 7s 5ms/step - loss: 0.0498 - accuracy: 0.9836 - val_loss: 0.1531 - val_accuracy: 0.9623\n",
      "Epoch 25/30\n",
      "1500/1500 [==============================] - 10s 7ms/step - loss: 0.0470 - accuracy: 0.9840 - val_loss: 0.1611 - val_accuracy: 0.9599\n",
      "Epoch 26/30\n",
      "1500/1500 [==============================] - 9s 6ms/step - loss: 0.0465 - accuracy: 0.9842 - val_loss: 0.1576 - val_accuracy: 0.9603\n",
      "Epoch 27/30\n",
      "1500/1500 [==============================] - 10s 7ms/step - loss: 0.0440 - accuracy: 0.9855 - val_loss: 0.1594 - val_accuracy: 0.9626\n",
      "Epoch 28/30\n",
      "1500/1500 [==============================] - 8s 6ms/step - loss: 0.0432 - accuracy: 0.9857 - val_loss: 0.1593 - val_accuracy: 0.9608\n",
      "Epoch 29/30\n",
      "1500/1500 [==============================] - 10s 6ms/step - loss: 0.0399 - accuracy: 0.9871 - val_loss: 0.1702 - val_accuracy: 0.9593\n",
      "Epoch 30/30\n",
      "1500/1500 [==============================] - 8s 6ms/step - loss: 0.0402 - accuracy: 0.9866 - val_loss: 0.1716 - val_accuracy: 0.9589\n"
     ]
    }
   ],
   "source": [
    "model8.compile(optimizer=\"adam\",loss='categorical_crossentropy',metrics=['accuracy'])\n",
    "trained_model8=model8.fit(X_train,Y_train,batch_size=32,epochs=30,validation_split=0.2)"
   ]
  },
  {
   "cell_type": "code",
   "execution_count": 58,
   "metadata": {},
   "outputs": [
    {
     "data": {
      "image/png": "[encoded data removed]",
      "text/plain": [
       "<Figure size 432x288 with 1 Axes>"
      ]
     },
     "metadata": {
      "needs_background": "light"
     },
     "output_type": "display_data"
    }
   ],
   "source": [
    "plt.plot(trained_model8.history['accuracy'])\n",
    "plt.plot(trained_model8.history['val_accuracy'])\n",
    "plt.title('model accuracy')\n",
    "plt.ylabel('accuracy')\n",
    "plt.xlabel('epoch')\n",
    "plt.legend(['train','test'], loc='upper left')\n",
    "plt.show()"
   ]
  },
  {
   "cell_type": "code",
   "execution_count": 59,
   "metadata": {},
   "outputs": [
    {
     "data": {
      "image/png": "[encoded data removed]",
      "text/plain": [
       "<Figure size 432x288 with 1 Axes>"
      ]
     },
     "metadata": {
      "needs_background": "light"
     },
     "output_type": "display_data"
    }
   ],
   "source": [
    "plt.plot(trained_model8.history['loss'])\n",
    "plt.plot(trained_model8.history['val_loss'])\n",
    "plt.title('model loss')\n",
    "plt.ylabel('loss')\n",
    "plt.xlabel('epoch')\n",
    "plt.legend(['train','test'], loc='upper left')\n",
    "plt.show()"
   ]
  },
  {
   "cell_type": "code",
   "execution_count": 60,
   "metadata": {},
   "outputs": [
    {
     "name": "stdout",
     "output_type": "stream",
     "text": [
      "              precision    recall  f1-score   support\n",
      "\n",
      "           0       0.97      0.99      0.98       980\n",
      "           1       0.97      0.99      0.98      1135\n",
      "           2       0.97      0.95      0.96      1032\n",
      "           3       0.95      0.94      0.95      1010\n",
      "           4       0.97      0.96      0.96       982\n",
      "           5       0.97      0.92      0.94       892\n",
      "           6       0.96      0.98      0.97       958\n",
      "           7       0.96      0.96      0.96      1028\n",
      "           8       0.91      0.97      0.94       974\n",
      "           9       0.98      0.93      0.95      1009\n",
      "\n",
      "    accuracy                           0.96     10000\n",
      "   macro avg       0.96      0.96      0.96     10000\n",
      "weighted avg       0.96      0.96      0.96     10000\n",
      "\n"
     ]
    }
   ],
   "source": [
    "Y_pred8=model8.predict(X_test)\n",
    "Y_pred8=Y_pred8.argmax(axis=1)\n",
    "print(classification_report(Y_test,Y_pred8))"
   ]
  }
 ],
 "metadata": {
  "colab": {
   "collapsed_sections": [],
   "name": "MLP_FASHION.ipynb",
   "provenance": []
  },
  "kernelspec": {
   "display_name": "Python 3",
   "language": "python",
   "name": "python3"
  },
  "language_info": {
   "codemirror_mode": {
    "name": "ipython",
    "version": 3
   },
   "file_extension": ".py",
   "mimetype": "text/x-python",
   "name": "python",
   "nbconvert_exporter": "python",
   "pygments_lexer": "ipython3",
   "version": "3.7.4"
  }
 },
 "nbformat": 4,
 "nbformat_minor": 1
}
